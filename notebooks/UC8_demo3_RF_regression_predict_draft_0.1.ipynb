{
 "cells": [
  {
   "cell_type": "markdown",
   "id": "c760cedb-d627-4c3a-a198-83e71df9eeb9",
   "metadata": {},
   "source": [
    "<img src=\"https://avatars.githubusercontent.com/u/74911464?s=200&v=4\"\n",
    "     alt=\"OpenEO Platform logo\"\n",
    "     style=\"float: left; margin-right: 10px;\" />\n",
    "# openEO Platform UC8\n",
    "## Random Forest Regression - Fractional Canopy Cover prediction"
   ]
  },
  {
   "cell_type": "markdown",
   "id": "c431dd6d",
   "metadata": {},
   "source": [
    "### Requirements"
   ]
  },
  {
   "cell_type": "code",
   "execution_count": 1,
   "id": "db8b5896",
   "metadata": {},
   "outputs": [],
   "source": [
    "import openeo\n",
    "from openeo.processes import median, mean\n",
    "from openeo.rest.datacube import PGNode, THIS\n",
    "import geopandas as gpd"
   ]
  },
  {
   "cell_type": "markdown",
   "id": "af585131",
   "metadata": {},
   "source": [
    "## Connection"
   ]
  },
  {
   "cell_type": "markdown",
   "id": "b65d9538",
   "metadata": {},
   "source": [
    "Connect to the OpenEO back-end"
   ]
  },
  {
   "cell_type": "code",
   "execution_count": 2,
   "id": "6fa11ae3",
   "metadata": {},
   "outputs": [],
   "source": [
    "# conn = openeo.connect(\"openeo.cloud\")\n",
    "conn = openeo.connect(\"https://openeo-dev.eodc.eu/v1.0\")"
   ]
  },
  {
   "cell_type": "markdown",
   "id": "c53e42d5",
   "metadata": {},
   "source": [
    "Authenticate via EGI Check-in (OpenID Connect)"
   ]
  },
  {
   "cell_type": "code",
   "execution_count": 3,
   "id": "d9d6f113",
   "metadata": {},
   "outputs": [
    {
     "name": "stdout",
     "output_type": "stream",
     "text": [
      "Authenticated using refresh token.\n"
     ]
    },
    {
     "data": {
      "text/plain": [
       "<Connection to 'https://openeo-dev.eodc.eu/v1.0' with BearerAuth>"
      ]
     },
     "execution_count": 3,
     "metadata": {},
     "output_type": "execute_result"
    }
   ],
   "source": [
    "conn.authenticate_oidc(\"egi\")"
   ]
  },
  {
   "cell_type": "markdown",
   "id": "f3e4d503-1c39-433d-bfd3-1a91378f7eb5",
   "metadata": {},
   "source": [
    "In the previous notebook, we have trained a Random Forest Regression model with the Fractional Canopy Cover data. Now it's time to predict the values over a large area and inspect the result."
   ]
  },
  {
   "cell_type": "markdown",
   "id": "558704b2-720e-4e78-93a3-b0d5f2a26564",
   "metadata": {},
   "source": [
    "The spatial extent must be within the boundaries of the `boa_sentinel_2` and `SIG0_Sentinel_1` collections:"
   ]
  },
  {
   "cell_type": "code",
   "execution_count": 5,
   "id": "f7dd8e0d-92fd-4a78-b418-4d1933acd8ef",
   "metadata": {},
   "outputs": [],
   "source": [
    "spatial_extent  =  {\"west\":10.454955,\n",
    "                    \"east\":12.037297,\n",
    "                    \"south\":46.102185,\n",
    "                    \"north\":47.053657}"
   ]
  },
  {
   "cell_type": "markdown",
   "id": "b3b97fb5-86b9-41a3-a258-ab81c9769fb5",
   "metadata": {},
   "source": [
    "Load the Sentinel-2 data for summer 2018 and take the median over time:"
   ]
  },
  {
   "cell_type": "code",
   "execution_count": 6,
   "id": "1583902b-f519-438b-8446-8a4fac06b982",
   "metadata": {},
   "outputs": [],
   "source": [
    "collection      = \"boa_sentinel_2\"\n",
    "temporal_extent = [\"2018-05-01\", \"2018-09-01\"]\n",
    "bands           = [\"B02\",\"B03\",\"B04\",\"B08\"]\n",
    "\n",
    "boa_sentinel_2_cube = conn.load_collection(\n",
    "    collection_id   = collection,\n",
    "    spatial_extent  = spatial_extent,\n",
    "    temporal_extent = temporal_extent,\n",
    "    bands = bands\n",
    "    )\n",
    "boa_sentinel_2_cube_reduced = boa_sentinel_2_cube.reduce_dimension(dimension=\"t\",reducer=median)"
   ]
  },
  {
   "cell_type": "markdown",
   "id": "1538da89-7665-42b3-8ee8-7c6309502b74",
   "metadata": {},
   "source": [
    "Load the Sentinel-1 data for summer 2018 and take the median over time:"
   ]
  },
  {
   "cell_type": "code",
   "execution_count": 7,
   "id": "203855e2-210a-4f2d-8a79-985f03ab2516",
   "metadata": {
    "tags": []
   },
   "outputs": [],
   "source": [
    "collection      = \"SIG0_Sentinel_1\"\n",
    "temporal_extent = [\"2018-05-01\", \"2018-09-01\"]\n",
    "bands           = [\"vh\",\"vv\"]\n",
    "\n",
    "sigma0_sentinel_1_cube = conn.load_collection(\n",
    "    collection_id   = collection,\n",
    "    spatial_extent  = spatial_extent,\n",
    "    temporal_extent = temporal_extent,\n",
    "    bands = bands\n",
    "    )\n",
    "sigma0_sentinel_1_cube_reduced = sigma0_sentinel_1_cube.reduce_dimension(dimension=\"t\",reducer=median)"
   ]
  },
  {
   "cell_type": "markdown",
   "id": "1d97b94a-0ef0-4498-b6fa-8fac79e4dc33",
   "metadata": {},
   "source": [
    "Reproject Sentinel-1 20m to match the Sentinel-2 data in 10m using `resample_cube_spatial` and nearest neighbor interpolation (default):"
   ]
  },
  {
   "cell_type": "code",
   "execution_count": 8,
   "id": "e10932c1-7aac-4064-8b0f-bedfb03d36a4",
   "metadata": {},
   "outputs": [],
   "source": [
    "sigma0_sentinel_1_cube_reduced_10m = sigma0_sentinel_1_cube_reduced.resample_cube_spatial(target=boa_sentinel_2_cube_reduced)"
   ]
  },
  {
   "cell_type": "markdown",
   "id": "71e432c1-5a2e-43f3-a3af-90f30cd80b4c",
   "metadata": {},
   "source": [
    "Merge Sentinel-2 and Sentinel-1 into a single datacube"
   ]
  },
  {
   "cell_type": "code",
   "execution_count": 9,
   "id": "388440b2-a965-4f8b-a3bc-f2dd2ca26dcb",
   "metadata": {},
   "outputs": [],
   "source": [
    "sentinel_2_and_1 = sigma0_sentinel_1_cube_reduced_10m.merge_cubes(boa_sentinel_2_cube_reduced)"
   ]
  },
  {
   "cell_type": "markdown",
   "id": "0cca4d2a-7e4b-4bbe-b1fd-6acb4cabd36d",
   "metadata": {},
   "source": [
    "Flatten the x and y dimension to get a 2 dimensional datacube to feed into the Random Forest."
   ]
  },
  {
   "cell_type": "code",
   "execution_count": 10,
   "id": "c13e94a2-c2d1-4ff4-9e20-27c545f3d215",
   "metadata": {},
   "outputs": [],
   "source": [
    "sentinel_2_and_1_flat = sentinel_2_and_1.process(\"flatten_dimensions\",{\"data\":THIS,\"dimensions\":[\"y\",\"x\"], \"target_dimension\":\"result\"})"
   ]
  },
  {
   "cell_type": "markdown",
   "id": "15e7057a-c893-49e9-aff2-12070fef9961",
   "metadata": {},
   "source": [
    "We start loading our previously generated model. We can use the job id of the correspondent batch job or the URL of the result .json file with the model."
   ]
  },
  {
   "cell_type": "code",
   "execution_count": null,
   "id": "0cdf71fe",
   "metadata": {},
   "outputs": [],
   "source": [
    "model_job_id = \"\"\n",
    "rf_regr_model = PGNode(\"load_ml_model\", {\"model\": model_job_id})"
   ]
  },
  {
   "cell_type": "markdown",
   "id": "7dcc94d1-a0ab-4992-9238-cb564891ce41",
   "metadata": {},
   "source": [
    "Feed the flattened data and the model in `predict_random_forest` witin a `reduce_dimension` (we are reducing the bands to a single one, the fractional canopy cover)"
   ]
  },
  {
   "cell_type": "code",
   "execution_count": 17,
   "id": "193797ea-1d16-4802-9863-a80bd50b0219",
   "metadata": {},
   "outputs": [],
   "source": [
    "fractional_canopy_cover_flat = sentinel_2_and_1_flat.process(\"predict_random_forest\",{\"data\":THIS, \"dimension\":\"bands\", \"model\":rf_regr_model})"
   ]
  },
  {
   "cell_type": "markdown",
   "id": "fc07cc98-e513-4515-a252-21845c1e8e0c",
   "metadata": {},
   "source": [
    "Get the data back to its original shape in x and y dimensions:"
   ]
  },
  {
   "cell_type": "code",
   "execution_count": 18,
   "id": "18805dbe-38a7-412d-a85e-863f7bcc6e65",
   "metadata": {},
   "outputs": [],
   "source": [
    "fractional_canopy_cover = fractional_canopy_cover_flat.process(\"unflatten_dimension\",{\"data\":THIS,\"dimensions\":\"result\", \"target_dimension\":[\"y\",\"x\"]})"
   ]
  },
  {
   "cell_type": "code",
   "execution_count": 13,
   "id": "d1aa208d-0fcd-4873-bf3f-340fb0a365cd",
   "metadata": {},
   "outputs": [],
   "source": [
    "fractional_canopy_cover_netcdf = fractional_canopy_cover.save_result(format=\"netCDF\")"
   ]
  },
  {
   "cell_type": "code",
   "execution_count": null,
   "id": "dd9707aa-c7f8-4c35-b0d0-2896aa31efca",
   "metadata": {},
   "outputs": [],
   "source": [
    "job = fractional_canopy_cover_netcdf.send_job(title=\"UC8_predict_rf_regr\")\n",
    "job_id = job.job_id\n",
    "if job_id:\n",
    "    print(\"Batch job created with id: \",job_id)\n",
    "    job.start_job()\n",
    "else:\n",
    "    print(\"Error! Job ID is None\")"
   ]
  }
 ],
 "metadata": {
  "kernelspec": {
   "display_name": "Python 3",
   "language": "python",
   "name": "python3"
  },
  "language_info": {
   "codemirror_mode": {
    "name": "ipython",
    "version": 3
   },
   "file_extension": ".py",
   "mimetype": "text/x-python",
   "name": "python",
   "nbconvert_exporter": "python",
   "pygments_lexer": "ipython3",
   "version": "3.7.10"
  }
 },
 "nbformat": 4,
 "nbformat_minor": 5
}
