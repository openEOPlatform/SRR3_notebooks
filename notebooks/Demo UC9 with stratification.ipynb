{
 "cells": [
  {
   "cell_type": "markdown",
   "id": "4d70873f",
   "metadata": {},
   "source": [
    "<img src=\"https://avatars.githubusercontent.com/u/74911464?s=200&v=4\"\n",
    "     alt=\"OpenEO Platform logo\"\n",
    "     style=\"float: left; margin-right: 10px;\" />\n",
    "# OpenEO Platform - UC9\n",
    "Dynamic large area land cover mapping"
   ]
  },
  {
   "cell_type": "code",
   "execution_count": 1,
   "id": "73bf537b",
   "metadata": {},
   "outputs": [],
   "source": [
    "import openeo\n",
    "import geopandas as gpd\n",
    "import pandas as pd\n",
    "from openeo_classification.landuse_classification import *\n",
    "from datetime import date\n",
    "import ipywidgets as widgets\n",
    "from sklearn.model_selection import train_test_split\n",
    "import datetime\n",
    "import json\n",
    "from pathlib import Path"
   ]
  },
  {
   "cell_type": "markdown",
   "id": "11c9fe12",
   "metadata": {},
   "source": [
    "## Objectives and approach\n",
    "\n",
    "In this notebook we will be studying land cover mapping. Land cover mapping has been done since the onset of remote sensing, and LC products have been identified as a fundamental variable needed for studying the functional and morphological changes occurring in the Earth's ecosystems and the environment, and plays therefore an important role in studying climate change and carbon circulation (Congalton et al., 2014; Feddema et al., 2005; Sellers et al., 1997). In addition to that, it provides valuable information for policy development and a wide range of applications within natural sciences and life sciences, making it one of the most widely studied applications within remote sensing (Yu et al., 2014, Tucker et al., 1985; Running, 2008; Yang et al., 2013).\n",
    "\n",
    "With this variety in application fields comes a variety of user needs. Depending on the use case, there may be large differences in the target labels desired, the target year(s) requested, the output resolution needed, the featureset used, the stratification strategy employed, and more. The goal of this use case is to show that OpenEO as a platform can deal with this variability, and we will do so through creating a userfriendly interface in which the user can set a variety of parameters that will tailor the pipeline from -reference set & L2A+GRD > to model > to inference- to the users needs."
   ]
  },
  {
   "cell_type": "markdown",
   "id": "46deb82a",
   "metadata": {},
   "source": [
    "## Methodology\n",
    "\n",
    "#### Reference data \n",
    "The reference dataset used in this project is the Land Use/Cover Area frame Survey (LUCAS) Copernicus dataset. LUCAS is an evenly spaced in-situ land use and land cover ground survey exercise that extends over the entire of the European Union. The Copernicus module extends up to 51m in four cardinal directions to delineate polygons for each of these points. The final product contains about 60,000 polygons, from which subsequent points can be sampled (d'Andrimont et al., 2021). The user can specify how many points to sample from these polygons to train his model. In addition, the user can upload extra target data to improve performance.\n",
    "\n",
    "#### Input data\n",
    "The service created runs on features constructed from GRD sigma0 and L2A data. This data will be accessed through OpenEO platform from Terrascope and  SentinelHub. The extracted data stems from 01-01-2018 to 31-12-2018, corresponding to the year of collection of the LUCAS dataset (2018) on the basis of which the model was trained. Data from other years can be extracted for prediction, provided that the user uploads their own reference set.\n",
    "\n",
    "From S2: calculation of 7 indices (NDVI, NDMI, NDGI, ANIR, NDRE1, NDRE2, NDRE5) and keeping 2 bands (B06, B12)\n",
    "From S1: VV, VH and VV/VH\n",
    "For all of these, 10 features: p25, p50, p75, sd and 6 t-steps, with flexible range\n",
    "\n",
    "#### Preprocessing\n",
    "The L2A data has been masked using the sen2cor sceneclassification, with a buffering approach developed at VITO and made available as a process called mask_scl_dilation.\n",
    "\n",
    "#### Feature engineering\n",
    "From the L2A data, 7 indices were calculated: the NDVI, NDMI, NDGI, NDRE1, NDRE2, NDRE5 and ANIR. After calculating the indices, most bands were dropped except for B06 and B12. The outputs are rescaled to 0 to 30000 for the sake of computational efficiency. The indices are aggregated temporally with a step size of 10 days with an overlap of 10 days by taking the median. The output is then interpolated linearly to end up with a timeseries. The linear interpolation calculates an interpolated value for every NA value, except for trailing and leading NA’s.\n",
    "From the Sentinel-1 GRD collection, backscatter is calculated. The ratio of VV / VH backscatter is calculated and rescaled to 0-30000. The timeseries is then aggregated temporally with a step size of 12 and an overlap of 6 by taking the mean. The interpolation output is repeated even though there should not be any missing values in this set. Next, the S1 cube is resampled spatially.\n",
    "Next, the two datacubes are merged and 10 features are calculated on each of the band dimensions. These 10 features are the standard deviation, 25th, 50th and 75th percentile, and 6 equidistant t-steps. Through this procedure, we end up with a total of 120 features (12 bands x 10 features).\n",
    "\n",
    "#### Model\n",
    "Where previously models had to be trained outside of openEO, we can now train Random Forest models in openEO itself. Hyperparameter tuning can be performed using a custom hyperparameter set, and models can be constructed using either feature fusion or decision fusion, i.e., combine all S1 and S2 features and train one model, or train one model on the S1 features and one on the S2 features, and combine the models later. Random Forest was chosen as implementation as it is a fairly basic algorithm that trains rather quickly. Models can be trained using a stratification layer uploaded by the user, resulting in one model per stratification class. After training, the model(s) are validated and the model is used for prediction."
   ]
  },
  {
   "cell_type": "markdown",
   "id": "ab44d7e0",
   "metadata": {},
   "source": [
    "## Implementation\n",
    "First, create an area of interest for which you want do this classification, and potentially a stratification layer if you would like to make use of stratification. Tune the other parameters to your personal preference.\n",
    "\n",
    "An important point to take into account is that for now, the area of interest needs to be within the same UTM zone."
   ]
  },
  {
   "cell_type": "code",
   "execution_count": 2,
   "id": "e2e3447b",
   "metadata": {
    "scrolled": false
   },
   "outputs": [
    {
     "data": {
      "application/vnd.jupyter.widget-view+json": {
       "model_id": "199cb17afe6641429738fa4e28fb778c",
       "version_major": 2,
       "version_minor": 0
      },
      "text/plain": [
       "Box(children=(Label(value='Train / test split:'), FloatSlider(value=0.75, max=1.0, step=0.05)))"
      ]
     },
     "metadata": {},
     "output_type": "display_data"
    },
    {
     "data": {
      "application/vnd.jupyter.widget-view+json": {
       "model_id": "164c08ef9cc445b8b9f514e1d06fad27",
       "version_major": 2,
       "version_minor": 0
      },
      "text/plain": [
       "Dropdown(description='Model:', disabled=True, options=('Random Forest',), value='Random Forest')"
      ]
     },
     "metadata": {},
     "output_type": "display_data"
    },
    {
     "data": {
      "application/vnd.jupyter.widget-view+json": {
       "model_id": "c224e54769d142e181aa5a4f95029366",
       "version_major": 2,
       "version_minor": 0
      },
      "text/plain": [
       "Box(children=(Label(value='Hyperparameters RF model:'), IntText(value=200, description='Nr trees:')))"
      ]
     },
     "metadata": {},
     "output_type": "display_data"
    },
    {
     "data": {
      "application/vnd.jupyter.widget-view+json": {
       "model_id": "bccfd4148f104f4794c65dd06651ae01",
       "version_major": 2,
       "version_minor": 0
      },
      "text/plain": [
       "Box(children=(Label(value='S1 / S2 fusion:'), RadioButtons(disabled=True, options=('Feature fusion', 'Decision…"
      ]
     },
     "metadata": {},
     "output_type": "display_data"
    },
    {
     "data": {
      "application/vnd.jupyter.widget-view+json": {
       "model_id": "8170147745c149e09b2ee4f916ccc260",
       "version_major": 2,
       "version_minor": 0
      },
      "text/plain": [
       "FileUpload(value={}, accept='.geojson,.shp', description='Upload AOI sampling', layout=Layout(width='20em'))"
      ]
     },
     "metadata": {},
     "output_type": "display_data"
    },
    {
     "data": {
      "application/vnd.jupyter.widget-view+json": {
       "model_id": "d9e56ef437984fb89252e9c2d6be0ee4",
       "version_major": 2,
       "version_minor": 0
      },
      "text/plain": [
       "FileUpload(value={}, accept='.geojson,.shp', description='Upload AOI inference', layout=Layout(width='20em'))"
      ]
     },
     "metadata": {},
     "output_type": "display_data"
    },
    {
     "data": {
      "application/vnd.jupyter.widget-view+json": {
       "model_id": "6fac6edf80784dae96068c8965838f85",
       "version_major": 2,
       "version_minor": 0
      },
      "text/plain": [
       "DatePicker(value=datetime.date(2018, 3, 1), description='Start date')"
      ]
     },
     "metadata": {},
     "output_type": "display_data"
    },
    {
     "data": {
      "application/vnd.jupyter.widget-view+json": {
       "model_id": "168df1dce4ed4fb990d8a4b1cd015a95",
       "version_major": 2,
       "version_minor": 0
      },
      "text/plain": [
       "DatePicker(value=datetime.date(2018, 10, 31), description='End date')"
      ]
     },
     "metadata": {},
     "output_type": "display_data"
    },
    {
     "data": {
      "application/vnd.jupyter.widget-view+json": {
       "model_id": "09a3e997c1c04b9ba92b5137145e65ea",
       "version_major": 2,
       "version_minor": 0
      },
      "text/plain": [
       "Box(children=(Label(value='Select the amount of target classes:'), IntSlider(value=8, max=37, min=2)))"
      ]
     },
     "metadata": {},
     "output_type": "display_data"
    },
    {
     "data": {
      "application/vnd.jupyter.widget-view+json": {
       "model_id": "025dac75f4cf4da6afb56674338c09f5",
       "version_major": 2,
       "version_minor": 0
      },
      "text/plain": [
       "Box(children=(Label(value='Select the amount of times you want to point sample each reference polygon:'), IntS…"
      ]
     },
     "metadata": {},
     "output_type": "display_data"
    }
   ],
   "source": [
    "split, algorithm, nrtrees, fusion_technique, aoi_sampling, aoi_inference, start_date, end_date, nr_targets, nr_samples_per_polygon = getStartingWidgets()"
   ]
  },
  {
   "cell_type": "markdown",
   "id": "5394aa3f",
   "metadata": {},
   "source": [
    "Select your final target classes"
   ]
  },
  {
   "cell_type": "code",
   "execution_count": 3,
   "id": "811e7fc1",
   "metadata": {},
   "outputs": [
    {
     "data": {
      "application/vnd.jupyter.widget-view+json": {
       "model_id": "072bda34bb7d487bbe77828ebd851442",
       "version_major": 2,
       "version_minor": 0
      },
      "text/plain": [
       "SelectMultiple(description='Target class', options=('A00: Artificial land', 'A10: Roofed built-up areas', 'A20…"
      ]
     },
     "metadata": {},
     "output_type": "display_data"
    },
    {
     "data": {
      "application/vnd.jupyter.widget-view+json": {
       "model_id": "af7093b12b104790b457b0699675b83c",
       "version_major": 2,
       "version_minor": 0
      },
      "text/plain": [
       "SelectMultiple(description='Target class', options=('A00: Artificial land', 'A10: Roofed built-up areas', 'A20…"
      ]
     },
     "metadata": {},
     "output_type": "display_data"
    },
    {
     "data": {
      "application/vnd.jupyter.widget-view+json": {
       "model_id": "52768cee4b314c17b3f22dbdd8ae75e7",
       "version_major": 2,
       "version_minor": 0
      },
      "text/plain": [
       "SelectMultiple(description='Target class', options=('A00: Artificial land', 'A10: Roofed built-up areas', 'A20…"
      ]
     },
     "metadata": {},
     "output_type": "display_data"
    },
    {
     "data": {
      "application/vnd.jupyter.widget-view+json": {
       "model_id": "3da7f50ffebb4eeb9181335368ab481b",
       "version_major": 2,
       "version_minor": 0
      },
      "text/plain": [
       "SelectMultiple(description='Target class', options=('A00: Artificial land', 'A10: Roofed built-up areas', 'A20…"
      ]
     },
     "metadata": {},
     "output_type": "display_data"
    },
    {
     "data": {
      "application/vnd.jupyter.widget-view+json": {
       "model_id": "f9b8d0e4fe67453abb1717e375c3b4d1",
       "version_major": 2,
       "version_minor": 0
      },
      "text/plain": [
       "SelectMultiple(description='Target class', options=('A00: Artificial land', 'A10: Roofed built-up areas', 'A20…"
      ]
     },
     "metadata": {},
     "output_type": "display_data"
    },
    {
     "data": {
      "application/vnd.jupyter.widget-view+json": {
       "model_id": "c9acb67c4c1840189d56f3dacbab9541",
       "version_major": 2,
       "version_minor": 0
      },
      "text/plain": [
       "SelectMultiple(description='Target class', options=('A00: Artificial land', 'A10: Roofed built-up areas', 'A20…"
      ]
     },
     "metadata": {},
     "output_type": "display_data"
    },
    {
     "data": {
      "application/vnd.jupyter.widget-view+json": {
       "model_id": "658cb18882674c94bde487c305b2968f",
       "version_major": 2,
       "version_minor": 0
      },
      "text/plain": [
       "SelectMultiple(description='Target class', options=('A00: Artificial land', 'A10: Roofed built-up areas', 'A20…"
      ]
     },
     "metadata": {},
     "output_type": "display_data"
    },
    {
     "data": {
      "application/vnd.jupyter.widget-view+json": {
       "model_id": "0e9311c6a0b448d997a22a5794e12460",
       "version_major": 2,
       "version_minor": 0
      },
      "text/plain": [
       "SelectMultiple(description='Target class', options=('A00: Artificial land', 'A10: Roofed built-up areas', 'A20…"
      ]
     },
     "metadata": {},
     "output_type": "display_data"
    }
   ],
   "source": [
    "target_classes = getTargetClasses(nr_targets)"
   ]
  },
  {
   "cell_type": "markdown",
   "id": "a1db4e8f",
   "metadata": {},
   "source": [
    "Transform the AOI's into geodataframes containing the right columns. If your AOI's are not valid, you will receive an error message. Also, we will load in the LUCAS Copernicus dataset for your specific target area. This method will also already convert the original labels to integers corresponding to the target classes you selected in the menu above."
   ]
  },
  {
   "cell_type": "code",
   "execution_count": 4,
   "id": "690c9cc3",
   "metadata": {},
   "outputs": [
    {
     "name": "stdout",
     "output_type": "stream",
     "text": [
      "Loading in the LUCAS Copernicus dataset...\n",
      "Finished loading data.\n",
      "Extracting points and converting target labels...\n",
      "Finished extracting points and converting target labels\n"
     ]
    }
   ],
   "source": [
    "stratification_column_label=\"groupID\"\n",
    "strata_sampling, strata_inference = getStrata(aoi_sampling, aoi_inference, strat_col_label=stratification_column_label)\n",
    "y = getReferenceSet(aoi_sampling, nr_samples_per_polygon, target_classes)"
   ]
  },
  {
   "cell_type": "code",
   "execution_count": null,
   "id": "0aec5d46",
   "metadata": {},
   "outputs": [],
   "source": [
    "additional_y = gpd.read_file(\"resources/extra_data_spain.geojson\").set_crs('epsg:4326')\n",
    "additional_y[\"target\"][additional_y[\"target\"]==\"A00: Artificial land\"] = 0\n",
    "additional_y[\"target\"][additional_y[\"target\"]==\"G00: Water areas\"] = 6\n",
    "y = pd.concat([y, additional_y[[\"geometry\",\"target\"]]], ignore_index=True)"
   ]
  },
  {
   "cell_type": "markdown",
   "id": "f0c5d3ed",
   "metadata": {},
   "source": [
    "We can have a look at the amount of LUCAS samples that were present within this final reference set."
   ]
  },
  {
   "cell_type": "code",
   "execution_count": 8,
   "id": "8edaf2b1",
   "metadata": {},
   "outputs": [
    {
     "data": {
      "text/html": [
       "<div>\n",
       "<style scoped>\n",
       "    .dataframe tbody tr th:only-of-type {\n",
       "        vertical-align: middle;\n",
       "    }\n",
       "\n",
       "    .dataframe tbody tr th {\n",
       "        vertical-align: top;\n",
       "    }\n",
       "\n",
       "    .dataframe thead th {\n",
       "        text-align: right;\n",
       "    }\n",
       "</style>\n",
       "<table border=\"1\" class=\"dataframe\">\n",
       "  <thead>\n",
       "    <tr style=\"text-align: right;\">\n",
       "      <th></th>\n",
       "      <th>geometry</th>\n",
       "    </tr>\n",
       "    <tr>\n",
       "      <th>target</th>\n",
       "      <th></th>\n",
       "    </tr>\n",
       "  </thead>\n",
       "  <tbody>\n",
       "    <tr>\n",
       "      <th>0</th>\n",
       "      <td>204</td>\n",
       "    </tr>\n",
       "    <tr>\n",
       "      <th>1</th>\n",
       "      <td>2916</td>\n",
       "    </tr>\n",
       "    <tr>\n",
       "      <th>2</th>\n",
       "      <td>1836</td>\n",
       "    </tr>\n",
       "    <tr>\n",
       "      <th>3</th>\n",
       "      <td>1350</td>\n",
       "    </tr>\n",
       "    <tr>\n",
       "      <th>4</th>\n",
       "      <td>1194</td>\n",
       "    </tr>\n",
       "    <tr>\n",
       "      <th>5</th>\n",
       "      <td>507</td>\n",
       "    </tr>\n",
       "    <tr>\n",
       "      <th>6</th>\n",
       "      <td>82</td>\n",
       "    </tr>\n",
       "    <tr>\n",
       "      <th>7</th>\n",
       "      <td>3</td>\n",
       "    </tr>\n",
       "  </tbody>\n",
       "</table>\n",
       "</div>"
      ],
      "text/plain": [
       "        geometry\n",
       "target          \n",
       "0            204\n",
       "1           2916\n",
       "2           1836\n",
       "3           1350\n",
       "4           1194\n",
       "5            507\n",
       "6             82\n",
       "7              3"
      ]
     },
     "execution_count": 8,
     "metadata": {},
     "output_type": "execute_result"
    }
   ],
   "source": [
    "y.groupby(\"target\").count()"
   ]
  },
  {
   "cell_type": "markdown",
   "id": "7b05c4ee",
   "metadata": {},
   "source": [
    "The LUCAS dataset is imbalanced. That is why it can be useful for some use cases to gather some extra reference data, and append that to the LUCAS reference data."
   ]
  },
  {
   "cell_type": "markdown",
   "id": "208511ce",
   "metadata": {},
   "source": [
    "We then split our reference data into a training and a test set. If you wish, you can include a validation set as well."
   ]
  },
  {
   "cell_type": "code",
   "execution_count": 9,
   "id": "348d2d1e",
   "metadata": {},
   "outputs": [],
   "source": [
    "y_train, y_test = train_test_split(y, test_size=(1-split.value), random_state=333)"
   ]
  },
  {
   "cell_type": "markdown",
   "id": "10534b8f",
   "metadata": {},
   "source": [
    "We will now load in the features. The feature set is made up of 7 indices calculated from S2, two S2 bands, two S1 bands and one index calculated from S1. More information on the exact feature calculation can be found in the use case demonstration report."
   ]
  },
  {
   "cell_type": "code",
   "execution_count": 20,
   "id": "c26de9d2",
   "metadata": {},
   "outputs": [
    {
     "name": "stdout",
     "output_type": "stream",
     "text": [
      "Authenticated using refresh token.\n",
      "Authenticated using refresh token.\n"
     ]
    },
    {
     "name": "stderr",
     "output_type": "stream",
     "text": [
      "c:\\users\\driesseb\\dev\\openeo-python-client\\openeo\\metadata.py:279: UserWarning: Band name mismatch: ['VV', 'VH', 'HH', 'HV'] != ['VV', 'VH', 'HV', 'HH']\n",
      "  complain(\"Band name mismatch: {a} != {b}\".format(a=cube_dimension_band_names, b=eo_band_names))\n"
     ]
    }
   ],
   "source": [
    "job_opts = {\n",
    "    \"indexreduction\": 0,\n",
    "    \"temporalresolution\": \"None\",\n",
    "    \"tile_size\": 128,\n",
    "}\n",
    "\n",
    "features, feature_list = load_lc_features(\"sentinelhub\", \"both\", start_date.value, end_date.value, processing_opts=job_opts)\n",
    "\n",
    "## Note: if you have a large number of samples (>3000), you cannot load your y data as a JSON in memory. You'll have to write out your JSON to file, store it somewhere (for example, on the Public folder of your Terrascope machine) and pass the file directory instead\n",
    "def fitRandomForestModel(features, y):\n",
    "    X = features.aggregate_spatial(json.loads(y.to_json()), reducer=\"mean\")\n",
    "    ml_model = X.fit_class_random_forest(target=json.loads(y.to_json()), training=split.value, num_trees=nrtrees.value)\n",
    "    model = ml_model.save_ml_model()\n",
    "    training_job = model.create_job()\n",
    "    training_job.start_and_wait()\n",
    "    return training_job.job_id"
   ]
  },
  {
   "cell_type": "markdown",
   "id": "3b9aecfd",
   "metadata": {},
   "source": [
    "We will now start fitting the model. As we are using feature fusion, the S1 and S2 features will be merged, and only one model will be trained over all features combined. However, if you are using stratification, you will be constructing a separate model for every stratum within your AOI (i.e., your AOI contains a field named \"stratum\" that has various rows with different values)."
   ]
  },
  {
   "cell_type": "code",
   "execution_count": null,
   "id": "e3a4d9ff",
   "metadata": {
    "scrolled": false
   },
   "outputs": [],
   "source": [
    "jobids = {}\n",
    "\n",
    "for index, stratum in strata_sampling.iterrows():\n",
    "    y_train_clipped = gpd.clip(y_train, stratum[\"geometry\"])\n",
    "    jobid = fitRandomForestModel(features, y_train_clipped)\n",
    "    jobids[stratum[stratification_column_label]] = { \"fit_id\": jobid }"
   ]
  },
  {
   "cell_type": "markdown",
   "id": "3983cf1e",
   "metadata": {},
   "source": [
    "If you don't want to run this step and start with a pretrained model, you can take one of the following models and pass the job ID to the model parameter of predict_random_forest:\n",
    "- a 1-stratum model for Belgium: 8f18a3f8-458f-4e78-80d8-88341ee3af52\n",
    "- a 2-stratum model for Spain;\n",
    "    - stratum 1 (43000.0): 93ad21c3-dada-46a0-873d-13dd8d30f486\n",
    "    - stratum 2 (46000.0): 1ddf23e5-212a-4883-b4a0-29a85ef9b363\n",
    "    \n",
    "If you haven't trained a model using the cell before, you can load some of these stored models directly into their respective strata in the following way:"
   ]
  },
  {
   "cell_type": "code",
   "execution_count": 12,
   "id": "852dc8a9",
   "metadata": {},
   "outputs": [],
   "source": [
    "jobids = {\n",
    "    43000.0: {\n",
    "        \"fit_id\": '93ad21c3-dada-46a0-873d-13dd8d30f486'\n",
    "    },\n",
    "    46000.0: {\n",
    "        \"fit_id\": \"1ddf23e5-212a-4883-b4a0-29a85ef9b363\"\n",
    "    }\n",
    "}"
   ]
  },
  {
   "cell_type": "markdown",
   "id": "9adc5767",
   "metadata": {},
   "source": [
    "After training the respective models, we can do inference. In general you would like to first do inference on a test set, so that you can calculate a number of accuracy metrics, such as the overall accuracy, the F-score, and/or creating a confusion matrix."
   ]
  },
  {
   "cell_type": "code",
   "execution_count": null,
   "id": "e0eebb30",
   "metadata": {
    "scrolled": true
   },
   "outputs": [],
   "source": [
    "base_path = \"results\"\n",
    "country = \"spain\"\n",
    "fname_geojson = 'y_test.geojson'\n",
    "\n",
    "for index, stratum in strata_sampling.iterrows():\n",
    "    validation_path = Path.cwd() / base_path / country / \"validation\" / str(stratum[stratification_column_label])\n",
    "    validation_path.mkdir(parents=True,exist_ok=True)\n",
    "    \n",
    "    y_final_test = gpd.clip(y_test, stratum[\"geometry\"])\n",
    "    y_final_test.to_file(filename=str(validation_path / fname_geojson),driver=\"GeoJSON\")\n",
    "    cube = features.filter_spatial(json.loads(buf(y_final_test[\"geometry\"]).to_json()))\n",
    "    predicted = cube.predict_random_forest(model=jobids[stratum[stratification_column_label]][\"fit_id\"], dimension=\"bands\").linear_scale_range(0,255,0,255)\n",
    "    test_job = predicted.execute_batch(\n",
    "        title=\"Validation for strata in Spain\",\n",
    "        out_format=\"netCDF\"\n",
    "    )\n",
    "    jobids[stratum[stratification_column_label]][\"validate_id\"] = test_job.job_id\n",
    "    test_job.get_results().download_files(str(path_tiff))"
   ]
  },
  {
   "cell_type": "markdown",
   "id": "6c78b026",
   "metadata": {},
   "source": [
    "Some finished validation jobs:\n",
    "- a finished job from Belgium, 1 stratum: 6e1196b8-3a74-4572-bef1-690d62c92cde\n",
    "- a finished job from Spain, 2 strata: \n",
    "    - stratum 1: b6d5a1ed-0bf5-4ad6-971f-ecd8c76d5db4"
   ]
  },
  {
   "cell_type": "markdown",
   "id": "6cf816a6",
   "metadata": {},
   "source": [
    "We can then calculate a number of validation metrics, such as the accuracy and the F-score from the test set."
   ]
  },
  {
   "cell_type": "code",
   "execution_count": null,
   "id": "d597b174",
   "metadata": {},
   "outputs": [],
   "source": [
    "for stratum in jobids:\n",
    "    gdf, final_res = calculate_validation_metrics(\n",
    "        str(Path.cwd() / base_path / country / \"validation\" / str(stratum[stratification_column_label]) / fname_geojson), \n",
    "        str(Path.cwd() / base_path / country / \"validation\" / str(stratum[stratification_column_label]) / \"openEO.nc\"))\n",
    "    print(final_res)"
   ]
  },
  {
   "cell_type": "markdown",
   "id": "f832b288",
   "metadata": {},
   "source": [
    "Finally, if you are satisfied with the scores you obtained, we can do inference over your AOI of inference specified."
   ]
  },
  {
   "cell_type": "code",
   "execution_count": null,
   "id": "bee94e1c",
   "metadata": {
    "scrolled": true
   },
   "outputs": [],
   "source": [
    "features, feature_list = load_lc_features(\"sentinelhub\", \"both\", start_date.value, end_date.value, processing_opts=dict(tile_size=256))\n",
    "\n",
    "for index, stratum in strata_inference.iterrows():\n",
    "    cube = features.filter_spatial(stratum[\"geometry\"])\n",
    "    predicted = cube.predict_random_forest(\n",
    "        model=jobids[stratum[stratification_column_label]][\"fit_id\"],\n",
    "        dimension=\"bands\"\n",
    "    ).linear_scale_range(0,255,0,255)\n",
    "    inf_job = predicted.execute_batch(out_format=\"netCDF\")\n",
    "    jobids[stratum[stratification_column_label]][\"inference_id\"] = inf_job.job_id"
   ]
  },
  {
   "cell_type": "markdown",
   "id": "d1c0fb93",
   "metadata": {},
   "source": [
    "## References\n",
    "d'Andrimont, Raphaël, et al., 2021. \"LUCAS Copernicus 2018: Earth-observation-relevant in situ data on land cover and use throughout the European Union.\" Earth System Science Data 13.3 (2021): 1119-1133.\n",
    "\n",
    "Congalton, R. G., Gu, J., Yadav, K., Thenkabail, P., & Ozdogan, M. (2014). Global land cover mapping: A review and uncertainty analysis. Remote Sensing, 6(12), 12070-12093.\n",
    "\n",
    "Feddema, J. J., Oleson, K. W., Bonan, G. B., Mearns, L. O., Buja, L. E., Meehl, G. A., & Washington, W. M. (2005). The importance of land-cover change in simulating future climates. Science, 310(5754), 1674-1678.\n",
    "\n",
    "Running, S. W. (2008). Ecosystem disturbance, carbon, and climate. Science, 321(5889), 652-653.\n",
    "\n",
    "Sellers, P. J., Dickinson, R. E., Randall, D. A., Betts, A. K., Hall, F. G., Berry, J. A., ... & Henderson-Sellers, A. (1997). Modeling the exchanges of energy, water, and carbon between continents and the atmosphere. Science, 275(5299), 502-509.\n",
    "\n",
    "Tucker, C. J., Townshend, J. R., & Goff, T. E. (1985). African land-cover classification using satellite data. Science, 227(4685), 369-375.\n",
    "\n",
    "Yang, J., Gong, P., Fu, R., Zhang, M., Chen, J., Liang, S., ... & Dickinson, R. (2013). The role of satellite remote sensing in climate change studies. Nature climate change, 3(10), 875-883.\n",
    "\n",
    "Yu, L., Liang, L., Wang, J., Zhao, Y., Cheng, Q., Hu, L., ... & Gong, P. (2014). Meta-discoveries from a synthesis of satellite-based land-cover mapping research. International Journal of Remote Sensing, 35(13), 4573-4588."
   ]
  }
 ],
 "metadata": {
  "kernelspec": {
   "display_name": "Python 3",
   "language": "python",
   "name": "python3"
  },
  "language_info": {
   "codemirror_mode": {
    "name": "ipython",
    "version": 3
   },
   "file_extension": ".py",
   "mimetype": "text/x-python",
   "name": "python",
   "nbconvert_exporter": "python",
   "pygments_lexer": "ipython3",
   "version": "3.9.7"
  }
 },
 "nbformat": 4,
 "nbformat_minor": 5
}
