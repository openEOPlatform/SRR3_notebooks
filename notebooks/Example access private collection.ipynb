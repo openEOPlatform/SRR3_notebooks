{
 "cells": [
  {
   "cell_type": "markdown",
   "id": "51e0060f",
   "metadata": {},
   "source": [
    "<img src=\"https://avatars.githubusercontent.com/u/74911464?s=200&v=4\"\n",
    "     alt=\"OpenEO Platform logo\"\n",
    "     style=\"float: left; margin-right: 10px;\" />\n",
    "# openEO Platform - How to connect to a private user collection on the example of two PlanetScope collections\n",
    "## Basics: Connect, Authenticate, access and download private collection"
   ]
  },
  {
   "cell_type": "markdown",
   "id": "71fcb1bc",
   "metadata": {},
   "source": [
    "**Connect to openEO Platform**  \n",
    "- establish connection to the openEO Platform back-end\n",
    "- connection object is your central gateway to load data"
   ]
  },
  {
   "cell_type": "code",
   "execution_count": 19,
   "id": "6fa11ae3",
   "metadata": {},
   "outputs": [],
   "source": [
    "import openeo\n",
    "connection = openeo.connect(\"openeo.cloud\")"
   ]
  },
  {
   "cell_type": "markdown",
   "id": "f96f1854",
   "metadata": {},
   "source": [
    "**Inspect generic planet collection**"
   ]
  },
  {
   "cell_type": "code",
   "execution_count": 20,
   "id": "c792bd6c",
   "metadata": {},
   "outputs": [
    {
     "data": {
      "text/html": [
       "\n",
       "    <script>\n",
       "    if (!window.customElements || !window.customElements.get('openeo-collection')) {\n",
       "        var el = document.createElement('script');\n",
       "        el.src = \"https://cdn.jsdelivr.net/npm/@openeo/vue-components@2/assets/openeo.min.js\";\n",
       "        document.head.appendChild(el);\n",
       "\n",
       "        var font = document.createElement('font');\n",
       "        font.as = \"font\";\n",
       "        font.type = \"font/woff2\";\n",
       "        font.crossOrigin = true;\n",
       "        font.href = \"https://use.fontawesome.com/releases/v5.13.0/webfonts/fa-solid-900.woff2\"\n",
       "        document.head.appendChild(font);\n",
       "    }\n",
       "    </script>\n",
       "    <openeo-collection>\n",
       "        <script type=\"application/json\">{\"mapOptions\": {}, \"data\": {\"cube:dimensions\": {\"bands\": {\"type\": \"bands\", \"values\": [\"B1\", \"B2\", \"B3\", \"B4\", \"UDM\"]}, \"t\": {\"extent\": [\"2016-01-01T00:00:00Z\", null], \"type\": \"temporal\"}, \"x\": {\"axis\": \"x\", \"extent\": [-180, 180], \"reference_system\": {\"$schema\": \"https://proj.org/schemas/v0.2/projjson.schema.json\", \"area\": \"World\", \"bbox\": {\"east_longitude\": 180, \"north_latitude\": 90, \"south_latitude\": -90, \"west_longitude\": -180}, \"coordinate_system\": {\"axis\": [{\"abbreviation\": \"Lat\", \"direction\": \"north\", \"name\": \"Geodetic latitude\", \"unit\": \"degree\"}, {\"abbreviation\": \"Lon\", \"direction\": \"east\", \"name\": \"Geodetic longitude\", \"unit\": \"degree\"}], \"subtype\": \"ellipsoidal\"}, \"datum\": {\"ellipsoid\": {\"inverse_flattening\": 298.257223563, \"name\": \"WGS 84\", \"semi_major_axis\": 6378137}, \"name\": \"World Geodetic System 1984\", \"type\": \"GeodeticReferenceFrame\"}, \"id\": {\"authority\": \"OGC\", \"code\": \"Auto42001\", \"version\": \"1.3\"}, \"name\": \"AUTO 42001 (Universal Transverse Mercator)\", \"type\": \"GeodeticCRS\"}, \"type\": \"spatial\"}, \"y\": {\"axis\": \"y\", \"extent\": [-90, 90], \"reference_system\": {\"$schema\": \"https://proj.org/schemas/v0.2/projjson.schema.json\", \"area\": \"World\", \"bbox\": {\"east_longitude\": 180, \"north_latitude\": 90, \"south_latitude\": -90, \"west_longitude\": -180}, \"coordinate_system\": {\"axis\": [{\"abbreviation\": \"Lat\", \"direction\": \"north\", \"name\": \"Geodetic latitude\", \"unit\": \"degree\"}, {\"abbreviation\": \"Lon\", \"direction\": \"east\", \"name\": \"Geodetic longitude\", \"unit\": \"degree\"}], \"subtype\": \"ellipsoidal\"}, \"datum\": {\"ellipsoid\": {\"inverse_flattening\": 298.257223563, \"name\": \"WGS 84\", \"semi_major_axis\": 6378137}, \"name\": \"World Geodetic System 1984\", \"type\": \"GeodeticReferenceFrame\"}, \"id\": {\"authority\": \"OGC\", \"code\": \"Auto42001\", \"version\": \"1.3\"}, \"name\": \"AUTO 42001 (Universal Transverse Mercator)\", \"type\": \"GeodeticCRS\"}, \"type\": \"spatial\"}}, \"description\": \"PlanetScope is one of the satellite constellation operated by Planet. PlanetScope satellite constellation consists of more than 130 small satellites called Doves. Each Dove satellite is a CubeSat made of three cubic units and thus measures only 10 cm x 10 cm x 30 cm. The satellites are launched in groups, which constantly improves mission's characteristics such as revisit times, spatial and spectral resolutions. The constellation is constantly on and does not require an acquisition planning. PlanetScope is commercial data and has to be ordered by the user\", \"extent\": {\"spatial\": {\"bbox\": [[-180, -90, 180, 90]]}, \"temporal\": {\"interval\": [[\"2016-01-01T00:00:00Z\", null]]}}, \"id\": \"PLANETSCOPE\", \"license\": \"various\", \"links\": [], \"stac_extensions\": [\"datacube\"], \"stac_version\": \"0.9.0\", \"summaries\": {\"crs\": [\"http://www.opengis.net/def/crs/OGC/1.3/CRS84\", \"http://www.opengis.net/def/crs/EPSG/0/2154\", \"http://www.opengis.net/def/crs/EPSG/0/2180\", \"http://www.opengis.net/def/crs/EPSG/0/2193\", \"http://www.opengis.net/def/crs/EPSG/0/3003\", \"http://www.opengis.net/def/crs/EPSG/0/3004\", \"http://www.opengis.net/def/crs/EPSG/0/3031\", \"http://www.opengis.net/def/crs/EPSG/0/3035\", \"http://www.opengis.net/def/crs/EPSG/0/4326\", \"http://www.opengis.net/def/crs/EPSG/0/4346\", \"http://www.opengis.net/def/crs/EPSG/0/4416\", \"http://www.opengis.net/def/crs/EPSG/0/4765\", \"http://www.opengis.net/def/crs/EPSG/0/4794\", \"http://www.opengis.net/def/crs/EPSG/0/4844\", \"http://www.opengis.net/def/crs/EPSG/0/4857\", \"http://www.opengis.net/def/crs/EPSG/0/3912\", \"http://www.opengis.net/def/crs/EPSG/0/3995\", \"http://www.opengis.net/def/crs/EPSG/0/4026\", \"http://www.opengis.net/def/crs/EPSG/0/5514\", \"http://www.opengis.net/def/crs/EPSG/0/28992\", \"http://www.opengis.net/def/crs/EPSG/0/32601\", \"http://www.opengis.net/def/crs/EPSG/0/32602\", \"http://www.opengis.net/def/crs/EPSG/0/32603\", \"http://www.opengis.net/def/crs/EPSG/0/32604\", \"http://www.opengis.net/def/crs/EPSG/0/32605\", \"http://www.opengis.net/def/crs/EPSG/0/32606\", \"http://www.opengis.net/def/crs/EPSG/0/32607\", \"http://www.opengis.net/def/crs/EPSG/0/32608\", \"http://www.opengis.net/def/crs/EPSG/0/32609\", \"http://www.opengis.net/def/crs/EPSG/0/32610\", \"http://www.opengis.net/def/crs/EPSG/0/32611\", \"http://www.opengis.net/def/crs/EPSG/0/32612\", \"http://www.opengis.net/def/crs/EPSG/0/32613\", \"http://www.opengis.net/def/crs/EPSG/0/32614\", \"http://www.opengis.net/def/crs/EPSG/0/32615\", \"http://www.opengis.net/def/crs/EPSG/0/32616\", \"http://www.opengis.net/def/crs/EPSG/0/32617\", \"http://www.opengis.net/def/crs/EPSG/0/32618\", \"http://www.opengis.net/def/crs/EPSG/0/32619\", \"http://www.opengis.net/def/crs/EPSG/0/32620\", \"http://www.opengis.net/def/crs/EPSG/0/32621\", \"http://www.opengis.net/def/crs/EPSG/0/32622\", \"http://www.opengis.net/def/crs/EPSG/0/32623\", \"http://www.opengis.net/def/crs/EPSG/0/32624\", \"http://www.opengis.net/def/crs/EPSG/0/32625\", \"http://www.opengis.net/def/crs/EPSG/0/32626\", \"http://www.opengis.net/def/crs/EPSG/0/32627\", \"http://www.opengis.net/def/crs/EPSG/0/32628\", \"http://www.opengis.net/def/crs/EPSG/0/32629\", \"http://www.opengis.net/def/crs/EPSG/0/32630\", \"http://www.opengis.net/def/crs/EPSG/0/32631\", \"http://www.opengis.net/def/crs/EPSG/0/32632\", \"http://www.opengis.net/def/crs/EPSG/0/32633\", \"http://www.opengis.net/def/crs/EPSG/0/32634\", \"http://www.opengis.net/def/crs/EPSG/0/32635\", \"http://www.opengis.net/def/crs/EPSG/0/32636\", \"http://www.opengis.net/def/crs/EPSG/0/32637\", \"http://www.opengis.net/def/crs/EPSG/0/32638\", \"http://www.opengis.net/def/crs/EPSG/0/32639\", \"http://www.opengis.net/def/crs/EPSG/0/32640\", \"http://www.opengis.net/def/crs/EPSG/0/32641\", \"http://www.opengis.net/def/crs/EPSG/0/32642\", \"http://www.opengis.net/def/crs/EPSG/0/32643\", \"http://www.opengis.net/def/crs/EPSG/0/32644\", \"http://www.opengis.net/def/crs/EPSG/0/32645\", \"http://www.opengis.net/def/crs/EPSG/0/32646\", \"http://www.opengis.net/def/crs/EPSG/0/32647\", \"http://www.opengis.net/def/crs/EPSG/0/32648\", \"http://www.opengis.net/def/crs/EPSG/0/32649\", \"http://www.opengis.net/def/crs/EPSG/0/32650\", \"http://www.opengis.net/def/crs/EPSG/0/32651\", \"http://www.opengis.net/def/crs/EPSG/0/32652\", \"http://www.opengis.net/def/crs/EPSG/0/32653\", \"http://www.opengis.net/def/crs/EPSG/0/32654\", \"http://www.opengis.net/def/crs/EPSG/0/32655\", \"http://www.opengis.net/def/crs/EPSG/0/32656\", \"http://www.opengis.net/def/crs/EPSG/0/32657\", \"http://www.opengis.net/def/crs/EPSG/0/32658\", \"http://www.opengis.net/def/crs/EPSG/0/32659\", \"http://www.opengis.net/def/crs/EPSG/0/32660\", \"http://www.opengis.net/def/crs/EPSG/0/32701\", \"http://www.opengis.net/def/crs/EPSG/0/32702\", \"http://www.opengis.net/def/crs/EPSG/0/32703\", \"http://www.opengis.net/def/crs/EPSG/0/32704\", \"http://www.opengis.net/def/crs/EPSG/0/32705\", \"http://www.opengis.net/def/crs/EPSG/0/32706\", \"http://www.opengis.net/def/crs/EPSG/0/32707\", \"http://www.opengis.net/def/crs/EPSG/0/32708\", \"http://www.opengis.net/def/crs/EPSG/0/32709\", \"http://www.opengis.net/def/crs/EPSG/0/32710\", \"http://www.opengis.net/def/crs/EPSG/0/32711\", \"http://www.opengis.net/def/crs/EPSG/0/32712\", \"http://www.opengis.net/def/crs/EPSG/0/32713\", \"http://www.opengis.net/def/crs/EPSG/0/32714\", \"http://www.opengis.net/def/crs/EPSG/0/32715\", \"http://www.opengis.net/def/crs/EPSG/0/32716\", \"http://www.opengis.net/def/crs/EPSG/0/32717\", \"http://www.opengis.net/def/crs/EPSG/0/32718\", \"http://www.opengis.net/def/crs/EPSG/0/32719\", \"http://www.opengis.net/def/crs/EPSG/0/32720\", \"http://www.opengis.net/def/crs/EPSG/0/32721\", \"http://www.opengis.net/def/crs/EPSG/0/32722\", \"http://www.opengis.net/def/crs/EPSG/0/32723\", \"http://www.opengis.net/def/crs/EPSG/0/32724\", \"http://www.opengis.net/def/crs/EPSG/0/32725\", \"http://www.opengis.net/def/crs/EPSG/0/32726\", \"http://www.opengis.net/def/crs/EPSG/0/32727\", \"http://www.opengis.net/def/crs/EPSG/0/32728\", \"http://www.opengis.net/def/crs/EPSG/0/32729\", \"http://www.opengis.net/def/crs/EPSG/0/32730\", \"http://www.opengis.net/def/crs/EPSG/0/32731\", \"http://www.opengis.net/def/crs/EPSG/0/32732\", \"http://www.opengis.net/def/crs/EPSG/0/32733\", \"http://www.opengis.net/def/crs/EPSG/0/32734\", \"http://www.opengis.net/def/crs/EPSG/0/32735\", \"http://www.opengis.net/def/crs/EPSG/0/32736\", \"http://www.opengis.net/def/crs/EPSG/0/32737\", \"http://www.opengis.net/def/crs/EPSG/0/32738\", \"http://www.opengis.net/def/crs/EPSG/0/32739\", \"http://www.opengis.net/def/crs/EPSG/0/32740\", \"http://www.opengis.net/def/crs/EPSG/0/32741\", \"http://www.opengis.net/def/crs/EPSG/0/32742\", \"http://www.opengis.net/def/crs/EPSG/0/32743\", \"http://www.opengis.net/def/crs/EPSG/0/32744\", \"http://www.opengis.net/def/crs/EPSG/0/32745\", \"http://www.opengis.net/def/crs/EPSG/0/32746\", \"http://www.opengis.net/def/crs/EPSG/0/32746\", \"http://www.opengis.net/def/crs/EPSG/0/32748\", \"http://www.opengis.net/def/crs/EPSG/0/32749\", \"http://www.opengis.net/def/crs/EPSG/0/32750\", \"http://www.opengis.net/def/crs/EPSG/0/32751\", \"http://www.opengis.net/def/crs/EPSG/0/32752\", \"http://www.opengis.net/def/crs/EPSG/0/32753\", \"http://www.opengis.net/def/crs/EPSG/0/32754\", \"http://www.opengis.net/def/crs/EPSG/0/32755\", \"http://www.opengis.net/def/crs/EPSG/0/32756\", \"http://www.opengis.net/def/crs/EPSG/0/32757\", \"http://www.opengis.net/def/crs/EPSG/0/32758\", \"http://www.opengis.net/def/crs/EPSG/0/32759\", \"http://www.opengis.net/def/crs/EPSG/0/32760\", \"http://www.opengis.net/def/crs/SR-ORG/0/98739\"], \"eo:bands\": [{\"center_wavelength\": 0.485, \"common_name\": \"blue\", \"description\": \"Blue (485 nm)\", \"full_width_half_max\": 0.3, \"name\": \"B1\", \"openeo:gsd\": {\"unit\": \"m\", \"value\": [3, 3]}}, {\"center_wavelength\": 0.545, \"common_name\": \"green\", \"description\": \"Green (545 nm)\", \"full_width_half_max\": 0.45, \"name\": \"B2\", \"openeo:gsd\": {\"unit\": \"m\", \"value\": [3, 3]}}, {\"center_wavelength\": 0.63, \"common_name\": \"red\", \"description\": \"Red (630 nm)\", \"full_width_half_max\": 0.4, \"name\": \"B3\", \"openeo:gsd\": {\"unit\": \"m\", \"value\": [3, 3]}}, {\"center_wavelength\": 0.82, \"common_name\": \"nir08\", \"description\": \"Near Infrared (820 nm)\", \"full_width_half_max\": 0.4, \"name\": \"B4\", \"openeo:gsd\": {\"unit\": \"m\", \"value\": [3, 3]}}, {\"description\": \"Unusable Data Mask\", \"name\": \"UDM\", \"openeo:gsd\": {\"unit\": \"m\", \"value\": [3, 3]}}]}, \"title\": \"PlanetScope\"}}</script>\n",
       "    </openeo-collection>\n",
       "    "
      ],
      "text/plain": [
       "{'cube:dimensions': {'bands': {'type': 'bands',\n",
       "   'values': ['B1', 'B2', 'B3', 'B4', 'UDM']},\n",
       "  't': {'extent': ['2016-01-01T00:00:00Z', None], 'type': 'temporal'},\n",
       "  'x': {'axis': 'x',\n",
       "   'extent': [-180, 180],\n",
       "   'reference_system': {'$schema': 'https://proj.org/schemas/v0.2/projjson.schema.json',\n",
       "    'area': 'World',\n",
       "    'bbox': {'east_longitude': 180,\n",
       "     'north_latitude': 90,\n",
       "     'south_latitude': -90,\n",
       "     'west_longitude': -180},\n",
       "    'coordinate_system': {'axis': [{'abbreviation': 'Lat',\n",
       "       'direction': 'north',\n",
       "       'name': 'Geodetic latitude',\n",
       "       'unit': 'degree'},\n",
       "      {'abbreviation': 'Lon',\n",
       "       'direction': 'east',\n",
       "       'name': 'Geodetic longitude',\n",
       "       'unit': 'degree'}],\n",
       "     'subtype': 'ellipsoidal'},\n",
       "    'datum': {'ellipsoid': {'inverse_flattening': 298.257223563,\n",
       "      'name': 'WGS 84',\n",
       "      'semi_major_axis': 6378137},\n",
       "     'name': 'World Geodetic System 1984',\n",
       "     'type': 'GeodeticReferenceFrame'},\n",
       "    'id': {'authority': 'OGC', 'code': 'Auto42001', 'version': '1.3'},\n",
       "    'name': 'AUTO 42001 (Universal Transverse Mercator)',\n",
       "    'type': 'GeodeticCRS'},\n",
       "   'type': 'spatial'},\n",
       "  'y': {'axis': 'y',\n",
       "   'extent': [-90, 90],\n",
       "   'reference_system': {'$schema': 'https://proj.org/schemas/v0.2/projjson.schema.json',\n",
       "    'area': 'World',\n",
       "    'bbox': {'east_longitude': 180,\n",
       "     'north_latitude': 90,\n",
       "     'south_latitude': -90,\n",
       "     'west_longitude': -180},\n",
       "    'coordinate_system': {'axis': [{'abbreviation': 'Lat',\n",
       "       'direction': 'north',\n",
       "       'name': 'Geodetic latitude',\n",
       "       'unit': 'degree'},\n",
       "      {'abbreviation': 'Lon',\n",
       "       'direction': 'east',\n",
       "       'name': 'Geodetic longitude',\n",
       "       'unit': 'degree'}],\n",
       "     'subtype': 'ellipsoidal'},\n",
       "    'datum': {'ellipsoid': {'inverse_flattening': 298.257223563,\n",
       "      'name': 'WGS 84',\n",
       "      'semi_major_axis': 6378137},\n",
       "     'name': 'World Geodetic System 1984',\n",
       "     'type': 'GeodeticReferenceFrame'},\n",
       "    'id': {'authority': 'OGC', 'code': 'Auto42001', 'version': '1.3'},\n",
       "    'name': 'AUTO 42001 (Universal Transverse Mercator)',\n",
       "    'type': 'GeodeticCRS'},\n",
       "   'type': 'spatial'}},\n",
       " 'description': \"PlanetScope is one of the satellite constellation operated by Planet. PlanetScope satellite constellation consists of more than 130 small satellites called Doves. Each Dove satellite is a CubeSat made of three cubic units and thus measures only 10 cm x 10 cm x 30 cm. The satellites are launched in groups, which constantly improves mission's characteristics such as revisit times, spatial and spectral resolutions. The constellation is constantly on and does not require an acquisition planning. PlanetScope is commercial data and has to be ordered by the user\",\n",
       " 'extent': {'spatial': {'bbox': [[-180, -90, 180, 90]]},\n",
       "  'temporal': {'interval': [['2016-01-01T00:00:00Z', None]]}},\n",
       " 'id': 'PLANETSCOPE',\n",
       " 'license': 'various',\n",
       " 'links': [],\n",
       " 'stac_extensions': ['datacube'],\n",
       " 'stac_version': '0.9.0',\n",
       " 'summaries': {'crs': ['http://www.opengis.net/def/crs/OGC/1.3/CRS84',\n",
       "   'http://www.opengis.net/def/crs/EPSG/0/2154',\n",
       "   'http://www.opengis.net/def/crs/EPSG/0/2180',\n",
       "   'http://www.opengis.net/def/crs/EPSG/0/2193',\n",
       "   'http://www.opengis.net/def/crs/EPSG/0/3003',\n",
       "   'http://www.opengis.net/def/crs/EPSG/0/3004',\n",
       "   'http://www.opengis.net/def/crs/EPSG/0/3031',\n",
       "   'http://www.opengis.net/def/crs/EPSG/0/3035',\n",
       "   'http://www.opengis.net/def/crs/EPSG/0/4326',\n",
       "   'http://www.opengis.net/def/crs/EPSG/0/4346',\n",
       "   'http://www.opengis.net/def/crs/EPSG/0/4416',\n",
       "   'http://www.opengis.net/def/crs/EPSG/0/4765',\n",
       "   'http://www.opengis.net/def/crs/EPSG/0/4794',\n",
       "   'http://www.opengis.net/def/crs/EPSG/0/4844',\n",
       "   'http://www.opengis.net/def/crs/EPSG/0/4857',\n",
       "   'http://www.opengis.net/def/crs/EPSG/0/3912',\n",
       "   'http://www.opengis.net/def/crs/EPSG/0/3995',\n",
       "   'http://www.opengis.net/def/crs/EPSG/0/4026',\n",
       "   'http://www.opengis.net/def/crs/EPSG/0/5514',\n",
       "   'http://www.opengis.net/def/crs/EPSG/0/28992',\n",
       "   'http://www.opengis.net/def/crs/EPSG/0/32601',\n",
       "   'http://www.opengis.net/def/crs/EPSG/0/32602',\n",
       "   'http://www.opengis.net/def/crs/EPSG/0/32603',\n",
       "   'http://www.opengis.net/def/crs/EPSG/0/32604',\n",
       "   'http://www.opengis.net/def/crs/EPSG/0/32605',\n",
       "   'http://www.opengis.net/def/crs/EPSG/0/32606',\n",
       "   'http://www.opengis.net/def/crs/EPSG/0/32607',\n",
       "   'http://www.opengis.net/def/crs/EPSG/0/32608',\n",
       "   'http://www.opengis.net/def/crs/EPSG/0/32609',\n",
       "   'http://www.opengis.net/def/crs/EPSG/0/32610',\n",
       "   'http://www.opengis.net/def/crs/EPSG/0/32611',\n",
       "   'http://www.opengis.net/def/crs/EPSG/0/32612',\n",
       "   'http://www.opengis.net/def/crs/EPSG/0/32613',\n",
       "   'http://www.opengis.net/def/crs/EPSG/0/32614',\n",
       "   'http://www.opengis.net/def/crs/EPSG/0/32615',\n",
       "   'http://www.opengis.net/def/crs/EPSG/0/32616',\n",
       "   'http://www.opengis.net/def/crs/EPSG/0/32617',\n",
       "   'http://www.opengis.net/def/crs/EPSG/0/32618',\n",
       "   'http://www.opengis.net/def/crs/EPSG/0/32619',\n",
       "   'http://www.opengis.net/def/crs/EPSG/0/32620',\n",
       "   'http://www.opengis.net/def/crs/EPSG/0/32621',\n",
       "   'http://www.opengis.net/def/crs/EPSG/0/32622',\n",
       "   'http://www.opengis.net/def/crs/EPSG/0/32623',\n",
       "   'http://www.opengis.net/def/crs/EPSG/0/32624',\n",
       "   'http://www.opengis.net/def/crs/EPSG/0/32625',\n",
       "   'http://www.opengis.net/def/crs/EPSG/0/32626',\n",
       "   'http://www.opengis.net/def/crs/EPSG/0/32627',\n",
       "   'http://www.opengis.net/def/crs/EPSG/0/32628',\n",
       "   'http://www.opengis.net/def/crs/EPSG/0/32629',\n",
       "   'http://www.opengis.net/def/crs/EPSG/0/32630',\n",
       "   'http://www.opengis.net/def/crs/EPSG/0/32631',\n",
       "   'http://www.opengis.net/def/crs/EPSG/0/32632',\n",
       "   'http://www.opengis.net/def/crs/EPSG/0/32633',\n",
       "   'http://www.opengis.net/def/crs/EPSG/0/32634',\n",
       "   'http://www.opengis.net/def/crs/EPSG/0/32635',\n",
       "   'http://www.opengis.net/def/crs/EPSG/0/32636',\n",
       "   'http://www.opengis.net/def/crs/EPSG/0/32637',\n",
       "   'http://www.opengis.net/def/crs/EPSG/0/32638',\n",
       "   'http://www.opengis.net/def/crs/EPSG/0/32639',\n",
       "   'http://www.opengis.net/def/crs/EPSG/0/32640',\n",
       "   'http://www.opengis.net/def/crs/EPSG/0/32641',\n",
       "   'http://www.opengis.net/def/crs/EPSG/0/32642',\n",
       "   'http://www.opengis.net/def/crs/EPSG/0/32643',\n",
       "   'http://www.opengis.net/def/crs/EPSG/0/32644',\n",
       "   'http://www.opengis.net/def/crs/EPSG/0/32645',\n",
       "   'http://www.opengis.net/def/crs/EPSG/0/32646',\n",
       "   'http://www.opengis.net/def/crs/EPSG/0/32647',\n",
       "   'http://www.opengis.net/def/crs/EPSG/0/32648',\n",
       "   'http://www.opengis.net/def/crs/EPSG/0/32649',\n",
       "   'http://www.opengis.net/def/crs/EPSG/0/32650',\n",
       "   'http://www.opengis.net/def/crs/EPSG/0/32651',\n",
       "   'http://www.opengis.net/def/crs/EPSG/0/32652',\n",
       "   'http://www.opengis.net/def/crs/EPSG/0/32653',\n",
       "   'http://www.opengis.net/def/crs/EPSG/0/32654',\n",
       "   'http://www.opengis.net/def/crs/EPSG/0/32655',\n",
       "   'http://www.opengis.net/def/crs/EPSG/0/32656',\n",
       "   'http://www.opengis.net/def/crs/EPSG/0/32657',\n",
       "   'http://www.opengis.net/def/crs/EPSG/0/32658',\n",
       "   'http://www.opengis.net/def/crs/EPSG/0/32659',\n",
       "   'http://www.opengis.net/def/crs/EPSG/0/32660',\n",
       "   'http://www.opengis.net/def/crs/EPSG/0/32701',\n",
       "   'http://www.opengis.net/def/crs/EPSG/0/32702',\n",
       "   'http://www.opengis.net/def/crs/EPSG/0/32703',\n",
       "   'http://www.opengis.net/def/crs/EPSG/0/32704',\n",
       "   'http://www.opengis.net/def/crs/EPSG/0/32705',\n",
       "   'http://www.opengis.net/def/crs/EPSG/0/32706',\n",
       "   'http://www.opengis.net/def/crs/EPSG/0/32707',\n",
       "   'http://www.opengis.net/def/crs/EPSG/0/32708',\n",
       "   'http://www.opengis.net/def/crs/EPSG/0/32709',\n",
       "   'http://www.opengis.net/def/crs/EPSG/0/32710',\n",
       "   'http://www.opengis.net/def/crs/EPSG/0/32711',\n",
       "   'http://www.opengis.net/def/crs/EPSG/0/32712',\n",
       "   'http://www.opengis.net/def/crs/EPSG/0/32713',\n",
       "   'http://www.opengis.net/def/crs/EPSG/0/32714',\n",
       "   'http://www.opengis.net/def/crs/EPSG/0/32715',\n",
       "   'http://www.opengis.net/def/crs/EPSG/0/32716',\n",
       "   'http://www.opengis.net/def/crs/EPSG/0/32717',\n",
       "   'http://www.opengis.net/def/crs/EPSG/0/32718',\n",
       "   'http://www.opengis.net/def/crs/EPSG/0/32719',\n",
       "   'http://www.opengis.net/def/crs/EPSG/0/32720',\n",
       "   'http://www.opengis.net/def/crs/EPSG/0/32721',\n",
       "   'http://www.opengis.net/def/crs/EPSG/0/32722',\n",
       "   'http://www.opengis.net/def/crs/EPSG/0/32723',\n",
       "   'http://www.opengis.net/def/crs/EPSG/0/32724',\n",
       "   'http://www.opengis.net/def/crs/EPSG/0/32725',\n",
       "   'http://www.opengis.net/def/crs/EPSG/0/32726',\n",
       "   'http://www.opengis.net/def/crs/EPSG/0/32727',\n",
       "   'http://www.opengis.net/def/crs/EPSG/0/32728',\n",
       "   'http://www.opengis.net/def/crs/EPSG/0/32729',\n",
       "   'http://www.opengis.net/def/crs/EPSG/0/32730',\n",
       "   'http://www.opengis.net/def/crs/EPSG/0/32731',\n",
       "   'http://www.opengis.net/def/crs/EPSG/0/32732',\n",
       "   'http://www.opengis.net/def/crs/EPSG/0/32733',\n",
       "   'http://www.opengis.net/def/crs/EPSG/0/32734',\n",
       "   'http://www.opengis.net/def/crs/EPSG/0/32735',\n",
       "   'http://www.opengis.net/def/crs/EPSG/0/32736',\n",
       "   'http://www.opengis.net/def/crs/EPSG/0/32737',\n",
       "   'http://www.opengis.net/def/crs/EPSG/0/32738',\n",
       "   'http://www.opengis.net/def/crs/EPSG/0/32739',\n",
       "   'http://www.opengis.net/def/crs/EPSG/0/32740',\n",
       "   'http://www.opengis.net/def/crs/EPSG/0/32741',\n",
       "   'http://www.opengis.net/def/crs/EPSG/0/32742',\n",
       "   'http://www.opengis.net/def/crs/EPSG/0/32743',\n",
       "   'http://www.opengis.net/def/crs/EPSG/0/32744',\n",
       "   'http://www.opengis.net/def/crs/EPSG/0/32745',\n",
       "   'http://www.opengis.net/def/crs/EPSG/0/32746',\n",
       "   'http://www.opengis.net/def/crs/EPSG/0/32746',\n",
       "   'http://www.opengis.net/def/crs/EPSG/0/32748',\n",
       "   'http://www.opengis.net/def/crs/EPSG/0/32749',\n",
       "   'http://www.opengis.net/def/crs/EPSG/0/32750',\n",
       "   'http://www.opengis.net/def/crs/EPSG/0/32751',\n",
       "   'http://www.opengis.net/def/crs/EPSG/0/32752',\n",
       "   'http://www.opengis.net/def/crs/EPSG/0/32753',\n",
       "   'http://www.opengis.net/def/crs/EPSG/0/32754',\n",
       "   'http://www.opengis.net/def/crs/EPSG/0/32755',\n",
       "   'http://www.opengis.net/def/crs/EPSG/0/32756',\n",
       "   'http://www.opengis.net/def/crs/EPSG/0/32757',\n",
       "   'http://www.opengis.net/def/crs/EPSG/0/32758',\n",
       "   'http://www.opengis.net/def/crs/EPSG/0/32759',\n",
       "   'http://www.opengis.net/def/crs/EPSG/0/32760',\n",
       "   'http://www.opengis.net/def/crs/SR-ORG/0/98739'],\n",
       "  'eo:bands': [{'center_wavelength': 0.485,\n",
       "    'common_name': 'blue',\n",
       "    'description': 'Blue (485 nm)',\n",
       "    'full_width_half_max': 0.3,\n",
       "    'name': 'B1',\n",
       "    'openeo:gsd': {'unit': 'm', 'value': [3, 3]}},\n",
       "   {'center_wavelength': 0.545,\n",
       "    'common_name': 'green',\n",
       "    'description': 'Green (545 nm)',\n",
       "    'full_width_half_max': 0.45,\n",
       "    'name': 'B2',\n",
       "    'openeo:gsd': {'unit': 'm', 'value': [3, 3]}},\n",
       "   {'center_wavelength': 0.63,\n",
       "    'common_name': 'red',\n",
       "    'description': 'Red (630 nm)',\n",
       "    'full_width_half_max': 0.4,\n",
       "    'name': 'B3',\n",
       "    'openeo:gsd': {'unit': 'm', 'value': [3, 3]}},\n",
       "   {'center_wavelength': 0.82,\n",
       "    'common_name': 'nir08',\n",
       "    'description': 'Near Infrared (820 nm)',\n",
       "    'full_width_half_max': 0.4,\n",
       "    'name': 'B4',\n",
       "    'openeo:gsd': {'unit': 'm', 'value': [3, 3]}},\n",
       "   {'description': 'Unusable Data Mask',\n",
       "    'name': 'UDM',\n",
       "    'openeo:gsd': {'unit': 'm', 'value': [3, 3]}}]},\n",
       " 'title': 'PlanetScope'}"
      ]
     },
     "execution_count": 20,
     "metadata": {},
     "output_type": "execute_result"
    }
   ],
   "source": [
    "connection.describe_collection(\"PLANETSCOPE\")"
   ]
  },
  {
   "cell_type": "markdown",
   "id": "af585131",
   "metadata": {},
   "source": [
    "## Authentication"
   ]
  },
  {
   "cell_type": "markdown",
   "id": "c53e42d5",
   "metadata": {},
   "source": [
    "**Authenticate via EGI**"
   ]
  },
  {
   "cell_type": "code",
   "execution_count": 21,
   "id": "d9d6f113",
   "metadata": {},
   "outputs": [
    {
     "name": "stdout",
     "output_type": "stream",
     "text": [
      "Authenticated using refresh token.\n"
     ]
    },
    {
     "data": {
      "text/plain": [
       "<Connection to 'https://openeocloud.vito.be/openeo/1.0.0/' with BearerAuth>"
      ]
     },
     "execution_count": 21,
     "metadata": {},
     "output_type": "execute_result"
    }
   ],
   "source": [
    "connection.authenticate_oidc(\"egi\")"
   ]
  },
  {
   "cell_type": "markdown",
   "id": "78f142bf",
   "metadata": {},
   "source": [
    "**Verify that authentication was sucesfully performed by requesting the account info role.**"
   ]
  },
  {
   "cell_type": "code",
   "execution_count": 22,
   "id": "65e060c8",
   "metadata": {},
   "outputs": [
    {
     "data": {
      "text/plain": [
       "['EarlyAdopter']"
      ]
     },
     "execution_count": 22,
     "metadata": {},
     "output_type": "execute_result"
    }
   ],
   "source": [
    "connection.describe_account()[\"info\"][\"roles\"]"
   ]
  },
  {
   "cell_type": "markdown",
   "id": "139063db",
   "metadata": {},
   "source": [
    "## Connect to private collection and download data"
   ]
  },
  {
   "cell_type": "markdown",
   "id": "f67fbb55",
   "metadata": {},
   "source": [
    "**Set BYOC collection id**  "
   ]
  },
  {
   "cell_type": "code",
   "execution_count": 24,
   "id": "033eb278",
   "metadata": {},
   "outputs": [],
   "source": [
    "byoc_id_uc8 = 'ENTER BYOC ID UC8 HERE'\n",
    "byoc_id_african_script_contest = 'ENTER BYOC ID AFRICAN SCRIPT CONTEST HERE'"
   ]
  },
  {
   "cell_type": "markdown",
   "id": "cd60be7b",
   "metadata": {},
   "source": [
    "**Example with Planet data for study area 65 from UC8**"
   ]
  },
  {
   "cell_type": "code",
   "execution_count": 25,
   "id": "88aa67e2",
   "metadata": {},
   "outputs": [],
   "source": [
    "byoc_collection_id = byoc_id_uc8\n",
    "\n",
    "toc = connection.load_collection(\n",
    "    collection_id=\"PLANETSCOPE\",\n",
    "    spatial_extent={\"west\": 8.51666, \"south\": 49.86128, \"east\": 8.52365, \"north\": 49.86551},\n",
    "    temporal_extent=[\"2021-12-06\", \"2021-12-06\"],\n",
    "    bands=[\"B4\"]\n",
    ")\n",
    "\n",
    "toc._pg.arguments['featureflags'] = {'byoc_collection_id': byoc_collection_id}\n",
    "\n",
    "output_tiff = \"PlanetScope_b4_study_side_65_uc8.tif\"\n",
    "toc.download(output_tiff, format=\"GTiff\")"
   ]
  },
  {
   "cell_type": "markdown",
   "id": "8ab049b1",
   "metadata": {},
   "source": [
    "The downloaded tiff can be found in the same folder as the notebook (SRR3_notebooks\\notebooks)."
   ]
  },
  {
   "cell_type": "markdown",
   "id": "2f8d9472",
   "metadata": {},
   "source": [
    "**Example with Planet data from African script contest**"
   ]
  },
  {
   "cell_type": "code",
   "execution_count": 26,
   "id": "b233f1e1",
   "metadata": {},
   "outputs": [],
   "source": [
    "byoc_collection_id = byoc_id_african_script_contest\n",
    "\n",
    "toc = connection.load_collection(\n",
    "    collection_id=\"PLANETSCOPE\",\n",
    "    spatial_extent={\"west\": -17.348314, \"south\": 14.743654, \"east\": -17.307115, \"north\": 14.762578},\n",
    "    temporal_extent=[\"2021-05-11\", \"2021-05-11\"],\n",
    "    bands=[\"B2\"]\n",
    ")\n",
    "\n",
    "toc._pg.arguments['featureflags'] = {'byoc_collection_id': byoc_collection_id}\n",
    "\n",
    "output_tiff = \"PlanetScope_b2_african_script_contest.tif\"\n",
    "toc.download(output_tiff, format=\"GTiff\")"
   ]
  }
 ],
 "metadata": {
  "kernelspec": {
   "display_name": "Python 3 (ipykernel)",
   "language": "python",
   "name": "python3"
  },
  "language_info": {
   "codemirror_mode": {
    "name": "ipython",
    "version": 3
   },
   "file_extension": ".py",
   "mimetype": "text/x-python",
   "name": "python",
   "nbconvert_exporter": "python",
   "pygments_lexer": "ipython3",
   "version": "3.8.8"
  }
 },
 "nbformat": 4,
 "nbformat_minor": 5
}
