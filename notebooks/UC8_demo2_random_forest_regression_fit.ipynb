{
 "cells": [
  {
   "cell_type": "markdown",
   "id": "c760cedb-d627-4c3a-a198-83e71df9eeb9",
   "metadata": {},
   "source": [
    "<img src=\"https://avatars.githubusercontent.com/u/74911464?s=200&v=4\"\n",
    "     alt=\"OpenEO Platform logo\"\n",
    "     style=\"float: left; margin-right: 10px;\" />\n",
    "# openEO Platform UC8"
   ]
  },
  {
   "cell_type": "markdown",
   "id": "c431dd6d",
   "metadata": {},
   "source": [
    "### Requirements"
   ]
  },
  {
   "cell_type": "code",
   "execution_count": 1,
   "id": "db8b5896",
   "metadata": {},
   "outputs": [],
   "source": [
    "import openeo\n",
    "from openeo.processes import median, mean\n",
    "from openeo.rest.datacube import PGNode, THIS\n",
    "import geopandas as gpd"
   ]
  },
  {
   "cell_type": "markdown",
   "id": "af585131",
   "metadata": {},
   "source": [
    "## Connection"
   ]
  },
  {
   "cell_type": "markdown",
   "id": "b65d9538",
   "metadata": {},
   "source": [
    "Connect to the OpenEO back-end using the OpenEO client"
   ]
  },
  {
   "cell_type": "code",
   "execution_count": 2,
   "id": "6fa11ae3",
   "metadata": {},
   "outputs": [],
   "source": [
    "# conn = openeo.connect(\"openeo.cloud\")\n",
    "conn = openeo.connect(\"https://openeo-dev.eodc.eu/v1.0\")"
   ]
  },
  {
   "cell_type": "markdown",
   "id": "c53e42d5",
   "metadata": {},
   "source": [
    "Authenticate via EGI Check-in (OpenID Connect)"
   ]
  },
  {
   "cell_type": "code",
   "execution_count": 3,
   "id": "d9d6f113",
   "metadata": {},
   "outputs": [
    {
     "name": "stdout",
     "output_type": "stream",
     "text": [
      "Authenticated using refresh token.\n"
     ]
    },
    {
     "data": {
      "text/plain": [
       "<Connection to 'https://openeo-dev.eodc.eu/v1.0' with BearerAuth>"
      ]
     },
     "execution_count": 3,
     "metadata": {},
     "output_type": "execute_result"
    }
   ],
   "source": [
    "conn.authenticate_oidc(\"egi\")"
   ]
  },
  {
   "cell_type": "markdown",
   "id": "f3e4d503-1c39-433d-bfd3-1a91378f7eb5",
   "metadata": {},
   "source": [
    "Load the polygons from the first AOI and perform an aggregation over Sentinel-2 and Sentinel-1"
   ]
  },
  {
   "cell_type": "code",
   "execution_count": 4,
   "id": "e1840148-2688-47f4-8dc1-21eba6f2bf30",
   "metadata": {
    "scrolled": true,
    "tags": []
   },
   "outputs": [
    {
     "data": {
      "text/html": [
       "<div>\n",
       "<style scoped>\n",
       "    .dataframe tbody tr th:only-of-type {\n",
       "        vertical-align: middle;\n",
       "    }\n",
       "\n",
       "    .dataframe tbody tr th {\n",
       "        vertical-align: top;\n",
       "    }\n",
       "\n",
       "    .dataframe thead th {\n",
       "        text-align: right;\n",
       "    }\n",
       "</style>\n",
       "<table border=\"1\" class=\"dataframe\">\n",
       "  <thead>\n",
       "    <tr style=\"text-align: right;\">\n",
       "      <th></th>\n",
       "      <th>id</th>\n",
       "      <th>target_canopy_cover</th>\n",
       "      <th>geometry</th>\n",
       "    </tr>\n",
       "  </thead>\n",
       "  <tbody>\n",
       "    <tr>\n",
       "      <th>0</th>\n",
       "      <td>0</td>\n",
       "      <td>0.118795</td>\n",
       "      <td>POLYGON ((4691600.000 1950570.000, 4691660.000...</td>\n",
       "    </tr>\n",
       "    <tr>\n",
       "      <th>1</th>\n",
       "      <td>1</td>\n",
       "      <td>0.699634</td>\n",
       "      <td>POLYGON ((4691600.000 1950510.000, 4691660.000...</td>\n",
       "    </tr>\n",
       "    <tr>\n",
       "      <th>2</th>\n",
       "      <td>2</td>\n",
       "      <td>1.000000</td>\n",
       "      <td>POLYGON ((4691660.000 1950870.000, 4691720.000...</td>\n",
       "    </tr>\n",
       "    <tr>\n",
       "      <th>3</th>\n",
       "      <td>3</td>\n",
       "      <td>0.833854</td>\n",
       "      <td>POLYGON ((4691660.000 1950810.000, 4691720.000...</td>\n",
       "    </tr>\n",
       "    <tr>\n",
       "      <th>4</th>\n",
       "      <td>4</td>\n",
       "      <td>0.119751</td>\n",
       "      <td>POLYGON ((4691660.000 1950750.000, 4691720.000...</td>\n",
       "    </tr>\n",
       "    <tr>\n",
       "      <th>5</th>\n",
       "      <td>5</td>\n",
       "      <td>0.016959</td>\n",
       "      <td>POLYGON ((4691660.000 1950690.000, 4691720.000...</td>\n",
       "    </tr>\n",
       "    <tr>\n",
       "      <th>6</th>\n",
       "      <td>6</td>\n",
       "      <td>0.000000</td>\n",
       "      <td>POLYGON ((4691660.000 1950630.000, 4691720.000...</td>\n",
       "    </tr>\n",
       "    <tr>\n",
       "      <th>7</th>\n",
       "      <td>7</td>\n",
       "      <td>0.034963</td>\n",
       "      <td>POLYGON ((4691660.000 1950570.000, 4691720.000...</td>\n",
       "    </tr>\n",
       "    <tr>\n",
       "      <th>8</th>\n",
       "      <td>8</td>\n",
       "      <td>0.113942</td>\n",
       "      <td>POLYGON ((4691660.000 1950510.000, 4691720.000...</td>\n",
       "    </tr>\n",
       "    <tr>\n",
       "      <th>9</th>\n",
       "      <td>9</td>\n",
       "      <td>1.000000</td>\n",
       "      <td>POLYGON ((4691720.000 1950870.000, 4691780.000...</td>\n",
       "    </tr>\n",
       "    <tr>\n",
       "      <th>10</th>\n",
       "      <td>10</td>\n",
       "      <td>0.963634</td>\n",
       "      <td>POLYGON ((4691720.000 1950810.000, 4691780.000...</td>\n",
       "    </tr>\n",
       "    <tr>\n",
       "      <th>11</th>\n",
       "      <td>11</td>\n",
       "      <td>0.701151</td>\n",
       "      <td>POLYGON ((4691720.000 1950750.000, 4691780.000...</td>\n",
       "    </tr>\n",
       "    <tr>\n",
       "      <th>12</th>\n",
       "      <td>12</td>\n",
       "      <td>0.272140</td>\n",
       "      <td>POLYGON ((4691720.000 1950690.000, 4691780.000...</td>\n",
       "    </tr>\n",
       "    <tr>\n",
       "      <th>13</th>\n",
       "      <td>13</td>\n",
       "      <td>0.079471</td>\n",
       "      <td>POLYGON ((4691720.000 1950630.000, 4691780.000...</td>\n",
       "    </tr>\n",
       "    <tr>\n",
       "      <th>14</th>\n",
       "      <td>14</td>\n",
       "      <td>0.035700</td>\n",
       "      <td>POLYGON ((4691720.000 1950570.000, 4691780.000...</td>\n",
       "    </tr>\n",
       "    <tr>\n",
       "      <th>15</th>\n",
       "      <td>15</td>\n",
       "      <td>0.017342</td>\n",
       "      <td>POLYGON ((4691720.000 1950510.000, 4691780.000...</td>\n",
       "    </tr>\n",
       "    <tr>\n",
       "      <th>16</th>\n",
       "      <td>16</td>\n",
       "      <td>0.998419</td>\n",
       "      <td>POLYGON ((4691780.000 1950810.000, 4691840.000...</td>\n",
       "    </tr>\n",
       "    <tr>\n",
       "      <th>17</th>\n",
       "      <td>17</td>\n",
       "      <td>0.971560</td>\n",
       "      <td>POLYGON ((4691780.000 1950750.000, 4691840.000...</td>\n",
       "    </tr>\n",
       "    <tr>\n",
       "      <th>18</th>\n",
       "      <td>18</td>\n",
       "      <td>0.763132</td>\n",
       "      <td>POLYGON ((4691780.000 1950690.000, 4691840.000...</td>\n",
       "    </tr>\n",
       "    <tr>\n",
       "      <th>19</th>\n",
       "      <td>19</td>\n",
       "      <td>0.534242</td>\n",
       "      <td>POLYGON ((4691780.000 1950630.000, 4691840.000...</td>\n",
       "    </tr>\n",
       "    <tr>\n",
       "      <th>20</th>\n",
       "      <td>20</td>\n",
       "      <td>0.502456</td>\n",
       "      <td>POLYGON ((4691780.000 1950570.000, 4691840.000...</td>\n",
       "    </tr>\n",
       "    <tr>\n",
       "      <th>21</th>\n",
       "      <td>21</td>\n",
       "      <td>0.500118</td>\n",
       "      <td>POLYGON ((4691780.000 1950510.000, 4691840.000...</td>\n",
       "    </tr>\n",
       "    <tr>\n",
       "      <th>22</th>\n",
       "      <td>22</td>\n",
       "      <td>0.947163</td>\n",
       "      <td>POLYGON ((4691840.000 1950810.000, 4691900.000...</td>\n",
       "    </tr>\n",
       "    <tr>\n",
       "      <th>23</th>\n",
       "      <td>23</td>\n",
       "      <td>0.999737</td>\n",
       "      <td>POLYGON ((4691840.000 1950750.000, 4691900.000...</td>\n",
       "    </tr>\n",
       "    <tr>\n",
       "      <th>24</th>\n",
       "      <td>24</td>\n",
       "      <td>0.987689</td>\n",
       "      <td>POLYGON ((4691840.000 1950690.000, 4691900.000...</td>\n",
       "    </tr>\n",
       "    <tr>\n",
       "      <th>25</th>\n",
       "      <td>25</td>\n",
       "      <td>0.843740</td>\n",
       "      <td>POLYGON ((4691840.000 1950630.000, 4691900.000...</td>\n",
       "    </tr>\n",
       "    <tr>\n",
       "      <th>26</th>\n",
       "      <td>26</td>\n",
       "      <td>0.590685</td>\n",
       "      <td>POLYGON ((4691840.000 1950570.000, 4691900.000...</td>\n",
       "    </tr>\n",
       "    <tr>\n",
       "      <th>27</th>\n",
       "      <td>27</td>\n",
       "      <td>0.565362</td>\n",
       "      <td>POLYGON ((4691840.000 1950510.000, 4691900.000...</td>\n",
       "    </tr>\n",
       "    <tr>\n",
       "      <th>28</th>\n",
       "      <td>28</td>\n",
       "      <td>0.980088</td>\n",
       "      <td>POLYGON ((4691900.000 1950810.000, 4691960.000...</td>\n",
       "    </tr>\n",
       "    <tr>\n",
       "      <th>29</th>\n",
       "      <td>29</td>\n",
       "      <td>1.000000</td>\n",
       "      <td>POLYGON ((4691900.000 1950750.000, 4691960.000...</td>\n",
       "    </tr>\n",
       "    <tr>\n",
       "      <th>30</th>\n",
       "      <td>30</td>\n",
       "      <td>0.993461</td>\n",
       "      <td>POLYGON ((4691900.000 1950690.000, 4691960.000...</td>\n",
       "    </tr>\n",
       "    <tr>\n",
       "      <th>31</th>\n",
       "      <td>31</td>\n",
       "      <td>0.827915</td>\n",
       "      <td>POLYGON ((4691900.000 1950630.000, 4691960.000...</td>\n",
       "    </tr>\n",
       "    <tr>\n",
       "      <th>32</th>\n",
       "      <td>32</td>\n",
       "      <td>0.614410</td>\n",
       "      <td>POLYGON ((4691900.000 1950570.000, 4691960.000...</td>\n",
       "    </tr>\n",
       "    <tr>\n",
       "      <th>33</th>\n",
       "      <td>33</td>\n",
       "      <td>0.131523</td>\n",
       "      <td>POLYGON ((4691900.000 1950510.000, 4691960.000...</td>\n",
       "    </tr>\n",
       "    <tr>\n",
       "      <th>34</th>\n",
       "      <td>34</td>\n",
       "      <td>1.000000</td>\n",
       "      <td>POLYGON ((4691960.000 1950810.000, 4692020.000...</td>\n",
       "    </tr>\n",
       "    <tr>\n",
       "      <th>35</th>\n",
       "      <td>35</td>\n",
       "      <td>1.000000</td>\n",
       "      <td>POLYGON ((4691960.000 1950750.000, 4692020.000...</td>\n",
       "    </tr>\n",
       "    <tr>\n",
       "      <th>36</th>\n",
       "      <td>36</td>\n",
       "      <td>0.938588</td>\n",
       "      <td>POLYGON ((4691960.000 1950690.000, 4692020.000...</td>\n",
       "    </tr>\n",
       "    <tr>\n",
       "      <th>37</th>\n",
       "      <td>37</td>\n",
       "      <td>0.863728</td>\n",
       "      <td>POLYGON ((4691960.000 1950630.000, 4692020.000...</td>\n",
       "    </tr>\n",
       "    <tr>\n",
       "      <th>38</th>\n",
       "      <td>38</td>\n",
       "      <td>0.741159</td>\n",
       "      <td>POLYGON ((4691960.000 1950570.000, 4692020.000...</td>\n",
       "    </tr>\n",
       "    <tr>\n",
       "      <th>39</th>\n",
       "      <td>39</td>\n",
       "      <td>0.270155</td>\n",
       "      <td>POLYGON ((4691960.000 1950510.000, 4692020.000...</td>\n",
       "    </tr>\n",
       "    <tr>\n",
       "      <th>40</th>\n",
       "      <td>40</td>\n",
       "      <td>0.703821</td>\n",
       "      <td>POLYGON ((4692020.000 1950810.000, 4692080.000...</td>\n",
       "    </tr>\n",
       "    <tr>\n",
       "      <th>41</th>\n",
       "      <td>41</td>\n",
       "      <td>0.662411</td>\n",
       "      <td>POLYGON ((4692020.000 1950750.000, 4692080.000...</td>\n",
       "    </tr>\n",
       "    <tr>\n",
       "      <th>42</th>\n",
       "      <td>42</td>\n",
       "      <td>0.672022</td>\n",
       "      <td>POLYGON ((4692020.000 1950690.000, 4692080.000...</td>\n",
       "    </tr>\n",
       "    <tr>\n",
       "      <th>43</th>\n",
       "      <td>43</td>\n",
       "      <td>0.657121</td>\n",
       "      <td>POLYGON ((4692020.000 1950630.000, 4692080.000...</td>\n",
       "    </tr>\n",
       "  </tbody>\n",
       "</table>\n",
       "</div>"
      ],
      "text/plain": [
       "    id  target_canopy_cover                                           geometry\n",
       "0    0             0.118795  POLYGON ((4691600.000 1950570.000, 4691660.000...\n",
       "1    1             0.699634  POLYGON ((4691600.000 1950510.000, 4691660.000...\n",
       "2    2             1.000000  POLYGON ((4691660.000 1950870.000, 4691720.000...\n",
       "3    3             0.833854  POLYGON ((4691660.000 1950810.000, 4691720.000...\n",
       "4    4             0.119751  POLYGON ((4691660.000 1950750.000, 4691720.000...\n",
       "5    5             0.016959  POLYGON ((4691660.000 1950690.000, 4691720.000...\n",
       "6    6             0.000000  POLYGON ((4691660.000 1950630.000, 4691720.000...\n",
       "7    7             0.034963  POLYGON ((4691660.000 1950570.000, 4691720.000...\n",
       "8    8             0.113942  POLYGON ((4691660.000 1950510.000, 4691720.000...\n",
       "9    9             1.000000  POLYGON ((4691720.000 1950870.000, 4691780.000...\n",
       "10  10             0.963634  POLYGON ((4691720.000 1950810.000, 4691780.000...\n",
       "11  11             0.701151  POLYGON ((4691720.000 1950750.000, 4691780.000...\n",
       "12  12             0.272140  POLYGON ((4691720.000 1950690.000, 4691780.000...\n",
       "13  13             0.079471  POLYGON ((4691720.000 1950630.000, 4691780.000...\n",
       "14  14             0.035700  POLYGON ((4691720.000 1950570.000, 4691780.000...\n",
       "15  15             0.017342  POLYGON ((4691720.000 1950510.000, 4691780.000...\n",
       "16  16             0.998419  POLYGON ((4691780.000 1950810.000, 4691840.000...\n",
       "17  17             0.971560  POLYGON ((4691780.000 1950750.000, 4691840.000...\n",
       "18  18             0.763132  POLYGON ((4691780.000 1950690.000, 4691840.000...\n",
       "19  19             0.534242  POLYGON ((4691780.000 1950630.000, 4691840.000...\n",
       "20  20             0.502456  POLYGON ((4691780.000 1950570.000, 4691840.000...\n",
       "21  21             0.500118  POLYGON ((4691780.000 1950510.000, 4691840.000...\n",
       "22  22             0.947163  POLYGON ((4691840.000 1950810.000, 4691900.000...\n",
       "23  23             0.999737  POLYGON ((4691840.000 1950750.000, 4691900.000...\n",
       "24  24             0.987689  POLYGON ((4691840.000 1950690.000, 4691900.000...\n",
       "25  25             0.843740  POLYGON ((4691840.000 1950630.000, 4691900.000...\n",
       "26  26             0.590685  POLYGON ((4691840.000 1950570.000, 4691900.000...\n",
       "27  27             0.565362  POLYGON ((4691840.000 1950510.000, 4691900.000...\n",
       "28  28             0.980088  POLYGON ((4691900.000 1950810.000, 4691960.000...\n",
       "29  29             1.000000  POLYGON ((4691900.000 1950750.000, 4691960.000...\n",
       "30  30             0.993461  POLYGON ((4691900.000 1950690.000, 4691960.000...\n",
       "31  31             0.827915  POLYGON ((4691900.000 1950630.000, 4691960.000...\n",
       "32  32             0.614410  POLYGON ((4691900.000 1950570.000, 4691960.000...\n",
       "33  33             0.131523  POLYGON ((4691900.000 1950510.000, 4691960.000...\n",
       "34  34             1.000000  POLYGON ((4691960.000 1950810.000, 4692020.000...\n",
       "35  35             1.000000  POLYGON ((4691960.000 1950750.000, 4692020.000...\n",
       "36  36             0.938588  POLYGON ((4691960.000 1950690.000, 4692020.000...\n",
       "37  37             0.863728  POLYGON ((4691960.000 1950630.000, 4692020.000...\n",
       "38  38             0.741159  POLYGON ((4691960.000 1950570.000, 4692020.000...\n",
       "39  39             0.270155  POLYGON ((4691960.000 1950510.000, 4692020.000...\n",
       "40  40             0.703821  POLYGON ((4692020.000 1950810.000, 4692080.000...\n",
       "41  41             0.662411  POLYGON ((4692020.000 1950750.000, 4692080.000...\n",
       "42  42             0.672022  POLYGON ((4692020.000 1950690.000, 4692080.000...\n",
       "43  43             0.657121  POLYGON ((4692020.000 1950630.000, 4692080.000..."
      ]
     },
     "execution_count": 4,
     "metadata": {},
     "output_type": "execute_result"
    }
   ],
   "source": [
    "aoi0_gdf = gpd.read_file(\"https://raw.githubusercontent.com/openEOPlatform/SRR3_notebooks/main/notebooks/resources/UC8/vector_data/target_canopy_cover_60m_equi7/target_canopy_cover_equi7_60m_AOI0.geojson\")\n",
    "aoi0_gdf"
   ]
  },
  {
   "cell_type": "markdown",
   "id": "bda105f7-cc46-411c-a4f6-dcff7cd4783e",
   "metadata": {},
   "source": [
    "Get the AOI bounds in EQUI7 and use them in load_collection."
   ]
  },
  {
   "cell_type": "code",
   "execution_count": 5,
   "id": "59a27986-50e3-4f4f-9ec1-3072026f32e7",
   "metadata": {},
   "outputs": [
    {
     "data": {
      "text/plain": [
       "array([4691600., 1950510., 4692080., 1950930.])"
      ]
     },
     "execution_count": 5,
     "metadata": {},
     "output_type": "execute_result"
    }
   ],
   "source": [
    "aoi_bounds = aoi0_gdf.total_bounds\n",
    "aoi_bounds"
   ]
  },
  {
   "cell_type": "markdown",
   "id": "b3b97fb5-86b9-41a3-a258-ab81c9769fb5",
   "metadata": {},
   "source": [
    "Load the Sentinel-2 data for summer 2018 and take the median over time:"
   ]
  },
  {
   "cell_type": "code",
   "execution_count": 6,
   "id": "1583902b-f519-438b-8446-8a4fac06b982",
   "metadata": {},
   "outputs": [],
   "source": [
    "collection      = \"boa_sentinel_2\"\n",
    "spatial_extent  = {\"crs\": \"PROJCRS[\\\"Azimuthal_Equidistant\\\",BASEGEOGCRS[\\\"WGS 84\\\",DATUM[\\\"World Geodetic System 1984\\\",ELLIPSOID[\\\"WGS 84\\\",6378137,298.257223563,LENGTHUNIT[\\\"metre\\\",1]]],PRIMEM[\\\"Greenwich\\\",0,ANGLEUNIT[\\\"degree\\\",0.0174532925199433]],ID[\\\"EPSG\\\",4326]],CONVERSION[\\\"Modified Azimuthal Equidistant\\\",METHOD[\\\"Modified Azimuthal Equidistant\\\",ID[\\\"EPSG\\\",9832]],PARAMETER[\\\"Latitude of natural origin\\\",53,ANGLEUNIT[\\\"degree\\\",0.0174532925199433],ID[\\\"EPSG\\\",8801]],PARAMETER[\\\"Longitude of natural origin\\\",24,ANGLEUNIT[\\\"degree\\\",0.0174532925199433],ID[\\\"EPSG\\\",8802]],PARAMETER[\\\"False easting\\\",5837287.81977,LENGTHUNIT[\\\"metre\\\",1],ID[\\\"EPSG\\\",8806]],PARAMETER[\\\"False northing\\\",2121415.69617,LENGTHUNIT[\\\"metre\\\",1],ID[\\\"EPSG\\\",8807]]],CS[Cartesian,2],AXIS[\\\"easting\\\",east,ORDER[1],LENGTHUNIT[\\\"metre\\\",1,ID[\\\"EPSG\\\",9001]]],AXIS[\\\"northing\\\",north,ORDER[2],LENGTHUNIT[\\\"metre\\\",1,ID[\\\"EPSG\\\",9001]]]]\",\n",
    "                   \"east\": aoi_bounds[0],\n",
    "                   \"north\": aoi_bounds[1],\n",
    "                   \"south\": aoi_bounds[3],\n",
    "                   \"west\": aoi_bounds[2]}\n",
    "temporal_extent = [\"2018-05-01\", \"2018-09-01\"]\n",
    "bands           = [\"B02\",\"B03\",\"B04\",\"B08\"]\n",
    "\n",
    "boa_sentinel_2_cube = conn.load_collection(\n",
    "    collection_id   = collection,\n",
    "    spatial_extent  = spatial_extent,\n",
    "    temporal_extent = temporal_extent,\n",
    "    bands = bands\n",
    "    )"
   ]
  },
  {
   "cell_type": "code",
   "execution_count": 7,
   "id": "1c2475ca-7271-42e0-8e45-aa1be10d45ab",
   "metadata": {},
   "outputs": [],
   "source": [
    "boa_sentinel_2_cube_reduced = boa_sentinel_2_cube.reduce_dimension(dimension=\"t\",reducer=median)"
   ]
  },
  {
   "cell_type": "markdown",
   "id": "1538da89-7665-42b3-8ee8-7c6309502b74",
   "metadata": {},
   "source": [
    "Load the Sentinel-1 data for summer 2018 and take the median over time:"
   ]
  },
  {
   "cell_type": "code",
   "execution_count": 8,
   "id": "203855e2-210a-4f2d-8a79-985f03ab2516",
   "metadata": {
    "tags": []
   },
   "outputs": [],
   "source": [
    "collection      = \"SIG0_Sentinel_1\"\n",
    "spatial_extent  = {\"crs\": \"PROJCRS[\\\"Azimuthal_Equidistant\\\",BASEGEOGCRS[\\\"WGS 84\\\",DATUM[\\\"World Geodetic System 1984\\\",ELLIPSOID[\\\"WGS 84\\\",6378137,298.257223563,LENGTHUNIT[\\\"metre\\\",1]]],PRIMEM[\\\"Greenwich\\\",0,ANGLEUNIT[\\\"degree\\\",0.0174532925199433]],ID[\\\"EPSG\\\",4326]],CONVERSION[\\\"Modified Azimuthal Equidistant\\\",METHOD[\\\"Modified Azimuthal Equidistant\\\",ID[\\\"EPSG\\\",9832]],PARAMETER[\\\"Latitude of natural origin\\\",53,ANGLEUNIT[\\\"degree\\\",0.0174532925199433],ID[\\\"EPSG\\\",8801]],PARAMETER[\\\"Longitude of natural origin\\\",24,ANGLEUNIT[\\\"degree\\\",0.0174532925199433],ID[\\\"EPSG\\\",8802]],PARAMETER[\\\"False easting\\\",5837287.81977,LENGTHUNIT[\\\"metre\\\",1],ID[\\\"EPSG\\\",8806]],PARAMETER[\\\"False northing\\\",2121415.69617,LENGTHUNIT[\\\"metre\\\",1],ID[\\\"EPSG\\\",8807]]],CS[Cartesian,2],AXIS[\\\"easting\\\",east,ORDER[1],LENGTHUNIT[\\\"metre\\\",1,ID[\\\"EPSG\\\",9001]]],AXIS[\\\"northing\\\",north,ORDER[2],LENGTHUNIT[\\\"metre\\\",1,ID[\\\"EPSG\\\",9001]]]]\",\n",
    "                   \"east\": aoi_bounds[0],\n",
    "                   \"north\": aoi_bounds[1],\n",
    "                   \"south\": aoi_bounds[3],\n",
    "                   \"west\": aoi_bounds[2]}\n",
    "temporal_extent = [\"2018-05-01\", \"2018-09-01\"]\n",
    "bands           = [\"vh\",\"vv\"]\n",
    "\n",
    "sigma0_sentinel_1_cube = conn.load_collection(\n",
    "    collection_id   = collection,\n",
    "    spatial_extent  = spatial_extent,\n",
    "    temporal_extent = temporal_extent,\n",
    "    bands = bands\n",
    "    )"
   ]
  },
  {
   "cell_type": "code",
   "execution_count": 9,
   "id": "f5a13eae-cbbe-4785-a477-9af5442eba36",
   "metadata": {},
   "outputs": [],
   "source": [
    "sigma0_sentinel_1_cube_reduced = sigma0_sentinel_1_cube.reduce_dimension(dimension=\"t\",reducer=median)"
   ]
  },
  {
   "cell_type": "markdown",
   "id": "1d97b94a-0ef0-4498-b6fa-8fac79e4dc33",
   "metadata": {},
   "source": [
    "Reproject Sentinel-1 20m to match the Sentinel-2 data in 10m using `resample_cube_spatial`:"
   ]
  },
  {
   "cell_type": "code",
   "execution_count": 10,
   "id": "e10932c1-7aac-4064-8b0f-bedfb03d36a4",
   "metadata": {},
   "outputs": [],
   "source": [
    "sigma0_sentinel_1_cube_reduced_10m = sigma0_sentinel_1_cube_reduced.resample_cube_spatial(target=boa_sentinel_2_cube_reduced)"
   ]
  },
  {
   "cell_type": "markdown",
   "id": "71e432c1-5a2e-43f3-a3af-90f30cd80b4c",
   "metadata": {},
   "source": [
    "Merge Sentinel-2 and Sentinel-1 into a single datacube"
   ]
  },
  {
   "cell_type": "code",
   "execution_count": 11,
   "id": "388440b2-a965-4f8b-a3bc-f2dd2ca26dcb",
   "metadata": {},
   "outputs": [],
   "source": [
    "sentinel_2_and_1 = sigma0_sentinel_1_cube_reduced_10m.merge_cubes(boa_sentinel_2_cube_reduced)"
   ]
  },
  {
   "cell_type": "markdown",
   "id": "f137195f-27d8-498e-8fd3-09e55751e54f",
   "metadata": {},
   "source": [
    "Now that we have a single datacube with the Sentinel-2 and Sentinel-1 bands, we can perform our spatial aggregation to generate our training dataset.\n",
    "\n",
    "We firstly load our vector-cube defining the polygons with associated target canopy cover values:"
   ]
  },
  {
   "cell_type": "code",
   "execution_count": 12,
   "id": "a745d5e2-dc81-43fd-b502-fc9c79273414",
   "metadata": {},
   "outputs": [],
   "source": [
    "aoi0_vector_cube = PGNode(\"load_vector_cube\",{\"URL\":\"https://raw.githubusercontent.com/openEOPlatform/SRR3_notebooks/main/notebooks/resources/UC8/vector_data/target_canopy_cover_60m_equi7/target_canopy_cover_equi7_60m_AOI0.geojson\"})"
   ]
  },
  {
   "cell_type": "markdown",
   "id": "2d248c13-946f-4c04-95c4-8d24acef699b",
   "metadata": {},
   "source": [
    "The next step creates the predictors associated with the provided `target_canopy_cover` values in the input geoJSON."
   ]
  },
  {
   "cell_type": "code",
   "execution_count": 13,
   "id": "b1ac4b61-5d87-4050-ac8a-4837296b34c0",
   "metadata": {},
   "outputs": [],
   "source": [
    "sentinel_2_and_1_predictors = sentinel_2_and_1.process(\"aggregate_spatial\",{\"data\":THIS,\"target_dimension\":\"result\",\"geometries\":aoi0_vector_cube,\"reducer\":\"mean\"})"
   ]
  },
  {
   "cell_type": "markdown",
   "id": "dd841c20-f129-4560-960c-366281e4730d",
   "metadata": {},
   "source": [
    "Finally, we can train our Random Forest Regression:"
   ]
  },
  {
   "cell_type": "code",
   "execution_count": 14,
   "id": "140cd264-656e-45d8-b359-eddd93498be5",
   "metadata": {},
   "outputs": [],
   "source": [
    "rf_arguments = {\n",
    "    \"predictors\": sentinel_2_and_1_predictors,\n",
    "    \"target\": aoi0_vector_cube,\n",
    "    \"training\": 1.0,\n",
    "    \"max_variables\" : \"all\",\n",
    "    \"num_trees\": 100,\n",
    "    \"seed\": 0,\n",
    "    \"predictors_vars\": [\"B02\",\"B03\",\"B04\",\"B08\",\"vv\",\"vh\"],\n",
    "    \"target_var\": \"target_canopy_cover\"\n",
    "\n",
    "}\n",
    "\n",
    "rf_model = sentinel_2_and_1_predictors.process(\"fit_regr_random_forest\",rf_arguments)"
   ]
  },
  {
   "cell_type": "markdown",
   "id": "ccf14179-071e-45a6-a7c4-8ef07382bc04",
   "metadata": {},
   "source": [
    "The model is stored using the `save_ml_model` process and can be used later for the predictions step:"
   ]
  },
  {
   "cell_type": "code",
   "execution_count": 15,
   "id": "d1aa208d-0fcd-4873-bf3f-340fb0a365cd",
   "metadata": {},
   "outputs": [],
   "source": [
    "rf_model_saved = rf_model.process(\"save_ml_model\",{\"model\":THIS})"
   ]
  },
  {
   "cell_type": "code",
   "execution_count": null,
   "id": "dd9707aa-c7f8-4c35-b0d0-2896aa31efca",
   "metadata": {},
   "outputs": [],
   "source": [
    "job = rf_model_saved.send_job(title=\"UC8_AOI0_fit_rf_regr\")\n",
    "job_id = job.job_id\n",
    "if job_id:\n",
    "    print(\"Batch job created with id: \",job_id)\n",
    "    job.start_job()\n",
    "else:\n",
    "    print(\"Error! Job ID is None\")"
   ]
  }
 ],
 "metadata": {
  "kernelspec": {
   "display_name": "Python 3",
   "language": "python",
   "name": "python3"
  },
  "language_info": {
   "codemirror_mode": {
    "name": "ipython",
    "version": 3
   },
   "file_extension": ".py",
   "mimetype": "text/x-python",
   "name": "python",
   "nbconvert_exporter": "python",
   "pygments_lexer": "ipython3",
   "version": "3.7.10"
  }
 },
 "nbformat": 4,
 "nbformat_minor": 5
}
