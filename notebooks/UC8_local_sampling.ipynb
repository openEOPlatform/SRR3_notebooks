{
 "cells": [
  {
   "cell_type": "code",
   "execution_count": 2,
   "id": "d8848ade-1c44-4349-a192-006b4dcd3081",
   "metadata": {},
   "outputs": [],
   "source": [
    "import geopandas as gpd\n",
    "import os, glob\n",
    "import xarray as xr\n",
    "from osgeo import gdal\n",
    "from osgeo import ogr\n",
    "import numpy as np\n",
    "import rasterio as rio\n",
    "import pandas as pd\n",
    "from shapely import geometry\n",
    "from shapely.geometry import mapping\n",
    "import shapely.geometry\n",
    "import rioxarray as rxr\n",
    "import pandas as pd\n",
    "os.chdir(\"/home/btufail@eurac.edu/Documents/SRR3_notebooks/\")"
   ]
  },
  {
   "cell_type": "code",
   "execution_count": 16,
   "id": "448cba21-0a57-45c3-bc2a-d8d92bad3577",
   "metadata": {},
   "outputs": [],
   "source": [
    "eusalpbb = gpd.read_file(\"notebooks/resources/UC8/Local/alpinespace_eusalp_boundingbox.shp\")\n",
    "eusalpbb_laea = eusalpbb.to_crs('EPSG:3035')"
   ]
  },
  {
   "cell_type": "code",
   "execution_count": 18,
   "id": "add48356-47aa-49ad-9f9a-3498fb1ae6d1",
   "metadata": {},
   "outputs": [],
   "source": [
    "# Reproject to projected coordinate system\n",
    "#eusalpbb = eusalpbb.to_crs('EPSG:3857')\n",
    "total_bounds = eusalpbb_laea.total_bounds\n",
    "minX, minY, maxX, maxY = total_bounds\n",
    "x, y = (minX, minY)\n",
    "geom_array = []\n",
    "square_size = 75000\n",
    "while y < maxY:\n",
    "    while x < maxX:\n",
    "        geom = geometry.Polygon([(x,y), (x, y+square_size), (x+square_size, y+square_size), (x+square_size, y), (x, y)])\n",
    "        geom_array.append(geom)\n",
    "        x += square_size\n",
    "    x = minX\n",
    "    y += square_size\n",
    " \n",
    "eusalpbb_sites = gpd.GeoDataFrame(geom_array, columns=['geometry']).set_crs('EPSG:3035')\n",
    "eusalpbb_sites.insert(0, 'ID', range(0, 0 + len(eusalpbb_sites)))"
   ]
  },
  {
   "cell_type": "code",
   "execution_count": 13,
   "id": "64dc9750-6e6d-4638-9f73-1ea66d08cabf",
   "metadata": {},
   "outputs": [],
   "source": [
    "eusalpbb_sites.to_file('eusalpbb.geojson')"
   ]
  },
  {
   "cell_type": "code",
   "execution_count": 19,
   "id": "1cdc3f6d-6afb-4871-b03c-bbd07f7bd2de",
   "metadata": {},
   "outputs": [],
   "source": [
    "crlc = rxr.open_rasterio(\"/mnt/CEPH_PROJECTS/sao/ForestCanopy/01_Data/CORINE_2018_250m_Raster/DATA/U2018_CLC2018_V2020_20u1.tif\", masked=True,)"
   ]
  },
  {
   "cell_type": "code",
   "execution_count": 20,
   "id": "2b69dffd-6bb6-43f5-a80a-72107b311087",
   "metadata": {},
   "outputs": [],
   "source": [
    "clc_classes = pd.read_csv(\"notebooks/resources/UC8/Local/clc_classes_final.csv\")"
   ]
  },
  {
   "cell_type": "code",
   "execution_count": 32,
   "id": "b0a17d39-601e-45c6-99eb-4006399844fa",
   "metadata": {},
   "outputs": [],
   "source": [
    "hrl_join = pd.read_csv(\"notebooks/resources/UC8/Local/hrl_table_geo.csv\")"
   ]
  },
  {
   "cell_type": "code",
   "execution_count": 28,
   "id": "f3969448-2a66-4827-864f-1376854e9ff6",
   "metadata": {},
   "outputs": [],
   "source": [
    "geo_grid = []\n",
    "for i in range(0, len(hrl_join)):\n",
    "    r_grid = (hrl_join['Grid'][i])\n",
    "    pre, ext = os.path.splitext(r_grid)\n",
    "    geo = pre+'.geojson'\n",
    "    geo_grid.append(geo)\n",
    "hrl_join['geo_grid'] = geo_grid  \n"
   ]
  },
  {
   "cell_type": "code",
   "execution_count": 34,
   "id": "deb95b8f-b721-4fc2-b259-c6d02ccd6149",
   "metadata": {},
   "outputs": [],
   "source": [
    "for i in range(0, len(hrl_join)):\n",
    "    data = hrl_join['TCD'][i]\n",
    "    output = hrl_join[\"Tile\"][i]+ '_grid.geojson'\n",
    "    ra = rio.open(data)\n",
    "    bounds  = ra.bounds\n",
    "    minX, minY, maxX, maxY = np.array(bounds)\n",
    "    geom_array = []\n",
    "    x, y = (minX, minY)\n",
    "    square_size = 400\n",
    "    while y < maxY:\n",
    "        while x < maxX:\n",
    "            geom = geometry.Polygon([(x,y), (x, y+square_size), (x+square_size, y+square_size), (x+square_size, y), (x, y)])\n",
    "            geom_array.append(geom)\n",
    "            x += square_size\n",
    "        x = minX\n",
    "        y += square_size\n",
    "    fishnet = gpd.GeoDataFrame(geom_array, columns=['geometry']).set_crs('EPSG:3035')\n",
    "    fishnet.to_file(output, driver='GeoJSON')\n",
    "    break"
   ]
  },
  {
   "cell_type": "code",
   "execution_count": null,
   "id": "83d32da8-0446-4471-82df-7cb921b0b890",
   "metadata": {},
   "outputs": [],
   "source": [
    "for i in range(0, len(hrl_join)):\n",
    "    r1 = rxr.open_rasterio(hrl_join['TCD'][i]) \n",
    "    r2 = rxr.open_rasterio(hrl_join['DLT'][i])\n",
    "    r_grid = gpd.read_file(hrl_join['geo_grid'][i])\n",
    "    result = calcMetric(r1,r2,crlc,r_grid)\n",
    "    result_gpd = gpd.GeoDataFrame(result, columns=['geometry', 'DomAbs', 'DomType', 'HRLPerc', 'Density', 'CLCclasses', 'CLCperc', 'CLCother']).set_crs('EPSG:3035')\n",
    "    outfile = hrl_join[\"Tile\"][i]+ '_shapefile_select_noscore.geojson'\n",
    "    result_gpd.to_file(outfile, driver='GeoJSON')\n",
    "    break"
   ]
  },
  {
   "cell_type": "code",
   "execution_count": 14,
   "id": "507db328-d522-4987-a41e-7030c4318dbb",
   "metadata": {},
   "outputs": [],
   "source": [
    "def calcMetric(r1,r2,r3,j):\n",
    "    b1 = pd.DataFrame(columns = ['geometry', 'DomAbs', 'DomType', 'HRLPerc', 'Density', 'CLCclasses', 'CLCperc', 'CLCother']) \n",
    "    for index, row in j.iterrows():\n",
    "        #print(row)\n",
    "        cr_tcd = r1.rio.clip(row)\n",
    "        cr_trtype = r2.rio.clip(row)\n",
    "        cr_crlc = r3.rio.clip(row, from_disk=True)\n",
    "    \n",
    "    #Calculate tree density#\n",
    "        cr_tcd_mn = int(np.mean(cr_tcd))\n",
    "        if cr_tcd_mn > 90 or cr_tcd_mn < 10:\n",
    "            continue\n",
    "        \n",
    "        cr_trtype_b = cr_trtype[0]\n",
    "        unique, counts = np.unique(cr_trtype_b, return_counts=True)\n",
    "        tab = np.asarray((unique, counts)).T\n",
    "        tab = np.sort(tab)[::-1]\n",
    "        if len(tab) <2:\n",
    "            continue \n",
    "        brd = int(sum(tab[1]))/int(sum(sum(tab)))\n",
    "        conf = int(sum(tab[0]))/int(sum(sum(tab)))\n",
    "        dominance = (brd-conf)/(brd+conf)\n",
    "        dominant_type = \"BroadLeaved\" if dominance > 0 else \"Coniferous\"\n",
    "        dominance_abs = round(abs(dominance)*100)\n",
    "        forest_perc = round((brd+conf)*100)\n",
    "        if forest_perc > 90 or forest_perc < 10:\n",
    "            continue\n",
    "        \n",
    "        cr_crlc = cr_crlc[0]\n",
    "        unique, counts = np.unique(cr_crlc, return_counts=True)\n",
    "        #print(unique, counts)\n",
    "        dataset = pd.DataFrame({'Raster_ID': unique, 'n': counts})\n",
    "        dataset_m = dataset.merge(clc_classes, on='Raster_ID', how='left')\n",
    "        dataset_m = dataset_m[['L1_class', 'Target' , 'n']]\n",
    "        if dataset_m.isin(['Forests']).any().any():\n",
    "            if len(dataset_m.index) == 1:\n",
    "                pass\n",
    "            pass\n",
    "        clc_nclasses = len(dataset_m.index)\n",
    "        clc_forest = round(((dataset_m.loc[dataset_m['Target'] ==\"Forests\", 'n'])/dataset['n'].sum())*100).tolist()\n",
    "        clc_other_d = dataset_m.loc[dataset_m['Target'] !=\"Forests\"]\n",
    "        clc_other_ds = dataset_m.sort_values(by=['n'])\n",
    "        clc_other = dataset_m['Target'].values[0]\n",
    "        #if clc_forest > 90 or clc_forest < 10:\n",
    "        #    pass\n",
    "        if clc_nclasses == 5 or clc_nclasses < 2:\n",
    "            pass\n",
    "        data = []\n",
    "        data = pd.DataFrame({'geometry': row.geometry,'DomAbs': dominance_abs, 'DomType': dominant_type, 'HRLPerc': forest_perc, 'Density': cr_tcd_mn, 'CLCclasses': clc_nclasses, 'CLCperc': clc_forest, 'CLCother': clc_other})\n",
    "        b1 = b1.append(data)\n",
    "    return(b1)\n",
    "    "
   ]
  },
  {
   "cell_type": "code",
   "execution_count": 11,
   "id": "2b8ace3e-21d3-4699-ad2f-f03b7ea11e91",
   "metadata": {},
   "outputs": [],
   "source": [
    "#Tree density and forest percentage\n",
    "Values = list(range(0, 101))\n",
    "Scores = np.concatenate([([i]*10) for i in [1,2,3,4,5,5,4,3,2,1]], axis=0)\n",
    "Scores = np.insert(Scores, 0, 0)\n",
    "score_density = pd.DataFrame({'Values': Values, 'Scores': Scores})"
   ]
  },
  {
   "cell_type": "code",
   "execution_count": 12,
   "id": "bc4771e8-6c98-4d3a-a69b-01cef6950350",
   "metadata": {},
   "outputs": [],
   "source": [
    "# CLC Classes\n",
    "Values = list(range(0, 11))\n",
    "Scores = [1,5,5,3,1,0,0,0,0,0]\n",
    "Scores = np.insert(Scores, 0, 0)\n",
    "score_nclc = pd.DataFrame({'Values': Values, 'Scores': Scores})"
   ]
  },
  {
   "cell_type": "code",
   "execution_count": 13,
   "id": "e1322b52-44a4-4f1b-af5c-943661895611",
   "metadata": {},
   "outputs": [],
   "source": [
    "# Tree Dominance\n",
    "Values = list(range(0, 101))\n",
    "Scores = np.concatenate([([i]*20) for i in [1,2,3,4,5]], axis=0)\n",
    "Scores = np.insert(Scores, 0, 0)\n",
    "score_dom = pd.DataFrame({'Values': Values, 'Scores': Scores})"
   ]
  },
  {
   "cell_type": "code",
   "execution_count": 14,
   "id": "e59ad9e7-25b5-472c-8e80-3b0a5a628e09",
   "metadata": {},
   "outputs": [],
   "source": [
    "data_noscore = []\n",
    "for file in sorted(glob.glob('/home/btufail@eurac.edu/Documents/SRR3_notebooks/AllShapes/*.geojson')):\n",
    "    data_noscore.append(file)\n"
   ]
  },
  {
   "cell_type": "code",
   "execution_count": 15,
   "id": "edbf88ed-c8ef-4e33-89c1-5cec2a99b220",
   "metadata": {},
   "outputs": [],
   "source": [
    "all = pd.DataFrame(columns = ['geometry', 'DomAbs', 'DomType', 'HRLPerc', 'Density', 'CLCclasses', 'CLCperc', 'CLCother', 'Scoredom', 'ScorePerc1', 'ScorePerc2', 'ScoreCLC', 'ScoreDens', 'ScoreAll', 'inTile'])\n",
    "for file in data_noscore:\n",
    "    check = gpd.read_file(file)\n",
    "    poly_2 = []\n",
    "    intile=[]\n",
    "    for index, row in check.iterrows():\n",
    "        poly = row['geometry']\n",
    "        for index1, tile in eusalpbb_sites.iterrows():\n",
    "            tile_poly = tile['geometry']\n",
    "            within = tile_poly.contains(poly)\n",
    "            if within:\n",
    "                intile.append(tile['ID'])\n",
    "                poly_2.append(row)\n",
    "            else:\n",
    "                pass\n",
    "    poly_2 = pd.DataFrame(poly_2)\n",
    "    DomAbs_list = poly_2.DomAbs.tolist()\n",
    "    Scoredom = [int(score_dom.loc[score_dom['Values'] == int(i), 'Scores']) for i in DomAbs_list]\n",
    "    HRLPerc_list = poly_2.HRLPerc.tolist()\n",
    "    ScorePerc1 = [int(score_density.loc[score_density['Values'] == int(i), 'Scores']) for i in HRLPerc_list]\n",
    "    CLCperc_list = poly_2.CLCperc.tolist()\n",
    "    ScorePerc2 = [int(score_density.loc[score_density['Values'] == int(i), 'Scores']) for i in CLCperc_list]\n",
    "    CLCclasses_list = poly_2.CLCclasses.tolist()\n",
    "    ScoreCLC = [int(score_nclc.loc[score_nclc['Values'] == int(i), 'Scores']) for i in CLCclasses_list]\n",
    "    Density_list = poly_2.Density.tolist()\n",
    "    ScoreDens = [int(score_density.loc[score_density['Values'] == int(i), 'Scores']) for i in Density_list]\n",
    "    ScoreAll = []\n",
    "    for x in range (0, len (Scoredom)):  \n",
    "        ScoreAll.append(Scoredom[x] + ScorePerc1[x] + ScorePerc2[x] + ScoreCLC[x] + ScoreDens[x])  \n",
    "    polyscore_2 = poly_2.assign(Scoredom=Scoredom, ScorePerc1=ScorePerc1, ScorePerc2=ScorePerc2, ScoreCLC=ScoreCLC, ScoreDens=ScoreDens, ScoreAll=ScoreAll, inTile=intile)\n",
    "    \n",
    "    all = all.append(polyscore_2, ignore_index=True)\n",
    "comb = gpd.GeoDataFrame(all, columns=['geometry', 'DomAbs', 'DomType', 'HRLPerc', 'Density', 'CLCclasses', 'CLCperc', 'CLCother', 'Scoredom', 'ScorePerc1', 'ScorePerc2', 'ScoreCLC', 'ScoreDens', 'ScoreAll', 'inTile']).set_crs('EPSG:3035')"
   ]
  },
  {
   "cell_type": "code",
   "execution_count": 17,
   "id": "60860122-e317-4010-b78b-bc5b5b87529f",
   "metadata": {},
   "outputs": [],
   "source": [
    "unique, counts = np.unique((comb['inTile']), return_counts=True)\n",
    "comb_bytile = pd.DataFrame({'ID': unique,'Polygons': counts})"
   ]
  },
  {
   "cell_type": "code",
   "execution_count": 18,
   "id": "81ce284e-d5a4-4d2b-9c36-83acaf8db4e2",
   "metadata": {},
   "outputs": [],
   "source": [
    "polybytile = eusalpbb_sites.merge(comb_bytile, on='ID', how='left')\n",
    "polybytile = polybytile.dropna()\n",
    "polybytile = polybytile.sort_values(by=['Polygons'], ascending=False)\n",
    "selectedTiles = polybytile.head(150)"
   ]
  },
  {
   "cell_type": "code",
   "execution_count": 93,
   "id": "0b1d6cef-b127-4aa5-aa3a-54d0e34a637f",
   "metadata": {},
   "outputs": [],
   "source": [
    "all2 = pd.DataFrame(columns = ['geometry', 'DomAbs', 'DomType', 'HRLPerc', 'Density', 'CLCclasses', 'CLCperc', 'CLCother', 'Scoredom', 'ScorePerc1', 'ScorePerc2', 'ScoreCLC', 'ScoreDens', 'ScoreAll', 'inTile'])\n",
    "for index, row in selectedTiles.iterrows():\n",
    "    sel = comb.loc[comb['inTile'] == index]\n",
    "    sel2 = sel.sort_values(by=['ScoreAll'], ascending=False)\n",
    "    sel3 = sel2.loc[sel2['ScoreAll'] == max(sel2['ScoreAll'])]\n",
    "    sel4 = sel3.sort_values(by=['inTile'])\n",
    "    all2 = all2.append(sel4)\n",
    "comb2 = gpd.GeoDataFrame(all2, columns=['geometry', 'DomAbs', 'DomType', 'HRLPerc', 'Density', 'CLCclasses', 'CLCperc', 'CLCother', 'Scoredom', 'ScorePerc1', 'ScorePerc2', 'ScoreCLC', 'ScoreDens', 'ScoreAll', 'inTile']).set_crs('EPSG:3035')"
   ]
  },
  {
   "cell_type": "code",
   "execution_count": 130,
   "id": "32af2a4d-58a7-4918-870a-70edd79a18c3",
   "metadata": {},
   "outputs": [],
   "source": [
    "all3 = pd.DataFrame(columns = ['geometry', 'DomAbs', 'DomType', 'HRLPerc', 'Density', 'CLCclasses', 'CLCperc', 'CLCother', 'Scoredom', 'ScorePerc1', 'ScorePerc2', 'ScoreCLC', 'ScoreDens', 'ScoreAll', 'inTile'])\n",
    "for i in comb2['inTile'].unique():\n",
    "    tosample = comb2.loc[comb2['inTile'] == i]\n",
    "    smp = tosample.sample(1)\n",
    "    all3 = all3.append(smp)\n",
    "comb3 = gpd.GeoDataFrame(all3, columns=['geometry', 'DomAbs', 'DomType', 'HRLPerc', 'Density', 'CLCclasses', 'CLCperc', 'CLCother', 'Scoredom', 'ScorePerc1', 'ScorePerc2', 'ScoreCLC', 'ScoreDens', 'ScoreAll', 'inTile']).set_crs('EPSG:3035')"
   ]
  }
 ],
 "metadata": {
  "kernelspec": {
   "display_name": "Python 3 (ipykernel)",
   "language": "python",
   "name": "python3"
  },
  "language_info": {
   "codemirror_mode": {
    "name": "ipython",
    "version": 3
   },
   "file_extension": ".py",
   "mimetype": "text/x-python",
   "name": "python",
   "nbconvert_exporter": "python",
   "pygments_lexer": "ipython3",
   "version": "3.7.12"
  }
 },
 "nbformat": 4,
 "nbformat_minor": 5
}
