{
 "cells": [
  {
   "cell_type": "code",
   "execution_count": 1,
   "id": "73bf537b",
   "metadata": {},
   "outputs": [],
   "source": [
    "import openeo\n",
    "import geopandas as gpd\n",
    "import pandas as pd\n",
    "from openeo_classification.landuse_classification import *\n",
    "from datetime import date\n",
    "import ipywidgets as widgets\n",
    "import datetime\n",
    "import json"
   ]
  },
  {
   "cell_type": "code",
   "execution_count": 2,
   "id": "1513ef3c",
   "metadata": {},
   "outputs": [],
   "source": [
    "con = openeo.connect(\"https://openeo-dev.vito.be\")"
   ]
  },
  {
   "cell_type": "markdown",
   "id": "46deb82a",
   "metadata": {},
   "source": [
    "#### Target data \n",
    "LUCAS, 2018 (land use cover)\n",
    "\n",
    "#### Input data\n",
    "From S2: calculation of 7 indices (NDVI, NDMI, NDGI, ANIR, NDRE1, NDRE2, NDRE5) and keeping 2 bands (B06, B12)\n",
    "From S1: VV, VH and VV/VH\n",
    "For all of these, 10 features: p25, p50, p75, sd and 6 t-steps, with flexible range\n",
    "\n",
    "#### Model\n",
    "Random Forest, trained using custom hyperparameter, 70/30 split"
   ]
  },
  {
   "cell_type": "code",
   "execution_count": 3,
   "id": "1ae23855",
   "metadata": {},
   "outputs": [
    {
     "data": {
      "application/vnd.jupyter.widget-view+json": {
       "model_id": "f60883e63c97483493d034f4a0fa5ada",
       "version_major": 2,
       "version_minor": 0
      },
      "text/plain": [
       "Box(children=(Label(value='Train / test split:'), FloatSlider(value=0.3, max=1.0, step=0.05)))"
      ]
     },
     "metadata": {},
     "output_type": "display_data"
    },
    {
     "data": {
      "application/vnd.jupyter.widget-view+json": {
       "model_id": "e0498fd78d104567822fff14c81e4c0a",
       "version_major": 2,
       "version_minor": 0
      },
      "text/plain": [
       "Dropdown(description='Model:', disabled=True, options=('Random Forest',), value='Random Forest')"
      ]
     },
     "metadata": {},
     "output_type": "display_data"
    },
    {
     "data": {
      "application/vnd.jupyter.widget-view+json": {
       "model_id": "8a3c544a64844dfabaa7867104664be6",
       "version_major": 2,
       "version_minor": 0
      },
      "text/plain": [
       "Box(children=(Label(value='Hyperparameters RF model:'), IntText(value=250, description='Nr trees:'), IntText(v…"
      ]
     },
     "metadata": {},
     "output_type": "display_data"
    },
    {
     "data": {
      "application/vnd.jupyter.widget-view+json": {
       "model_id": "1c65b99f80054d70ba778a0f1aa701fd",
       "version_major": 2,
       "version_minor": 0
      },
      "text/plain": [
       "Box(children=(Label(value='S1 / S2 fusion:'), RadioButtons(options=('Feature fusion', 'Decision fusion'), valu…"
      ]
     },
     "metadata": {},
     "output_type": "display_data"
    },
    {
     "data": {
      "application/vnd.jupyter.widget-view+json": {
       "model_id": "c19da0d227944c5f88da53d5da508a2b",
       "version_major": 2,
       "version_minor": 0
      },
      "text/plain": [
       "FileUpload(value={}, accept='.geojson,.shp', description='Upload AOI', layout=Layout(width='20em'))"
      ]
     },
     "metadata": {},
     "output_type": "display_data"
    },
    {
     "data": {
      "application/vnd.jupyter.widget-view+json": {
       "model_id": "fb6ea8016a3c44aeaa48c6cf244f4ea1",
       "version_major": 2,
       "version_minor": 0
      },
      "text/plain": [
       "FileUpload(value={}, accept='.geojson,.shp', description='Upload stratification', layout=Layout(width='20em'))"
      ]
     },
     "metadata": {},
     "output_type": "display_data"
    },
    {
     "data": {
      "application/vnd.jupyter.widget-view+json": {
       "model_id": "fdc54e64dbf949b6bdd02d609c04f60e",
       "version_major": 2,
       "version_minor": 0
      },
      "text/plain": [
       "Box(children=(Label(value='Include mixed pixels:'), RadioButtons(options=('Yes', 'No'), value='Yes')))"
      ]
     },
     "metadata": {},
     "output_type": "display_data"
    },
    {
     "data": {
      "application/vnd.jupyter.widget-view+json": {
       "model_id": "de1cc6cd75ef4bfdaa98bcf5855aba71",
       "version_major": 2,
       "version_minor": 0
      },
      "text/plain": [
       "DatePicker(value=datetime.date(2018, 1, 1), description='Start date')"
      ]
     },
     "metadata": {},
     "output_type": "display_data"
    },
    {
     "data": {
      "application/vnd.jupyter.widget-view+json": {
       "model_id": "6e95ec4597004690afda3cc6455fd173",
       "version_major": 2,
       "version_minor": 0
      },
      "text/plain": [
       "DatePicker(value=datetime.date(2018, 12, 31), description='End date')"
      ]
     },
     "metadata": {},
     "output_type": "display_data"
    },
    {
     "data": {
      "application/vnd.jupyter.widget-view+json": {
       "model_id": "a0eccd8a1f5348f78ac78ead8dab2494",
       "version_major": 2,
       "version_minor": 0
      },
      "text/plain": [
       "Box(children=(Label(value='Select the amount of target classes:'), IntSlider(value=10, max=37, min=2)))"
      ]
     },
     "metadata": {},
     "output_type": "display_data"
    }
   ],
   "source": [
    "train_test_split, algorithm, nrtrees, mtry, feature_raster, aoi, strat_layer, include_mixed_pixels, start_date, end_date, nr_targets = getStartingWidgets()"
   ]
  },
  {
   "cell_type": "code",
   "execution_count": 4,
   "id": "811e7fc1",
   "metadata": {},
   "outputs": [
    {
     "data": {
      "application/vnd.jupyter.widget-view+json": {
       "model_id": "4cf0b9ae9b9b49d1b9be3b56f21bf0eb",
       "version_major": 2,
       "version_minor": 0
      },
      "text/plain": [
       "SelectMultiple(description='Target class', options=('A00: Artificial land', 'A10: Roofed built-up areas', 'A20…"
      ]
     },
     "metadata": {},
     "output_type": "display_data"
    },
    {
     "data": {
      "application/vnd.jupyter.widget-view+json": {
       "model_id": "19b1883d58c24d709dc9c20b612e8e03",
       "version_major": 2,
       "version_minor": 0
      },
      "text/plain": [
       "SelectMultiple(description='Target class', options=('A00: Artificial land', 'A10: Roofed built-up areas', 'A20…"
      ]
     },
     "metadata": {},
     "output_type": "display_data"
    }
   ],
   "source": [
    "target_classes = getTargetClasses(nr_targets)"
   ]
  },
  {
   "cell_type": "code",
   "execution_count": 5,
   "id": "63085ff6",
   "metadata": {},
   "outputs": [
    {
     "data": {
      "text/plain": [
       "('A20: Artificial non-built up areas',\n",
       " 'A30: Other artificial areas',\n",
       " 'B00: Cropland',\n",
       " 'B10: Cereals',\n",
       " 'B20: Root crops')"
      ]
     },
     "execution_count": 5,
     "metadata": {},
     "output_type": "execute_result"
    }
   ],
   "source": [
    "target_classes[\"target1\"].value"
   ]
  },
  {
   "cell_type": "code",
   "execution_count": 7,
   "id": "9def8995",
   "metadata": {},
   "outputs": [],
   "source": [
    "mask = gpd.GeoDataFrame.from_features(json.loads(list(aoi.value.values())[0][\"content\"])).set_crs('epsg:4326')"
   ]
  },
  {
   "cell_type": "code",
   "execution_count": 41,
   "id": "c0eecdb7",
   "metadata": {
    "scrolled": false
   },
   "outputs": [],
   "source": [
    "## TODO: @Bart use extended polygon LUCAS set https://essd.copernicus.org/articles/13/1119/2021/ and then extract points\n",
    "data = gpd.read_file(\"https://artifactory.vgt.vito.be/auxdata-public/openeo/lucas.gpkg\",mask=mask)\n",
    "\n",
    "if data.empty:\n",
    "    raise ValueError(\"Your masked area is located outside of Europe or so small that no training data can be found within it\")"
   ]
  },
  {
   "cell_type": "code",
   "execution_count": 44,
   "id": "2a5efbed",
   "metadata": {},
   "outputs": [],
   "source": [
    "y = data[[\"LC1\", \"geometry\"]]"
   ]
  },
  {
   "cell_type": "code",
   "execution_count": null,
   "id": "97f2d75d",
   "metadata": {
    "collapsed": true
   },
   "outputs": [],
   "source": [
    "if strat_layer is None:\n",
    "    strat_layer = aoi"
   ]
  },
  {
   "cell_type": "code",
   "execution_count": 51,
   "id": "e3a4d9ff",
   "metadata": {
    "scrolled": false
   },
   "outputs": [
    {
     "name": "stdout",
     "output_type": "stream",
     "text": [
      "Authenticated using refresh token.\n",
      "Authenticated using refresh token.\n",
      "0:00:00 Job 'b6593759-c7f1-4773-a487-9f69bb4636bb': send 'start'\n",
      "0:00:34 Job 'b6593759-c7f1-4773-a487-9f69bb4636bb': queued (progress N/A)\n",
      "0:00:41 Job 'b6593759-c7f1-4773-a487-9f69bb4636bb': queued (progress N/A)\n",
      "0:00:48 Job 'b6593759-c7f1-4773-a487-9f69bb4636bb': queued (progress N/A)\n",
      "0:00:56 Job 'b6593759-c7f1-4773-a487-9f69bb4636bb': queued (progress N/A)\n",
      "0:01:07 Job 'b6593759-c7f1-4773-a487-9f69bb4636bb': queued (progress N/A)\n",
      "0:01:20 Job 'b6593759-c7f1-4773-a487-9f69bb4636bb': queued (progress N/A)\n",
      "0:01:37 Job 'b6593759-c7f1-4773-a487-9f69bb4636bb': queued (progress N/A)\n",
      "0:01:57 Job 'b6593759-c7f1-4773-a487-9f69bb4636bb': queued (progress N/A)\n",
      "0:02:22 Job 'b6593759-c7f1-4773-a487-9f69bb4636bb': queued (progress N/A)\n",
      "0:02:53 Job 'b6593759-c7f1-4773-a487-9f69bb4636bb': running (progress N/A)\n",
      "0:03:31 Job 'b6593759-c7f1-4773-a487-9f69bb4636bb': running (progress N/A)\n",
      "0:04:19 Job 'b6593759-c7f1-4773-a487-9f69bb4636bb': running (progress N/A)\n",
      "0:05:20 Job 'b6593759-c7f1-4773-a487-9f69bb4636bb': running (progress N/A)\n",
      "0:06:21 Job 'b6593759-c7f1-4773-a487-9f69bb4636bb': running (progress N/A)\n",
      "0:07:22 Job 'b6593759-c7f1-4773-a487-9f69bb4636bb': running (progress N/A)\n",
      "0:08:25 Job 'b6593759-c7f1-4773-a487-9f69bb4636bb': finished (progress N/A)\n"
     ]
    },
    {
     "data": {
      "text/plain": [
       "[WindowsPath('aggspatialtest_traditional/openEO_0.nc'),\n",
       " WindowsPath('aggspatialtest_traditional/openEO_1.nc'),\n",
       " WindowsPath('aggspatialtest_traditional/openEO_10.nc'),\n",
       " WindowsPath('aggspatialtest_traditional/openEO_11.nc'),\n",
       " WindowsPath('aggspatialtest_traditional/openEO_12.nc'),\n",
       " WindowsPath('aggspatialtest_traditional/openEO_13.nc'),\n",
       " WindowsPath('aggspatialtest_traditional/openEO_14.nc'),\n",
       " WindowsPath('aggspatialtest_traditional/openEO_15.nc'),\n",
       " WindowsPath('aggspatialtest_traditional/openEO_16.nc'),\n",
       " WindowsPath('aggspatialtest_traditional/openEO_17.nc'),\n",
       " WindowsPath('aggspatialtest_traditional/openEO_18.nc'),\n",
       " WindowsPath('aggspatialtest_traditional/openEO_19.nc'),\n",
       " WindowsPath('aggspatialtest_traditional/openEO_2.nc'),\n",
       " WindowsPath('aggspatialtest_traditional/openEO_20.nc'),\n",
       " WindowsPath('aggspatialtest_traditional/openEO_21.nc'),\n",
       " WindowsPath('aggspatialtest_traditional/openEO_22.nc'),\n",
       " WindowsPath('aggspatialtest_traditional/openEO_23.nc'),\n",
       " WindowsPath('aggspatialtest_traditional/openEO_24.nc'),\n",
       " WindowsPath('aggspatialtest_traditional/openEO_25.nc'),\n",
       " WindowsPath('aggspatialtest_traditional/openEO_26.nc'),\n",
       " WindowsPath('aggspatialtest_traditional/openEO_27.nc'),\n",
       " WindowsPath('aggspatialtest_traditional/openEO_28.nc'),\n",
       " WindowsPath('aggspatialtest_traditional/openEO_29.nc'),\n",
       " WindowsPath('aggspatialtest_traditional/openEO_3.nc'),\n",
       " WindowsPath('aggspatialtest_traditional/openEO_30.nc'),\n",
       " WindowsPath('aggspatialtest_traditional/openEO_31.nc'),\n",
       " WindowsPath('aggspatialtest_traditional/openEO_32.nc'),\n",
       " WindowsPath('aggspatialtest_traditional/openEO_33.nc'),\n",
       " WindowsPath('aggspatialtest_traditional/openEO_34.nc'),\n",
       " WindowsPath('aggspatialtest_traditional/openEO_35.nc'),\n",
       " WindowsPath('aggspatialtest_traditional/openEO_36.nc'),\n",
       " WindowsPath('aggspatialtest_traditional/openEO_37.nc'),\n",
       " WindowsPath('aggspatialtest_traditional/openEO_38.nc'),\n",
       " WindowsPath('aggspatialtest_traditional/openEO_39.nc'),\n",
       " WindowsPath('aggspatialtest_traditional/openEO_4.nc'),\n",
       " WindowsPath('aggspatialtest_traditional/openEO_40.nc'),\n",
       " WindowsPath('aggspatialtest_traditional/openEO_41.nc'),\n",
       " WindowsPath('aggspatialtest_traditional/openEO_42.nc'),\n",
       " WindowsPath('aggspatialtest_traditional/openEO_43.nc'),\n",
       " WindowsPath('aggspatialtest_traditional/openEO_44.nc'),\n",
       " WindowsPath('aggspatialtest_traditional/openEO_45.nc'),\n",
       " WindowsPath('aggspatialtest_traditional/openEO_46.nc'),\n",
       " WindowsPath('aggspatialtest_traditional/openEO_47.nc'),\n",
       " WindowsPath('aggspatialtest_traditional/openEO_48.nc'),\n",
       " WindowsPath('aggspatialtest_traditional/openEO_49.nc'),\n",
       " WindowsPath('aggspatialtest_traditional/openEO_5.nc'),\n",
       " WindowsPath('aggspatialtest_traditional/openEO_50.nc'),\n",
       " WindowsPath('aggspatialtest_traditional/openEO_51.nc'),\n",
       " WindowsPath('aggspatialtest_traditional/openEO_52.nc'),\n",
       " WindowsPath('aggspatialtest_traditional/openEO_53.nc'),\n",
       " WindowsPath('aggspatialtest_traditional/openEO_54.nc'),\n",
       " WindowsPath('aggspatialtest_traditional/openEO_55.nc'),\n",
       " WindowsPath('aggspatialtest_traditional/openEO_56.nc'),\n",
       " WindowsPath('aggspatialtest_traditional/openEO_57.nc'),\n",
       " WindowsPath('aggspatialtest_traditional/openEO_58.nc'),\n",
       " WindowsPath('aggspatialtest_traditional/openEO_59.nc'),\n",
       " WindowsPath('aggspatialtest_traditional/openEO_6.nc'),\n",
       " WindowsPath('aggspatialtest_traditional/openEO_60.nc'),\n",
       " WindowsPath('aggspatialtest_traditional/openEO_61.nc'),\n",
       " WindowsPath('aggspatialtest_traditional/openEO_62.nc'),\n",
       " WindowsPath('aggspatialtest_traditional/openEO_63.nc'),\n",
       " WindowsPath('aggspatialtest_traditional/openEO_64.nc'),\n",
       " WindowsPath('aggspatialtest_traditional/openEO_65.nc'),\n",
       " WindowsPath('aggspatialtest_traditional/openEO_7.nc'),\n",
       " WindowsPath('aggspatialtest_traditional/openEO_8.nc'),\n",
       " WindowsPath('aggspatialtest_traditional/openEO_9.nc')]"
      ]
     },
     "execution_count": 51,
     "metadata": {},
     "output_type": "execute_result"
    }
   ],
   "source": [
    "## TODO: @Bart load_lc_features spatial_extents toevoegen voor data reductie?\n",
    "## TODO: @Bart: Loop hier nog over verschillende strata zodra alles werkt, dus:\n",
    "# for stratum in strat_layer.iterfeatures():\n",
    "# final_training_data = gpd.clip(data, gpd.GeoDataFrame(stratum))\n",
    "features, feature_list = load_lc_features(feature_raster, y, start_date, end_date)\n",
    "\n",
    "X = features.filter_spatial(json.loads(y.buffer(0.0000001).to_json()))\n",
    "\n",
    "## TODO @Jeroen/Stefaan: fit_class_random_forest werkend krijgen voor X en y als inputs\n",
    "# ml_model = con.fit_class_random_forest(predictors=X, target=y, training=100, **hyperparams)\n",
    "# ml_model = ml_model.save_ml_model().start_and_wait().get_result()\n",
    "    "
   ]
  }
 ],
 "metadata": {
  "kernelspec": {
   "display_name": "Python 3",
   "language": "python",
   "name": "python3"
  },
  "language_info": {
   "codemirror_mode": {
    "name": "ipython",
    "version": 3
   },
   "file_extension": ".py",
   "mimetype": "text/x-python",
   "name": "python",
   "nbconvert_exporter": "python",
   "pygments_lexer": "ipython3",
   "version": "3.9.7"
  }
 },
 "nbformat": 4,
 "nbformat_minor": 5
}
