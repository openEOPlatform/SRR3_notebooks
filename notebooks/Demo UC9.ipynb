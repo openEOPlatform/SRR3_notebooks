{
 "cells": [
  {
   "cell_type": "code",
   "execution_count": 1,
   "id": "73bf537b",
   "metadata": {},
   "outputs": [],
   "source": [
    "import openeo\n",
    "import geopandas as gpd\n",
    "import pandas as pd\n",
    "from openeo_classification.landuse_classification import *\n",
    "from datetime import date\n",
    "import ipywidgets as widgets\n",
    "import datetime\n",
    "import json"
   ]
  },
  {
   "cell_type": "markdown",
   "id": "46deb82a",
   "metadata": {},
   "source": [
    "#### Target data \n",
    "LUCAS, 2018 (land use cover)\n",
    "\n",
    "#### Input data\n",
    "From S2: calculation of 7 indices (NDVI, NDMI, NDGI, ANIR, NDRE1, NDRE2, NDRE5) and keeping 2 bands (B06, B12)\n",
    "From S1: VV, VH and VV/VH\n",
    "For all of these, 10 features: p25, p50, p75, sd and 6 t-steps, with flexible range\n",
    "\n",
    "#### Model\n",
    "Random Forest, trained using custom hyperparameter, 70/30 split"
   ]
  },
  {
   "cell_type": "code",
   "execution_count": 2,
   "id": "1ae23855",
   "metadata": {},
   "outputs": [
    {
     "data": {
      "application/vnd.jupyter.widget-view+json": {
       "model_id": "d29bbf2efe0a4f84995e9addf940b8dc",
       "version_major": 2,
       "version_minor": 0
      },
      "text/plain": [
       "Box(children=(Label(value='Train / test split:'), FloatSlider(value=0.75, max=1.0, step=0.05)))"
      ]
     },
     "metadata": {},
     "output_type": "display_data"
    },
    {
     "data": {
      "application/vnd.jupyter.widget-view+json": {
       "model_id": "f3395bf6ef19433fa3dc6a3f813af7e2",
       "version_major": 2,
       "version_minor": 0
      },
      "text/plain": [
       "Dropdown(description='Model:', disabled=True, options=('Random Forest',), value='Random Forest')"
      ]
     },
     "metadata": {},
     "output_type": "display_data"
    },
    {
     "data": {
      "application/vnd.jupyter.widget-view+json": {
       "model_id": "c3f2e45018b14f148771c9e96b3cb003",
       "version_major": 2,
       "version_minor": 0
      },
      "text/plain": [
       "Box(children=(Label(value='Hyperparameters RF model:'), IntText(value=250, description='Nr trees:'), IntText(v…"
      ]
     },
     "metadata": {},
     "output_type": "display_data"
    },
    {
     "data": {
      "application/vnd.jupyter.widget-view+json": {
       "model_id": "2cb374c657a14e2f93f328b8507fae28",
       "version_major": 2,
       "version_minor": 0
      },
      "text/plain": [
       "Box(children=(Label(value='S1 / S2 fusion:'), RadioButtons(options=('Feature fusion', 'Decision fusion'), valu…"
      ]
     },
     "metadata": {},
     "output_type": "display_data"
    },
    {
     "data": {
      "application/vnd.jupyter.widget-view+json": {
       "model_id": "a5606209d20149d1a2197134d44d900c",
       "version_major": 2,
       "version_minor": 0
      },
      "text/plain": [
       "FileUpload(value={}, accept='.geojson,.shp', description='Upload AOI', layout=Layout(width='20em'))"
      ]
     },
     "metadata": {},
     "output_type": "display_data"
    },
    {
     "data": {
      "application/vnd.jupyter.widget-view+json": {
       "model_id": "d0e47cb625e645a48c2e2d17cfc213e3",
       "version_major": 2,
       "version_minor": 0
      },
      "text/plain": [
       "FileUpload(value={}, accept='.geojson,.shp', description='Upload stratification', layout=Layout(width='20em'))"
      ]
     },
     "metadata": {},
     "output_type": "display_data"
    },
    {
     "data": {
      "application/vnd.jupyter.widget-view+json": {
       "model_id": "94c6ff7bf82f4547b7e03069fcef3b66",
       "version_major": 2,
       "version_minor": 0
      },
      "text/plain": [
       "Box(children=(Label(value='Include mixed pixels:'), RadioButtons(options=('Yes', 'No'), value='Yes')))"
      ]
     },
     "metadata": {},
     "output_type": "display_data"
    },
    {
     "data": {
      "application/vnd.jupyter.widget-view+json": {
       "model_id": "5b7b61c404eb42d0b8426b1ab7fe9db8",
       "version_major": 2,
       "version_minor": 0
      },
      "text/plain": [
       "DatePicker(value=datetime.date(2018, 1, 1), description='Start date')"
      ]
     },
     "metadata": {},
     "output_type": "display_data"
    },
    {
     "data": {
      "application/vnd.jupyter.widget-view+json": {
       "model_id": "a460259fbf454ea697d3af1d10937530",
       "version_major": 2,
       "version_minor": 0
      },
      "text/plain": [
       "DatePicker(value=datetime.date(2018, 12, 31), description='End date')"
      ]
     },
     "metadata": {},
     "output_type": "display_data"
    },
    {
     "data": {
      "application/vnd.jupyter.widget-view+json": {
       "model_id": "0dcaa0cfe7d74045bc4f041868202c75",
       "version_major": 2,
       "version_minor": 0
      },
      "text/plain": [
       "Box(children=(Label(value='Select the amount of target classes:'), IntSlider(value=10, max=37, min=2)))"
      ]
     },
     "metadata": {},
     "output_type": "display_data"
    },
    {
     "data": {
      "application/vnd.jupyter.widget-view+json": {
       "model_id": "e1e3ab65f5c743deb2d433d5a8ff3dfa",
       "version_major": 2,
       "version_minor": 0
      },
      "text/plain": [
       "Box(children=(Label(value='Select the amount of times you want to point sample each reference polygon:'), IntS…"
      ]
     },
     "metadata": {},
     "output_type": "display_data"
    }
   ],
   "source": [
    "train_test_split, algorithm, nrtrees, mtry, fusion_technique, aoi, strat_layer, include_mixed_pixels, start_date, end_date, nr_targets, nr_spp = getStartingWidgets()"
   ]
  },
  {
   "cell_type": "code",
   "execution_count": 3,
   "id": "811e7fc1",
   "metadata": {},
   "outputs": [
    {
     "data": {
      "application/vnd.jupyter.widget-view+json": {
       "model_id": "ff84388dfe7146d797e0a0d268307350",
       "version_major": 2,
       "version_minor": 0
      },
      "text/plain": [
       "SelectMultiple(description='Target class', options=('A00: Artificial land', 'A10: Roofed built-up areas', 'A20…"
      ]
     },
     "metadata": {},
     "output_type": "display_data"
    },
    {
     "data": {
      "application/vnd.jupyter.widget-view+json": {
       "model_id": "87b5d6a0a4924a419a1359eee9ed560f",
       "version_major": 2,
       "version_minor": 0
      },
      "text/plain": [
       "SelectMultiple(description='Target class', options=('A00: Artificial land', 'A10: Roofed built-up areas', 'A20…"
      ]
     },
     "metadata": {},
     "output_type": "display_data"
    },
    {
     "data": {
      "application/vnd.jupyter.widget-view+json": {
       "model_id": "1c91a3d2b5f64bd2938496a2dba62890",
       "version_major": 2,
       "version_minor": 0
      },
      "text/plain": [
       "SelectMultiple(description='Target class', options=('A00: Artificial land', 'A10: Roofed built-up areas', 'A20…"
      ]
     },
     "metadata": {},
     "output_type": "display_data"
    }
   ],
   "source": [
    "target_classes = getTargetClasses(nr_targets)"
   ]
  },
  {
   "cell_type": "code",
   "execution_count": 4,
   "id": "df93c12d",
   "metadata": {},
   "outputs": [
    {
     "name": "stdout",
     "output_type": "stream",
     "text": [
      "Loading in the LUCAS Copernicus dataset...\n",
      "Finished loading data.\n",
      "Extracting points and converting target labels...\n",
      "Finished extracting points and converting target labels\n"
     ]
    }
   ],
   "source": [
    "y = getReferenceSet(aoi, nr_spp, target_classes)"
   ]
  },
  {
   "cell_type": "code",
   "execution_count": 5,
   "id": "2a5efbed",
   "metadata": {
    "scrolled": true
   },
   "outputs": [],
   "source": [
    "def getStrata():\n",
    "    if len(strat_layer.value) == 0:\n",
    "        strata = gpd.GeoDataFrame.from_features(json.loads(aoi.data[0]))\n",
    "    else:\n",
    "        strata = gpd.GeoDataFrame.from_features(json.loads(strat_layer.data[0]))\n",
    "    return strata\n",
    "\n",
    "strata = getStrata()"
   ]
  },
  {
   "cell_type": "code",
   "execution_count": 9,
   "id": "f717ac7d",
   "metadata": {},
   "outputs": [],
   "source": [
    "def fitRandomForestModel(feature_raster, y):\n",
    "    features, feature_list = load_lc_features(feature_raster, y, start_date.value, end_date.value)\n",
    "    X = features.aggregate_spatial(json.loads(y.to_json()), reducer=\"mean\")\n",
    "    ml_model = X.fit_class_random_forest(target=json.loads(y.to_json()), training=train_test_split.value, num_trees=nrtrees.value, mtry=mtry.value)\n",
    "    model = ml_model.save_ml_model()\n",
    "    training_job = model.create_job()\n",
    "    training_job.start_and_wait()\n",
    "    return training_job.job_id"
   ]
  },
  {
   "cell_type": "code",
   "execution_count": null,
   "id": "e3a4d9ff",
   "metadata": {
    "scrolled": false
   },
   "outputs": [
    {
     "name": "stdout",
     "output_type": "stream",
     "text": [
      "Authenticated using refresh token.\n",
      "Authenticated using refresh token.\n",
      "0:00:00 Job 'd458856e-b315-4d13-a369-a2c86f3adaf2': send 'start'\n",
      "0:01:06 Job 'd458856e-b315-4d13-a369-a2c86f3adaf2': queued (progress N/A)\n",
      "0:01:11 Job 'd458856e-b315-4d13-a369-a2c86f3adaf2': queued (progress N/A)\n",
      "0:01:18 Job 'd458856e-b315-4d13-a369-a2c86f3adaf2': queued (progress N/A)\n",
      "0:01:26 Job 'd458856e-b315-4d13-a369-a2c86f3adaf2': queued (progress N/A)\n",
      "0:01:37 Job 'd458856e-b315-4d13-a369-a2c86f3adaf2': queued (progress N/A)\n",
      "0:01:49 Job 'd458856e-b315-4d13-a369-a2c86f3adaf2': queued (progress N/A)\n",
      "0:02:06 Job 'd458856e-b315-4d13-a369-a2c86f3adaf2': queued (progress N/A)\n"
     ]
    }
   ],
   "source": [
    "jobids = {}\n",
    "for index, stratum in enumerate(strata[\"geometry\"]):\n",
    "    y_final = gpd.clip(y, stratum)\n",
    "    if fusion_technique.value == \"Decision fusion\":\n",
    "        jobids[\"s1_stratum\"+str(index)] = fitRandomForestModel(\"s1\", y_final)\n",
    "        jobids[\"s2_stratum\"+str(index)] = fitRandomForestModel(\"s2\", y_final)\n",
    "    else:\n",
    "        jobids[\"both_stratum\"+str(index)] = fitRandomForestModel(\"both\", y_final)"
   ]
  },
  {
   "cell_type": "code",
   "execution_count": 14,
   "id": "64f31de3",
   "metadata": {},
   "outputs": [
    {
     "name": "stdout",
     "output_type": "stream",
     "text": [
      "0:00:00 Job '490c49ec-6cbd-4664-bf79-dc924106cc1a': send 'start'\n"
     ]
    },
    {
     "ename": "OpenEoApiError",
     "evalue": "[500] unknown: Did not find value which can be converted into java.lang.String",
     "output_type": "error",
     "traceback": [
      "\u001b[1;31m---------------------------------------------------------------------------\u001b[0m",
      "\u001b[1;31mOpenEoApiError\u001b[0m                            Traceback (most recent call last)",
      "\u001b[1;32m<ipython-input-14-12f264b808d4>\u001b[0m in \u001b[0;36m<module>\u001b[1;34m\u001b[0m\n\u001b[0;32m      6\u001b[0m )\n\u001b[0;32m      7\u001b[0m \u001b[1;33m\u001b[0m\u001b[0m\n\u001b[1;32m----> 8\u001b[1;33m \u001b[0mnieuwe_job\u001b[0m \u001b[1;33m=\u001b[0m \u001b[0mpredicted\u001b[0m\u001b[1;33m.\u001b[0m\u001b[0mexecute_batch\u001b[0m\u001b[1;33m(\u001b[0m\u001b[0mformat\u001b[0m\u001b[1;33m=\u001b[0m\u001b[1;34m\"GTiff\"\u001b[0m\u001b[1;33m)\u001b[0m\u001b[1;33m\u001b[0m\u001b[1;33m\u001b[0m\u001b[0m\n\u001b[0m",
      "\u001b[1;32mc:\\users\\driesseb\\dev\\openeo-python-client\\openeo\\rest\\datacube.py\u001b[0m in \u001b[0;36mexecute_batch\u001b[1;34m(self, outputfile, out_format, print, max_poll_interval, connection_retry_interval, job_options, **format_options)\u001b[0m\n\u001b[0;32m   1611\u001b[0m         \"\"\"\n\u001b[0;32m   1612\u001b[0m         \u001b[0mjob\u001b[0m \u001b[1;33m=\u001b[0m \u001b[0mself\u001b[0m\u001b[1;33m.\u001b[0m\u001b[0mcreate_job\u001b[0m\u001b[1;33m(\u001b[0m\u001b[0mout_format\u001b[0m\u001b[1;33m,\u001b[0m \u001b[0mjob_options\u001b[0m\u001b[1;33m=\u001b[0m\u001b[0mjob_options\u001b[0m\u001b[1;33m,\u001b[0m \u001b[1;33m**\u001b[0m\u001b[0mformat_options\u001b[0m\u001b[1;33m)\u001b[0m\u001b[1;33m\u001b[0m\u001b[1;33m\u001b[0m\u001b[0m\n\u001b[1;32m-> 1613\u001b[1;33m         return job.run_synchronous(\n\u001b[0m\u001b[0;32m   1614\u001b[0m             \u001b[0moutputfile\u001b[0m\u001b[1;33m=\u001b[0m\u001b[0moutputfile\u001b[0m\u001b[1;33m,\u001b[0m\u001b[1;33m\u001b[0m\u001b[1;33m\u001b[0m\u001b[0m\n\u001b[0;32m   1615\u001b[0m             \u001b[0mprint\u001b[0m\u001b[1;33m=\u001b[0m\u001b[0mprint\u001b[0m\u001b[1;33m,\u001b[0m \u001b[0mmax_poll_interval\u001b[0m\u001b[1;33m=\u001b[0m\u001b[0mmax_poll_interval\u001b[0m\u001b[1;33m,\u001b[0m \u001b[0mconnection_retry_interval\u001b[0m\u001b[1;33m=\u001b[0m\u001b[0mconnection_retry_interval\u001b[0m\u001b[1;33m\u001b[0m\u001b[1;33m\u001b[0m\u001b[0m\n",
      "\u001b[1;32mc:\\users\\driesseb\\dev\\openeo-python-client\\openeo\\rest\\job.py\u001b[0m in \u001b[0;36mrun_synchronous\u001b[1;34m(self, outputfile, print, max_poll_interval, connection_retry_interval)\u001b[0m\n\u001b[0;32m    137\u001b[0m                         print=print, max_poll_interval=60, connection_retry_interval=30) -> 'RESTJob':\n\u001b[0;32m    138\u001b[0m         \u001b[1;34m\"\"\"Start the job, wait for it to finish and download result\"\"\"\u001b[0m\u001b[1;33m\u001b[0m\u001b[1;33m\u001b[0m\u001b[0m\n\u001b[1;32m--> 139\u001b[1;33m         self.start_and_wait(\n\u001b[0m\u001b[0;32m    140\u001b[0m             \u001b[0mprint\u001b[0m\u001b[1;33m=\u001b[0m\u001b[0mprint\u001b[0m\u001b[1;33m,\u001b[0m \u001b[0mmax_poll_interval\u001b[0m\u001b[1;33m=\u001b[0m\u001b[0mmax_poll_interval\u001b[0m\u001b[1;33m,\u001b[0m \u001b[0mconnection_retry_interval\u001b[0m\u001b[1;33m=\u001b[0m\u001b[0mconnection_retry_interval\u001b[0m\u001b[1;33m\u001b[0m\u001b[1;33m\u001b[0m\u001b[0m\n\u001b[0;32m    141\u001b[0m         )\n",
      "\u001b[1;32mc:\\users\\driesseb\\dev\\openeo-python-client\\openeo\\rest\\job.py\u001b[0m in \u001b[0;36mstart_and_wait\u001b[1;34m(self, print, max_poll_interval, connection_retry_interval, soft_error_max)\u001b[0m\n\u001b[0;32m    168\u001b[0m         \u001b[1;31m# TODO: make `max_poll_interval`, `connection_retry_interval` class constants or instance properties?\u001b[0m\u001b[1;33m\u001b[0m\u001b[1;33m\u001b[0m\u001b[0m\n\u001b[0;32m    169\u001b[0m         \u001b[0mprint_status\u001b[0m\u001b[1;33m(\u001b[0m\u001b[1;34m\"send 'start'\"\u001b[0m\u001b[1;33m)\u001b[0m\u001b[1;33m\u001b[0m\u001b[1;33m\u001b[0m\u001b[0m\n\u001b[1;32m--> 170\u001b[1;33m         \u001b[0mself\u001b[0m\u001b[1;33m.\u001b[0m\u001b[0mstart_job\u001b[0m\u001b[1;33m(\u001b[0m\u001b[1;33m)\u001b[0m\u001b[1;33m\u001b[0m\u001b[1;33m\u001b[0m\u001b[0m\n\u001b[0m\u001b[0;32m    171\u001b[0m \u001b[1;33m\u001b[0m\u001b[0m\n\u001b[0;32m    172\u001b[0m         \u001b[1;31m# TODO: also add  `wait` method so you can track a job that already has started explicitly\u001b[0m\u001b[1;33m\u001b[0m\u001b[1;33m\u001b[0m\u001b[0m\n",
      "\u001b[1;32mc:\\users\\driesseb\\dev\\openeo-python-client\\openeo\\rest\\job.py\u001b[0m in \u001b[0;36mstart_job\u001b[1;34m(self)\u001b[0m\n\u001b[0;32m     74\u001b[0m         \u001b[1;31m# TODO: rename to just `start`? #280\u001b[0m\u001b[1;33m\u001b[0m\u001b[1;33m\u001b[0m\u001b[0m\n\u001b[0;32m     75\u001b[0m         \u001b[1;31m# TODO: return self, to allow chained calls\u001b[0m\u001b[1;33m\u001b[0m\u001b[1;33m\u001b[0m\u001b[0m\n\u001b[1;32m---> 76\u001b[1;33m         \u001b[0mself\u001b[0m\u001b[1;33m.\u001b[0m\u001b[0mconnection\u001b[0m\u001b[1;33m.\u001b[0m\u001b[0mpost\u001b[0m\u001b[1;33m(\u001b[0m\u001b[1;34m\"/jobs/{}/results\"\u001b[0m\u001b[1;33m.\u001b[0m\u001b[0mformat\u001b[0m\u001b[1;33m(\u001b[0m\u001b[0mself\u001b[0m\u001b[1;33m.\u001b[0m\u001b[0mjob_id\u001b[0m\u001b[1;33m)\u001b[0m\u001b[1;33m,\u001b[0m \u001b[0mexpected_status\u001b[0m\u001b[1;33m=\u001b[0m\u001b[1;36m202\u001b[0m\u001b[1;33m)\u001b[0m\u001b[1;33m\u001b[0m\u001b[1;33m\u001b[0m\u001b[0m\n\u001b[0m\u001b[0;32m     77\u001b[0m \u001b[1;33m\u001b[0m\u001b[0m\n\u001b[0;32m     78\u001b[0m     \u001b[1;32mdef\u001b[0m \u001b[0mstop_job\u001b[0m\u001b[1;33m(\u001b[0m\u001b[0mself\u001b[0m\u001b[1;33m)\u001b[0m\u001b[1;33m:\u001b[0m\u001b[1;33m\u001b[0m\u001b[1;33m\u001b[0m\u001b[0m\n",
      "\u001b[1;32mc:\\users\\driesseb\\dev\\openeo-python-client\\openeo\\rest\\connection.py\u001b[0m in \u001b[0;36mpost\u001b[1;34m(self, path, json, **kwargs)\u001b[0m\n\u001b[0;32m    171\u001b[0m         \u001b[1;33m:\u001b[0m\u001b[1;32mreturn\u001b[0m\u001b[1;33m:\u001b[0m \u001b[0mresponse\u001b[0m\u001b[1;33m:\u001b[0m \u001b[0mResponse\u001b[0m\u001b[1;33m\u001b[0m\u001b[1;33m\u001b[0m\u001b[0m\n\u001b[0;32m    172\u001b[0m         \"\"\"\n\u001b[1;32m--> 173\u001b[1;33m         \u001b[1;32mreturn\u001b[0m \u001b[0mself\u001b[0m\u001b[1;33m.\u001b[0m\u001b[0mrequest\u001b[0m\u001b[1;33m(\u001b[0m\u001b[1;34m\"post\"\u001b[0m\u001b[1;33m,\u001b[0m \u001b[0mpath\u001b[0m\u001b[1;33m=\u001b[0m\u001b[0mpath\u001b[0m\u001b[1;33m,\u001b[0m \u001b[0mjson\u001b[0m\u001b[1;33m=\u001b[0m\u001b[0mjson\u001b[0m\u001b[1;33m,\u001b[0m \u001b[0mallow_redirects\u001b[0m\u001b[1;33m=\u001b[0m\u001b[1;32mFalse\u001b[0m\u001b[1;33m,\u001b[0m \u001b[1;33m**\u001b[0m\u001b[0mkwargs\u001b[0m\u001b[1;33m)\u001b[0m\u001b[1;33m\u001b[0m\u001b[1;33m\u001b[0m\u001b[0m\n\u001b[0m\u001b[0;32m    174\u001b[0m \u001b[1;33m\u001b[0m\u001b[0m\n\u001b[0;32m    175\u001b[0m     \u001b[1;32mdef\u001b[0m \u001b[0mdelete\u001b[0m\u001b[1;33m(\u001b[0m\u001b[0mself\u001b[0m\u001b[1;33m,\u001b[0m \u001b[0mpath\u001b[0m\u001b[1;33m,\u001b[0m \u001b[1;33m**\u001b[0m\u001b[0mkwargs\u001b[0m\u001b[1;33m)\u001b[0m \u001b[1;33m->\u001b[0m \u001b[0mResponse\u001b[0m\u001b[1;33m:\u001b[0m\u001b[1;33m\u001b[0m\u001b[1;33m\u001b[0m\u001b[0m\n",
      "\u001b[1;32mc:\\users\\driesseb\\dev\\openeo-python-client\\openeo\\rest\\connection.py\u001b[0m in \u001b[0;36mrequest\u001b[1;34m(self, method, path, headers, auth, check_error, expected_status, **kwargs)\u001b[0m\n\u001b[0;32m    119\u001b[0m         \u001b[0mexpected_status\u001b[0m \u001b[1;33m=\u001b[0m \u001b[0mensure_list\u001b[0m\u001b[1;33m(\u001b[0m\u001b[0mexpected_status\u001b[0m\u001b[1;33m)\u001b[0m \u001b[1;32mif\u001b[0m \u001b[0mexpected_status\u001b[0m \u001b[1;32melse\u001b[0m \u001b[1;33m[\u001b[0m\u001b[1;33m]\u001b[0m\u001b[1;33m\u001b[0m\u001b[1;33m\u001b[0m\u001b[0m\n\u001b[0;32m    120\u001b[0m         \u001b[1;32mif\u001b[0m \u001b[0mcheck_error\u001b[0m \u001b[1;32mand\u001b[0m \u001b[0mstatus\u001b[0m \u001b[1;33m>=\u001b[0m \u001b[1;36m400\u001b[0m \u001b[1;32mand\u001b[0m \u001b[0mstatus\u001b[0m \u001b[1;32mnot\u001b[0m \u001b[1;32min\u001b[0m \u001b[0mexpected_status\u001b[0m\u001b[1;33m:\u001b[0m\u001b[1;33m\u001b[0m\u001b[1;33m\u001b[0m\u001b[0m\n\u001b[1;32m--> 121\u001b[1;33m             \u001b[0mself\u001b[0m\u001b[1;33m.\u001b[0m\u001b[0m_raise_api_error\u001b[0m\u001b[1;33m(\u001b[0m\u001b[0mresp\u001b[0m\u001b[1;33m)\u001b[0m\u001b[1;33m\u001b[0m\u001b[1;33m\u001b[0m\u001b[0m\n\u001b[0m\u001b[0;32m    122\u001b[0m         \u001b[1;32mif\u001b[0m \u001b[0mexpected_status\u001b[0m \u001b[1;32mand\u001b[0m \u001b[0mstatus\u001b[0m \u001b[1;32mnot\u001b[0m \u001b[1;32min\u001b[0m \u001b[0mexpected_status\u001b[0m\u001b[1;33m:\u001b[0m\u001b[1;33m\u001b[0m\u001b[1;33m\u001b[0m\u001b[0m\n\u001b[0;32m    123\u001b[0m             raise OpenEoRestError(\"Got status code {s!r} for `{m} {p}` (expected {e!r})\".format(\n",
      "\u001b[1;32mc:\\users\\driesseb\\dev\\openeo-python-client\\openeo\\rest\\connection.py\u001b[0m in \u001b[0;36m_raise_api_error\u001b[1;34m(self, response)\u001b[0m\n\u001b[0;32m    150\u001b[0m             \u001b[1;32melse\u001b[0m\u001b[1;33m:\u001b[0m\u001b[1;33m\u001b[0m\u001b[1;33m\u001b[0m\u001b[0m\n\u001b[0;32m    151\u001b[0m                 \u001b[0mexception\u001b[0m \u001b[1;33m=\u001b[0m \u001b[0mOpenEoApiError\u001b[0m\u001b[1;33m(\u001b[0m\u001b[0mhttp_status_code\u001b[0m\u001b[1;33m=\u001b[0m\u001b[0mstatus_code\u001b[0m\u001b[1;33m,\u001b[0m \u001b[0mmessage\u001b[0m\u001b[1;33m=\u001b[0m\u001b[0mtext\u001b[0m\u001b[1;33m)\u001b[0m\u001b[1;33m\u001b[0m\u001b[1;33m\u001b[0m\u001b[0m\n\u001b[1;32m--> 152\u001b[1;33m         \u001b[1;32mraise\u001b[0m \u001b[0mexception\u001b[0m\u001b[1;33m\u001b[0m\u001b[1;33m\u001b[0m\u001b[0m\n\u001b[0m\u001b[0;32m    153\u001b[0m \u001b[1;33m\u001b[0m\u001b[0m\n\u001b[0;32m    154\u001b[0m     \u001b[1;32mdef\u001b[0m \u001b[0mget\u001b[0m\u001b[1;33m(\u001b[0m\u001b[0mself\u001b[0m\u001b[1;33m,\u001b[0m \u001b[0mpath\u001b[0m\u001b[1;33m,\u001b[0m \u001b[0mstream\u001b[0m\u001b[1;33m=\u001b[0m\u001b[1;32mFalse\u001b[0m\u001b[1;33m,\u001b[0m \u001b[0mauth\u001b[0m\u001b[1;33m:\u001b[0m \u001b[0mAuthBase\u001b[0m \u001b[1;33m=\u001b[0m \u001b[1;32mNone\u001b[0m\u001b[1;33m,\u001b[0m \u001b[1;33m**\u001b[0m\u001b[0mkwargs\u001b[0m\u001b[1;33m)\u001b[0m \u001b[1;33m->\u001b[0m \u001b[0mResponse\u001b[0m\u001b[1;33m:\u001b[0m\u001b[1;33m\u001b[0m\u001b[1;33m\u001b[0m\u001b[0m\n",
      "\u001b[1;31mOpenEoApiError\u001b[0m: [500] unknown: Did not find value which can be converted into java.lang.String"
     ]
    }
   ],
   "source": [
    "cube = features.filter_spatial(gpd.GeoDataFrame.from_features(json.loads(list(aoi.value.values())[0][\"content\"]))[\"geometry\"][0])\n",
    "predicted = cube.predict_random_forest(\n",
    "    model=\"f18fe77e-8767-4132-9977-43e13ae33999\",\n",
    "    dimension=\"bands\"\n",
    ")\n",
    "\n",
    "nieuwe_job = predicted.execute_batch(format=\"GTiff\")"
   ]
  }
 ],
 "metadata": {
  "kernelspec": {
   "display_name": "Python 3",
   "language": "python",
   "name": "python3"
  },
  "language_info": {
   "codemirror_mode": {
    "name": "ipython",
    "version": 3
   },
   "file_extension": ".py",
   "mimetype": "text/x-python",
   "name": "python",
   "nbconvert_exporter": "python",
   "pygments_lexer": "ipython3",
   "version": "3.9.7"
  }
 },
 "nbformat": 4,
 "nbformat_minor": 5
}
