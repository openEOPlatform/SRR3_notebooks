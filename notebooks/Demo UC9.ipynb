{
 "cells": [
  {
   "cell_type": "markdown",
   "id": "4d70873f",
   "metadata": {},
   "source": [
    "<img src=\"https://avatars.githubusercontent.com/u/74911464?s=200&v=4\"\n",
    "     alt=\"OpenEO Platform logo\"\n",
    "     style=\"float: left; margin-right: 10px;\" />\n",
    "# OpenEO Platform - UC9\n",
    "Dynamic large area land cover mapping"
   ]
  },
  {
   "cell_type": "code",
   "execution_count": 2,
   "id": "73bf537b",
   "metadata": {},
   "outputs": [],
   "source": [
    "import openeo\n",
    "import geopandas as gpd\n",
    "import pandas as pd\n",
    "from openeo_classification.landuse_classification import *\n",
    "from datetime import date\n",
    "import ipywidgets as widgets\n",
    "import datetime\n",
    "import json"
   ]
  },
  {
   "cell_type": "markdown",
   "id": "11c9fe12",
   "metadata": {},
   "source": [
    "## Objectives and approach\n",
    "\n",
    "In this notebook we will be studying land cover mapping. Land cover mapping has been done since the onset of remote sensing, and LC products have been identified as a fundamental variable needed for studying the functional and morphological changes occurring in the Earth's ecosystems and the environment, and plays therefore an important role in studying climate change and carbon circulation (Congalton et al., 2014; Feddema et al., 2005; Sellers et al., 1997). In addition to that, it provides valuable information for policy development and a wide range of applications within natural sciences and life sciences, making it one of the most widely studied applications within remote sensing (Yu et al., 2014, Tucker et al., 1985; Running, 2008; Yang et al., 2013).\n",
    "\n",
    "With this variety in application fields comes a variety of user needs. Depending on the use case, there may be large differences in the target labels desired, the target year(s) requested, the output resolution needed, the featureset used, the stratification strategy employed, and more. The goal of this use case is to show that OpenEO as a platform can deal with this variability, and we will do so through creating a userfriendly interface in which the user can set a variety of parameters that will tailor the pipeline from -reference set & L2A+GRD > to model > to inference- to the users needs."
   ]
  },
  {
   "cell_type": "markdown",
   "id": "46deb82a",
   "metadata": {},
   "source": [
    "## Methodology\n",
    "\n",
    "#### Reference data \n",
    "The reference dataset used in this project is the Land Use/Cover Area frame Survey (LUCAS) Copernicus dataset. LUCAS is an evenly spaced in-situ land use and land cover ground survey exercise that extends over the entire of the European Union. The Copernicus module extends up to 51m in four cardinal directions to delineate polygons for each of these points. The final product contains about 60,000 polygons, from which subsequent points can be sampled (d'Andrimont et al., 2021). The user can specify how many points to sample from these polygons to train his model. In addition, the user can upload extra target data to improve performance.\n",
    "\n",
    "#### Input data\n",
    "The service created runs on features constructed from GRD sigma0 and L2A data. This data will be accessed through OpenEO platform from Terrascope and  SentinelHub. The extracted data stems from 01-01-2018 to 31-12-2018, corresponding to the year of collection of the LUCAS dataset (2018) on the basis of which the model was trained. Data from other years can be extracted for prediction, provided that the user uploads their own reference set.\n",
    "\n",
    "From S2: calculation of 7 indices (NDVI, NDMI, NDGI, ANIR, NDRE1, NDRE2, NDRE5) and keeping 2 bands (B06, B12)\n",
    "From S1: VV, VH and VV/VH\n",
    "For all of these, 10 features: p25, p50, p75, sd and 6 t-steps, with flexible range\n",
    "\n",
    "#### Preprocessing\n",
    "The L2A data has been masked using the sen2cor sceneclassification, with a buffering approach developed at VITO and made available as a process called mask_scl_dilation.\n",
    "\n",
    "#### Feature engineering\n",
    "From the L2A data, 7 indices were calculated: the NDVI, NDMI, NDGI, NDRE1, NDRE2, NDRE5 and ANIR. After calculating the indices, most bands were dropped except for B06 and B12. The outputs are rescaled to 0 to 30000 for the sake of computational efficiency. The indices are aggregated temporally with a step size of 10 days with an overlap of 10 days by taking the median. The output is then interpolated linearly to end up with a timeseries. The linear interpolation calculates an interpolated value for every NA value, except for trailing and leading NA’s.\n",
    "From the Sentinel-1 GRD collection, backscatter is calculated. The ratio of VV / VH backscatter is calculated and rescaled to 0-30000. The timeseries is then aggregated temporally with a step size of 12 and an overlap of 6 by taking the mean. The interpolation output is repeated even though there should not be any missing values in this set. Next, the S1 cube is resampled spatially.\n",
    "Next, the two datacubes are merged and 10 features are calculated on each of the band dimensions. These 10 features are the standard deviation, 25th, 50th and 75th percentile, and 6 equidistant t-steps. Through this procedure, we end up with a total of 120 features (12 bands x 10 features).\n",
    "\n",
    "#### Model\n",
    "Where previously models had to be trained outside of openEO, we can now train Random Forest models in openEO itself. Hyperparameter tuning can be performed using a custom hyperparameter set, and models can be constructed using either feature fusion or decision fusion, i.e., combine all S1 and S2 features and train one model, or train one model on the S1 features and one on the S2 features, and combine the models later. Random Forest was chosen as implementation as it is a fairly basic algorithm that trains rather quickly. Models can be trained using a stratification layer uploaded by the user, resulting in one model per stratification class. After training, the model(s) are validated and the model is used for prediction."
   ]
  },
  {
   "cell_type": "markdown",
   "id": "ab44d7e0",
   "metadata": {},
   "source": [
    "## Implementation\n",
    "First, create an area of interest for which you want do this classification, and potentially a stratification layer if you would like to make use of stratification. Tune the other parameters to your personal preference."
   ]
  },
  {
   "cell_type": "code",
   "execution_count": 11,
   "id": "e28f4a40",
   "metadata": {},
   "outputs": [],
   "source": [
    "### TODO: Also a drawing functionality for the user (for AOI, stratification layer) ?"
   ]
  },
  {
   "cell_type": "code",
   "execution_count": 3,
   "id": "e2e3447b",
   "metadata": {},
   "outputs": [
    {
     "data": {
      "application/vnd.jupyter.widget-view+json": {
       "model_id": "10487e7ff2c24f7e8abaa118f84882f2",
       "version_major": 2,
       "version_minor": 0
      },
      "text/plain": [
       "Box(children=(Label(value='Train / test split:'), FloatSlider(value=0.75, max=1.0, step=0.05)))"
      ]
     },
     "metadata": {},
     "output_type": "display_data"
    },
    {
     "data": {
      "application/vnd.jupyter.widget-view+json": {
       "model_id": "0ca7d2635d8047e39c8b906fa95cbf01",
       "version_major": 2,
       "version_minor": 0
      },
      "text/plain": [
       "Dropdown(description='Model:', disabled=True, options=('Random Forest',), value='Random Forest')"
      ]
     },
     "metadata": {},
     "output_type": "display_data"
    },
    {
     "data": {
      "application/vnd.jupyter.widget-view+json": {
       "model_id": "f83d69a0428a4ecb88f87a090246cfc9",
       "version_major": 2,
       "version_minor": 0
      },
      "text/plain": [
       "Box(children=(Label(value='Hyperparameters RF model:'), IntText(value=1000, description='Nr trees:'), IntText(…"
      ]
     },
     "metadata": {},
     "output_type": "display_data"
    },
    {
     "data": {
      "application/vnd.jupyter.widget-view+json": {
       "model_id": "54de15fe142048b385db8f2ff9fef4d1",
       "version_major": 2,
       "version_minor": 0
      },
      "text/plain": [
       "Box(children=(Label(value='S1 / S2 fusion:'), RadioButtons(options=('Feature fusion', 'Decision fusion'), valu…"
      ]
     },
     "metadata": {},
     "output_type": "display_data"
    },
    {
     "data": {
      "application/vnd.jupyter.widget-view+json": {
       "model_id": "7e2ef327cb554d4a91cd4f1efc6c3ba0",
       "version_major": 2,
       "version_minor": 0
      },
      "text/plain": [
       "FileUpload(value={}, accept='.geojson,.shp', description='Upload AOI', layout=Layout(width='20em'))"
      ]
     },
     "metadata": {},
     "output_type": "display_data"
    },
    {
     "data": {
      "application/vnd.jupyter.widget-view+json": {
       "model_id": "70ec5b2eac6145c19fc733bcb2246643",
       "version_major": 2,
       "version_minor": 0
      },
      "text/plain": [
       "FileUpload(value={}, accept='.geojson,.shp', description='Upload stratification', layout=Layout(width='20em'))"
      ]
     },
     "metadata": {},
     "output_type": "display_data"
    },
    {
     "data": {
      "application/vnd.jupyter.widget-view+json": {
       "model_id": "8edc04518fb94105b88782db82929d9b",
       "version_major": 2,
       "version_minor": 0
      },
      "text/plain": [
       "DatePicker(value=datetime.date(2018, 1, 1), description='Start date')"
      ]
     },
     "metadata": {},
     "output_type": "display_data"
    },
    {
     "data": {
      "application/vnd.jupyter.widget-view+json": {
       "model_id": "da9ab76626194ad2928e7b13fb8d62dd",
       "version_major": 2,
       "version_minor": 0
      },
      "text/plain": [
       "DatePicker(value=datetime.date(2018, 12, 31), description='End date')"
      ]
     },
     "metadata": {},
     "output_type": "display_data"
    },
    {
     "data": {
      "application/vnd.jupyter.widget-view+json": {
       "model_id": "28fdaafdda494668aa6ec14c98b01d52",
       "version_major": 2,
       "version_minor": 0
      },
      "text/plain": [
       "Box(children=(Label(value='Select the amount of target classes:'), IntSlider(value=10, max=37, min=2)))"
      ]
     },
     "metadata": {},
     "output_type": "display_data"
    },
    {
     "data": {
      "application/vnd.jupyter.widget-view+json": {
       "model_id": "8b344d4313384a419f1d6adab2d52970",
       "version_major": 2,
       "version_minor": 0
      },
      "text/plain": [
       "Box(children=(Label(value='Select the amount of times you want to point sample each reference polygon:'), IntS…"
      ]
     },
     "metadata": {},
     "output_type": "display_data"
    }
   ],
   "source": [
    "train_test_split, algorithm, nrtrees, mtry, fusion_technique, aoi, strat_layer, start_date, end_date, nr_targets, nr_spp = getStartingWidgets()"
   ]
  },
  {
   "cell_type": "code",
   "execution_count": 4,
   "id": "811e7fc1",
   "metadata": {},
   "outputs": [
    {
     "data": {
      "application/vnd.jupyter.widget-view+json": {
       "model_id": "e5214c4972924fb8b7c7018e8afa248e",
       "version_major": 2,
       "version_minor": 0
      },
      "text/plain": [
       "SelectMultiple(description='Target class', options=('A00: Artificial land', 'A10: Roofed built-up areas', 'A20…"
      ]
     },
     "metadata": {},
     "output_type": "display_data"
    },
    {
     "data": {
      "application/vnd.jupyter.widget-view+json": {
       "model_id": "6989f7ce34824f0fb6e26ba617c209bb",
       "version_major": 2,
       "version_minor": 0
      },
      "text/plain": [
       "SelectMultiple(description='Target class', options=('A00: Artificial land', 'A10: Roofed built-up areas', 'A20…"
      ]
     },
     "metadata": {},
     "output_type": "display_data"
    },
    {
     "data": {
      "application/vnd.jupyter.widget-view+json": {
       "model_id": "2f26798dd7754f2ab09d01166c43e00e",
       "version_major": 2,
       "version_minor": 0
      },
      "text/plain": [
       "SelectMultiple(description='Target class', options=('A00: Artificial land', 'A10: Roofed built-up areas', 'A20…"
      ]
     },
     "metadata": {},
     "output_type": "display_data"
    },
    {
     "data": {
      "application/vnd.jupyter.widget-view+json": {
       "model_id": "19cf73c1b0d8404288379260cc04b1b6",
       "version_major": 2,
       "version_minor": 0
      },
      "text/plain": [
       "SelectMultiple(description='Target class', options=('A00: Artificial land', 'A10: Roofed built-up areas', 'A20…"
      ]
     },
     "metadata": {},
     "output_type": "display_data"
    }
   ],
   "source": [
    "target_classes = getTargetClasses(nr_targets)"
   ]
  },
  {
   "cell_type": "code",
   "execution_count": 5,
   "id": "690c9cc3",
   "metadata": {},
   "outputs": [
    {
     "name": "stdout",
     "output_type": "stream",
     "text": [
      "Loading in the LUCAS Copernicus dataset...\n",
      "Finished loading data.\n",
      "Extracting points and converting target labels...\n",
      "Finished extracting points and converting target labels\n"
     ]
    }
   ],
   "source": [
    "y = getReferenceSet(aoi, nr_spp, target_classes)"
   ]
  },
  {
   "cell_type": "code",
   "execution_count": 6,
   "id": "2a5efbed",
   "metadata": {
    "scrolled": true
   },
   "outputs": [],
   "source": [
    "def getStrata():\n",
    "    if len(strat_layer.value) == 0:\n",
    "        strata = gpd.GeoDataFrame.from_features(json.loads(aoi.data[0]))\n",
    "    else:\n",
    "        strata = gpd.GeoDataFrame.from_features(json.loads(strat_layer.data[0]))\n",
    "    return strata\n",
    "\n",
    "strata = getStrata()"
   ]
  },
  {
   "cell_type": "code",
   "execution_count": null,
   "id": "5150d382",
   "metadata": {},
   "outputs": [],
   "source": [
    "### TODO: Misschien nog een check inbouwen dat AOI en stratificatielagen elkaar op zijn minst overlappen?"
   ]
  },
  {
   "cell_type": "markdown",
   "id": "10534b8f",
   "metadata": {},
   "source": [
    "Now we will start to fit our model. If you are using stratification, you will be constructing a model for every stratum you have specified. Also, if you are using decision fusion, you will have a separate model for both the Sentinel-1 and the Sentinel-2 features. If you are using feature fusion, the S1 and S2 features will be merged and you will train one model per stratum."
   ]
  },
  {
   "cell_type": "code",
   "execution_count": 9,
   "id": "c26de9d2",
   "metadata": {},
   "outputs": [],
   "source": [
    "def fitRandomForestModel(feature_raster, y):\n",
    "    features, feature_list = load_lc_features(feature_raster, y, start_date.value, end_date.value)\n",
    "    X = features.aggregate_spatial(json.loads(y.to_json()), reducer=\"mean\")\n",
    "    ml_model = X.fit_class_random_forest(target=json.loads(y.to_json()), training=train_test_split.value, num_trees=nrtrees.value, mtry=mtry.value)\n",
    "    model = ml_model.save_ml_model()\n",
    "    training_job = model.create_job()\n",
    "    training_job.start_and_wait()\n",
    "    return training_job.job_id"
   ]
  },
  {
   "cell_type": "code",
   "execution_count": 10,
   "id": "e3a4d9ff",
   "metadata": {
    "scrolled": false
   },
   "outputs": [
    {
     "name": "stdout",
     "output_type": "stream",
     "text": [
      "Authenticated using refresh token.\n",
      "Authenticated using refresh token.\n",
      "0:00:00 Job 'd458856e-b315-4d13-a369-a2c86f3adaf2': send 'start'\n",
      "0:01:06 Job 'd458856e-b315-4d13-a369-a2c86f3adaf2': queued (progress N/A)\n",
      "0:01:11 Job 'd458856e-b315-4d13-a369-a2c86f3adaf2': queued (progress N/A)\n",
      "0:01:18 Job 'd458856e-b315-4d13-a369-a2c86f3adaf2': queued (progress N/A)\n",
      "0:01:26 Job 'd458856e-b315-4d13-a369-a2c86f3adaf2': queued (progress N/A)\n",
      "0:01:37 Job 'd458856e-b315-4d13-a369-a2c86f3adaf2': queued (progress N/A)\n",
      "0:01:49 Job 'd458856e-b315-4d13-a369-a2c86f3adaf2': queued (progress N/A)\n",
      "0:02:06 Job 'd458856e-b315-4d13-a369-a2c86f3adaf2': queued (progress N/A)\n",
      "0:02:25 Job 'd458856e-b315-4d13-a369-a2c86f3adaf2': queued (progress N/A)\n",
      "0:02:50 Job 'd458856e-b315-4d13-a369-a2c86f3adaf2': running (progress N/A)\n",
      "0:03:24 Job 'd458856e-b315-4d13-a369-a2c86f3adaf2': running (progress N/A)\n",
      "0:04:01 Job 'd458856e-b315-4d13-a369-a2c86f3adaf2': running (progress N/A)\n",
      "0:04:49 Job 'd458856e-b315-4d13-a369-a2c86f3adaf2': running (progress N/A)\n",
      "0:05:47 Job 'd458856e-b315-4d13-a369-a2c86f3adaf2': running (progress N/A)\n",
      "0:06:49 Job 'd458856e-b315-4d13-a369-a2c86f3adaf2': running (progress N/A)\n",
      "0:07:49 Job 'd458856e-b315-4d13-a369-a2c86f3adaf2': finished (progress N/A)\n",
      "Authenticated using refresh token.\n",
      "Authenticated using refresh token.\n",
      "0:00:00 Job 'bc5686fe-7ff9-4945-bd90-fa739c4e6fa1': send 'start'\n",
      "0:00:43 Job 'bc5686fe-7ff9-4945-bd90-fa739c4e6fa1': queued (progress N/A)\n",
      "0:00:50 Job 'bc5686fe-7ff9-4945-bd90-fa739c4e6fa1': queued (progress N/A)\n",
      "0:00:58 Job 'bc5686fe-7ff9-4945-bd90-fa739c4e6fa1': queued (progress N/A)\n",
      "0:01:07 Job 'bc5686fe-7ff9-4945-bd90-fa739c4e6fa1': queued (progress N/A)\n",
      "0:01:18 Job 'bc5686fe-7ff9-4945-bd90-fa739c4e6fa1': queued (progress N/A)\n",
      "0:01:33 Job 'bc5686fe-7ff9-4945-bd90-fa739c4e6fa1': queued (progress N/A)\n",
      "0:01:48 Job 'bc5686fe-7ff9-4945-bd90-fa739c4e6fa1': queued (progress N/A)\n",
      "0:02:08 Job 'bc5686fe-7ff9-4945-bd90-fa739c4e6fa1': queued (progress N/A)\n",
      "0:02:32 Job 'bc5686fe-7ff9-4945-bd90-fa739c4e6fa1': queued (progress N/A)\n",
      "0:03:03 Job 'bc5686fe-7ff9-4945-bd90-fa739c4e6fa1': running (progress N/A)\n",
      "0:03:41 Job 'bc5686fe-7ff9-4945-bd90-fa739c4e6fa1': running (progress N/A)\n",
      "0:04:28 Job 'bc5686fe-7ff9-4945-bd90-fa739c4e6fa1': running (progress N/A)\n",
      "0:05:27 Job 'bc5686fe-7ff9-4945-bd90-fa739c4e6fa1': running (progress N/A)\n",
      "0:06:28 Job 'bc5686fe-7ff9-4945-bd90-fa739c4e6fa1': running (progress N/A)\n",
      "0:07:28 Job 'bc5686fe-7ff9-4945-bd90-fa739c4e6fa1': running (progress N/A)\n",
      "0:08:29 Job 'bc5686fe-7ff9-4945-bd90-fa739c4e6fa1': running (progress N/A)\n",
      "0:09:29 Job 'bc5686fe-7ff9-4945-bd90-fa739c4e6fa1': running (progress N/A)\n",
      "0:10:29 Job 'bc5686fe-7ff9-4945-bd90-fa739c4e6fa1': running (progress N/A)\n",
      "0:11:30 Job 'bc5686fe-7ff9-4945-bd90-fa739c4e6fa1': running (progress N/A)\n",
      "0:12:30 Job 'bc5686fe-7ff9-4945-bd90-fa739c4e6fa1': running (progress N/A)\n",
      "0:13:31 Job 'bc5686fe-7ff9-4945-bd90-fa739c4e6fa1': finished (progress N/A)\n"
     ]
    }
   ],
   "source": [
    "jobids = {}\n",
    "for index, stratum in enumerate(strata[\"geometry\"]):\n",
    "    y_final = gpd.clip(y, stratum)\n",
    "    if fusion_technique.value == \"Decision fusion\":\n",
    "        jobids[\"s1_stratum\"+str(index)] = fitRandomForestModel(\"s1\", y_final)\n",
    "        jobids[\"s2_stratum\"+str(index)] = fitRandomForestModel(\"s2\", y_final)\n",
    "    else:\n",
    "        jobids[\"both_stratum\"+str(index)] = fitRandomForestModel(\"both\", y_final)"
   ]
  },
  {
   "cell_type": "markdown",
   "id": "9adc5767",
   "metadata": {},
   "source": [
    "After training the respective models, we can do inference. In general you would like to first do inference on a test set, so that you can calculate a number of accuracy metrics, such as the overall accuracy, the F-score, and/or creating a confusion matrix."
   ]
  },
  {
   "cell_type": "code",
   "execution_count": 14,
   "id": "bee94e1c",
   "metadata": {},
   "outputs": [
    {
     "name": "stdout",
     "output_type": "stream",
     "text": [
      "0:00:00 Job '490c49ec-6cbd-4664-bf79-dc924106cc1a': send 'start'\n"
     ]
    },
    {
     "ename": "OpenEoApiError",
     "evalue": "[500] unknown: Did not find value which can be converted into java.lang.String",
     "output_type": "error",
     "traceback": [
      "\u001b[1;31m---------------------------------------------------------------------------\u001b[0m",
      "\u001b[1;31mOpenEoApiError\u001b[0m                            Traceback (most recent call last)",
      "\u001b[1;32m<ipython-input-14-12f264b808d4>\u001b[0m in \u001b[0;36m<module>\u001b[1;34m\u001b[0m\n\u001b[0;32m      6\u001b[0m )\n\u001b[0;32m      7\u001b[0m \u001b[1;33m\u001b[0m\u001b[0m\n\u001b[1;32m----> 8\u001b[1;33m \u001b[0mnieuwe_job\u001b[0m \u001b[1;33m=\u001b[0m \u001b[0mpredicted\u001b[0m\u001b[1;33m.\u001b[0m\u001b[0mexecute_batch\u001b[0m\u001b[1;33m(\u001b[0m\u001b[0mformat\u001b[0m\u001b[1;33m=\u001b[0m\u001b[1;34m\"GTiff\"\u001b[0m\u001b[1;33m)\u001b[0m\u001b[1;33m\u001b[0m\u001b[1;33m\u001b[0m\u001b[0m\n\u001b[0m",
      "\u001b[1;32mc:\\users\\driesseb\\dev\\openeo-python-client\\openeo\\rest\\datacube.py\u001b[0m in \u001b[0;36mexecute_batch\u001b[1;34m(self, outputfile, out_format, print, max_poll_interval, connection_retry_interval, job_options, **format_options)\u001b[0m\n\u001b[0;32m   1611\u001b[0m         \"\"\"\n\u001b[0;32m   1612\u001b[0m         \u001b[0mjob\u001b[0m \u001b[1;33m=\u001b[0m \u001b[0mself\u001b[0m\u001b[1;33m.\u001b[0m\u001b[0mcreate_job\u001b[0m\u001b[1;33m(\u001b[0m\u001b[0mout_format\u001b[0m\u001b[1;33m,\u001b[0m \u001b[0mjob_options\u001b[0m\u001b[1;33m=\u001b[0m\u001b[0mjob_options\u001b[0m\u001b[1;33m,\u001b[0m \u001b[1;33m**\u001b[0m\u001b[0mformat_options\u001b[0m\u001b[1;33m)\u001b[0m\u001b[1;33m\u001b[0m\u001b[1;33m\u001b[0m\u001b[0m\n\u001b[1;32m-> 1613\u001b[1;33m         return job.run_synchronous(\n\u001b[0m\u001b[0;32m   1614\u001b[0m             \u001b[0moutputfile\u001b[0m\u001b[1;33m=\u001b[0m\u001b[0moutputfile\u001b[0m\u001b[1;33m,\u001b[0m\u001b[1;33m\u001b[0m\u001b[1;33m\u001b[0m\u001b[0m\n\u001b[0;32m   1615\u001b[0m             \u001b[0mprint\u001b[0m\u001b[1;33m=\u001b[0m\u001b[0mprint\u001b[0m\u001b[1;33m,\u001b[0m \u001b[0mmax_poll_interval\u001b[0m\u001b[1;33m=\u001b[0m\u001b[0mmax_poll_interval\u001b[0m\u001b[1;33m,\u001b[0m \u001b[0mconnection_retry_interval\u001b[0m\u001b[1;33m=\u001b[0m\u001b[0mconnection_retry_interval\u001b[0m\u001b[1;33m\u001b[0m\u001b[1;33m\u001b[0m\u001b[0m\n",
      "\u001b[1;32mc:\\users\\driesseb\\dev\\openeo-python-client\\openeo\\rest\\job.py\u001b[0m in \u001b[0;36mrun_synchronous\u001b[1;34m(self, outputfile, print, max_poll_interval, connection_retry_interval)\u001b[0m\n\u001b[0;32m    137\u001b[0m                         print=print, max_poll_interval=60, connection_retry_interval=30) -> 'RESTJob':\n\u001b[0;32m    138\u001b[0m         \u001b[1;34m\"\"\"Start the job, wait for it to finish and download result\"\"\"\u001b[0m\u001b[1;33m\u001b[0m\u001b[1;33m\u001b[0m\u001b[0m\n\u001b[1;32m--> 139\u001b[1;33m         self.start_and_wait(\n\u001b[0m\u001b[0;32m    140\u001b[0m             \u001b[0mprint\u001b[0m\u001b[1;33m=\u001b[0m\u001b[0mprint\u001b[0m\u001b[1;33m,\u001b[0m \u001b[0mmax_poll_interval\u001b[0m\u001b[1;33m=\u001b[0m\u001b[0mmax_poll_interval\u001b[0m\u001b[1;33m,\u001b[0m \u001b[0mconnection_retry_interval\u001b[0m\u001b[1;33m=\u001b[0m\u001b[0mconnection_retry_interval\u001b[0m\u001b[1;33m\u001b[0m\u001b[1;33m\u001b[0m\u001b[0m\n\u001b[0;32m    141\u001b[0m         )\n",
      "\u001b[1;32mc:\\users\\driesseb\\dev\\openeo-python-client\\openeo\\rest\\job.py\u001b[0m in \u001b[0;36mstart_and_wait\u001b[1;34m(self, print, max_poll_interval, connection_retry_interval, soft_error_max)\u001b[0m\n\u001b[0;32m    168\u001b[0m         \u001b[1;31m# TODO: make `max_poll_interval`, `connection_retry_interval` class constants or instance properties?\u001b[0m\u001b[1;33m\u001b[0m\u001b[1;33m\u001b[0m\u001b[0m\n\u001b[0;32m    169\u001b[0m         \u001b[0mprint_status\u001b[0m\u001b[1;33m(\u001b[0m\u001b[1;34m\"send 'start'\"\u001b[0m\u001b[1;33m)\u001b[0m\u001b[1;33m\u001b[0m\u001b[1;33m\u001b[0m\u001b[0m\n\u001b[1;32m--> 170\u001b[1;33m         \u001b[0mself\u001b[0m\u001b[1;33m.\u001b[0m\u001b[0mstart_job\u001b[0m\u001b[1;33m(\u001b[0m\u001b[1;33m)\u001b[0m\u001b[1;33m\u001b[0m\u001b[1;33m\u001b[0m\u001b[0m\n\u001b[0m\u001b[0;32m    171\u001b[0m \u001b[1;33m\u001b[0m\u001b[0m\n\u001b[0;32m    172\u001b[0m         \u001b[1;31m# TODO: also add  `wait` method so you can track a job that already has started explicitly\u001b[0m\u001b[1;33m\u001b[0m\u001b[1;33m\u001b[0m\u001b[0m\n",
      "\u001b[1;32mc:\\users\\driesseb\\dev\\openeo-python-client\\openeo\\rest\\job.py\u001b[0m in \u001b[0;36mstart_job\u001b[1;34m(self)\u001b[0m\n\u001b[0;32m     74\u001b[0m         \u001b[1;31m# TODO: rename to just `start`? #280\u001b[0m\u001b[1;33m\u001b[0m\u001b[1;33m\u001b[0m\u001b[0m\n\u001b[0;32m     75\u001b[0m         \u001b[1;31m# TODO: return self, to allow chained calls\u001b[0m\u001b[1;33m\u001b[0m\u001b[1;33m\u001b[0m\u001b[0m\n\u001b[1;32m---> 76\u001b[1;33m         \u001b[0mself\u001b[0m\u001b[1;33m.\u001b[0m\u001b[0mconnection\u001b[0m\u001b[1;33m.\u001b[0m\u001b[0mpost\u001b[0m\u001b[1;33m(\u001b[0m\u001b[1;34m\"/jobs/{}/results\"\u001b[0m\u001b[1;33m.\u001b[0m\u001b[0mformat\u001b[0m\u001b[1;33m(\u001b[0m\u001b[0mself\u001b[0m\u001b[1;33m.\u001b[0m\u001b[0mjob_id\u001b[0m\u001b[1;33m)\u001b[0m\u001b[1;33m,\u001b[0m \u001b[0mexpected_status\u001b[0m\u001b[1;33m=\u001b[0m\u001b[1;36m202\u001b[0m\u001b[1;33m)\u001b[0m\u001b[1;33m\u001b[0m\u001b[1;33m\u001b[0m\u001b[0m\n\u001b[0m\u001b[0;32m     77\u001b[0m \u001b[1;33m\u001b[0m\u001b[0m\n\u001b[0;32m     78\u001b[0m     \u001b[1;32mdef\u001b[0m \u001b[0mstop_job\u001b[0m\u001b[1;33m(\u001b[0m\u001b[0mself\u001b[0m\u001b[1;33m)\u001b[0m\u001b[1;33m:\u001b[0m\u001b[1;33m\u001b[0m\u001b[1;33m\u001b[0m\u001b[0m\n",
      "\u001b[1;32mc:\\users\\driesseb\\dev\\openeo-python-client\\openeo\\rest\\connection.py\u001b[0m in \u001b[0;36mpost\u001b[1;34m(self, path, json, **kwargs)\u001b[0m\n\u001b[0;32m    171\u001b[0m         \u001b[1;33m:\u001b[0m\u001b[1;32mreturn\u001b[0m\u001b[1;33m:\u001b[0m \u001b[0mresponse\u001b[0m\u001b[1;33m:\u001b[0m \u001b[0mResponse\u001b[0m\u001b[1;33m\u001b[0m\u001b[1;33m\u001b[0m\u001b[0m\n\u001b[0;32m    172\u001b[0m         \"\"\"\n\u001b[1;32m--> 173\u001b[1;33m         \u001b[1;32mreturn\u001b[0m \u001b[0mself\u001b[0m\u001b[1;33m.\u001b[0m\u001b[0mrequest\u001b[0m\u001b[1;33m(\u001b[0m\u001b[1;34m\"post\"\u001b[0m\u001b[1;33m,\u001b[0m \u001b[0mpath\u001b[0m\u001b[1;33m=\u001b[0m\u001b[0mpath\u001b[0m\u001b[1;33m,\u001b[0m \u001b[0mjson\u001b[0m\u001b[1;33m=\u001b[0m\u001b[0mjson\u001b[0m\u001b[1;33m,\u001b[0m \u001b[0mallow_redirects\u001b[0m\u001b[1;33m=\u001b[0m\u001b[1;32mFalse\u001b[0m\u001b[1;33m,\u001b[0m \u001b[1;33m**\u001b[0m\u001b[0mkwargs\u001b[0m\u001b[1;33m)\u001b[0m\u001b[1;33m\u001b[0m\u001b[1;33m\u001b[0m\u001b[0m\n\u001b[0m\u001b[0;32m    174\u001b[0m \u001b[1;33m\u001b[0m\u001b[0m\n\u001b[0;32m    175\u001b[0m     \u001b[1;32mdef\u001b[0m \u001b[0mdelete\u001b[0m\u001b[1;33m(\u001b[0m\u001b[0mself\u001b[0m\u001b[1;33m,\u001b[0m \u001b[0mpath\u001b[0m\u001b[1;33m,\u001b[0m \u001b[1;33m**\u001b[0m\u001b[0mkwargs\u001b[0m\u001b[1;33m)\u001b[0m \u001b[1;33m->\u001b[0m \u001b[0mResponse\u001b[0m\u001b[1;33m:\u001b[0m\u001b[1;33m\u001b[0m\u001b[1;33m\u001b[0m\u001b[0m\n",
      "\u001b[1;32mc:\\users\\driesseb\\dev\\openeo-python-client\\openeo\\rest\\connection.py\u001b[0m in \u001b[0;36mrequest\u001b[1;34m(self, method, path, headers, auth, check_error, expected_status, **kwargs)\u001b[0m\n\u001b[0;32m    119\u001b[0m         \u001b[0mexpected_status\u001b[0m \u001b[1;33m=\u001b[0m \u001b[0mensure_list\u001b[0m\u001b[1;33m(\u001b[0m\u001b[0mexpected_status\u001b[0m\u001b[1;33m)\u001b[0m \u001b[1;32mif\u001b[0m \u001b[0mexpected_status\u001b[0m \u001b[1;32melse\u001b[0m \u001b[1;33m[\u001b[0m\u001b[1;33m]\u001b[0m\u001b[1;33m\u001b[0m\u001b[1;33m\u001b[0m\u001b[0m\n\u001b[0;32m    120\u001b[0m         \u001b[1;32mif\u001b[0m \u001b[0mcheck_error\u001b[0m \u001b[1;32mand\u001b[0m \u001b[0mstatus\u001b[0m \u001b[1;33m>=\u001b[0m \u001b[1;36m400\u001b[0m \u001b[1;32mand\u001b[0m \u001b[0mstatus\u001b[0m \u001b[1;32mnot\u001b[0m \u001b[1;32min\u001b[0m \u001b[0mexpected_status\u001b[0m\u001b[1;33m:\u001b[0m\u001b[1;33m\u001b[0m\u001b[1;33m\u001b[0m\u001b[0m\n\u001b[1;32m--> 121\u001b[1;33m             \u001b[0mself\u001b[0m\u001b[1;33m.\u001b[0m\u001b[0m_raise_api_error\u001b[0m\u001b[1;33m(\u001b[0m\u001b[0mresp\u001b[0m\u001b[1;33m)\u001b[0m\u001b[1;33m\u001b[0m\u001b[1;33m\u001b[0m\u001b[0m\n\u001b[0m\u001b[0;32m    122\u001b[0m         \u001b[1;32mif\u001b[0m \u001b[0mexpected_status\u001b[0m \u001b[1;32mand\u001b[0m \u001b[0mstatus\u001b[0m \u001b[1;32mnot\u001b[0m \u001b[1;32min\u001b[0m \u001b[0mexpected_status\u001b[0m\u001b[1;33m:\u001b[0m\u001b[1;33m\u001b[0m\u001b[1;33m\u001b[0m\u001b[0m\n\u001b[0;32m    123\u001b[0m             raise OpenEoRestError(\"Got status code {s!r} for `{m} {p}` (expected {e!r})\".format(\n",
      "\u001b[1;32mc:\\users\\driesseb\\dev\\openeo-python-client\\openeo\\rest\\connection.py\u001b[0m in \u001b[0;36m_raise_api_error\u001b[1;34m(self, response)\u001b[0m\n\u001b[0;32m    150\u001b[0m             \u001b[1;32melse\u001b[0m\u001b[1;33m:\u001b[0m\u001b[1;33m\u001b[0m\u001b[1;33m\u001b[0m\u001b[0m\n\u001b[0;32m    151\u001b[0m                 \u001b[0mexception\u001b[0m \u001b[1;33m=\u001b[0m \u001b[0mOpenEoApiError\u001b[0m\u001b[1;33m(\u001b[0m\u001b[0mhttp_status_code\u001b[0m\u001b[1;33m=\u001b[0m\u001b[0mstatus_code\u001b[0m\u001b[1;33m,\u001b[0m \u001b[0mmessage\u001b[0m\u001b[1;33m=\u001b[0m\u001b[0mtext\u001b[0m\u001b[1;33m)\u001b[0m\u001b[1;33m\u001b[0m\u001b[1;33m\u001b[0m\u001b[0m\n\u001b[1;32m--> 152\u001b[1;33m         \u001b[1;32mraise\u001b[0m \u001b[0mexception\u001b[0m\u001b[1;33m\u001b[0m\u001b[1;33m\u001b[0m\u001b[0m\n\u001b[0m\u001b[0;32m    153\u001b[0m \u001b[1;33m\u001b[0m\u001b[0m\n\u001b[0;32m    154\u001b[0m     \u001b[1;32mdef\u001b[0m \u001b[0mget\u001b[0m\u001b[1;33m(\u001b[0m\u001b[0mself\u001b[0m\u001b[1;33m,\u001b[0m \u001b[0mpath\u001b[0m\u001b[1;33m,\u001b[0m \u001b[0mstream\u001b[0m\u001b[1;33m=\u001b[0m\u001b[1;32mFalse\u001b[0m\u001b[1;33m,\u001b[0m \u001b[0mauth\u001b[0m\u001b[1;33m:\u001b[0m \u001b[0mAuthBase\u001b[0m \u001b[1;33m=\u001b[0m \u001b[1;32mNone\u001b[0m\u001b[1;33m,\u001b[0m \u001b[1;33m**\u001b[0m\u001b[0mkwargs\u001b[0m\u001b[1;33m)\u001b[0m \u001b[1;33m->\u001b[0m \u001b[0mResponse\u001b[0m\u001b[1;33m:\u001b[0m\u001b[1;33m\u001b[0m\u001b[1;33m\u001b[0m\u001b[0m\n",
      "\u001b[1;31mOpenEoApiError\u001b[0m: [500] unknown: Did not find value which can be converted into java.lang.String"
     ]
    }
   ],
   "source": [
    "cube = features.filter_spatial(gpd.GeoDataFrame.from_features(json.loads(list(aoi.value.values())[0][\"content\"]))[\"geometry\"][0])\n",
    "predicted = cube.predict_random_forest(\n",
    "    model=\"f18fe77e-8767-4132-9977-43e13ae33999\",\n",
    "    dimension=\"bands\"\n",
    ")\n",
    "\n",
    "nieuwe_job = predicted.execute_batch(format=\"GTiff\")"
   ]
  },
  {
   "cell_type": "markdown",
   "id": "d1c0fb93",
   "metadata": {},
   "source": [
    "## References\n",
    "d'Andrimont, Raphaël, et al., 2021. \"LUCAS Copernicus 2018: Earth-observation-relevant in situ data on land cover and use throughout the European Union.\" Earth System Science Data 13.3 (2021): 1119-1133.\n",
    "\n",
    "Congalton, R. G., Gu, J., Yadav, K., Thenkabail, P., & Ozdogan, M. (2014). Global land cover mapping: A review and uncertainty analysis. Remote Sensing, 6(12), 12070-12093.\n",
    "\n",
    "Feddema, J. J., Oleson, K. W., Bonan, G. B., Mearns, L. O., Buja, L. E., Meehl, G. A., & Washington, W. M. (2005). The importance of land-cover change in simulating future climates. Science, 310(5754), 1674-1678.\n",
    "\n",
    "Running, S. W. (2008). Ecosystem disturbance, carbon, and climate. Science, 321(5889), 652-653.\n",
    "\n",
    "Sellers, P. J., Dickinson, R. E., Randall, D. A., Betts, A. K., Hall, F. G., Berry, J. A., ... & Henderson-Sellers, A. (1997). Modeling the exchanges of energy, water, and carbon between continents and the atmosphere. Science, 275(5299), 502-509.\n",
    "\n",
    "Tucker, C. J., Townshend, J. R., & Goff, T. E. (1985). African land-cover classification using satellite data. Science, 227(4685), 369-375.\n",
    "\n",
    "Yang, J., Gong, P., Fu, R., Zhang, M., Chen, J., Liang, S., ... & Dickinson, R. (2013). The role of satellite remote sensing in climate change studies. Nature climate change, 3(10), 875-883.\n",
    "\n",
    "Yu, L., Liang, L., Wang, J., Zhao, Y., Cheng, Q., Hu, L., ... & Gong, P. (2014). Meta-discoveries from a synthesis of satellite-based land-cover mapping research. International Journal of Remote Sensing, 35(13), 4573-4588."
   ]
  }
 ],
 "metadata": {
  "kernelspec": {
   "display_name": "Python 3",
   "language": "python",
   "name": "python3"
  },
  "language_info": {
   "codemirror_mode": {
    "name": "ipython",
    "version": 3
   },
   "file_extension": ".py",
   "mimetype": "text/x-python",
   "name": "python",
   "nbconvert_exporter": "python",
   "pygments_lexer": "ipython3",
   "version": "3.9.7"
  }
 },
 "nbformat": 4,
 "nbformat_minor": 5
}
